{
 "cells": [
  {
   "cell_type": "markdown",
   "id": "d55507d7",
   "metadata": {},
   "source": [
    "# Variables and Types\n",
    "\n",
    "\n",
    "* Variables and Types\n",
    "    * ints\n",
    "    * floats\n",
    "    * strings\n",
    "    * booleans\n",
    "    * converting between types\n",
    "    * operators\n",
    "        \n",
    "## Variables In Python\n",
    "\n",
    "The python language allows us to store data in named variables.  These variables hold data, which can either be mutated or not mutated.  Let's take a look at the main examples:\n",
    "\n",
    "* int - these are the generic integers\n",
    "* float - these are sort of like the \"real\" numbers from math, but they aren't as dense and they aren't infinite.  We call these the \"computables\" or the floating point numbers.\n",
    "* bool - this type of variable can only be `True` or `False`.\n",
    "* string - this type of variable contains \"characters\" that are strung together.  Strings are different than integers and floats in that they don't represent numbers.\n",
    "\n",
    "Examples in code:"
   ]
  },
  {
   "cell_type": "code",
   "execution_count": 1,
   "id": "aea658b8",
   "metadata": {},
   "outputs": [
    {
     "name": "stdout",
     "output_type": "stream",
     "text": [
      "0\n",
      "7\n",
      "7\n",
      "1.4\n"
     ]
    }
   ],
   "source": [
    "# Integer\n",
    "\n",
    "x = 0\n",
    "print(x)\n",
    "\n",
    "x = x + 7\n",
    "print(x)\n",
    "\n",
    "x * 4\n",
    "print(x)\n",
    "\n",
    "x /= 5\n",
    "print(x)"
   ]
  },
  {
   "cell_type": "markdown",
   "id": "3e705140",
   "metadata": {},
   "source": [
    "Here we have a simple program that creates a variable `x` and stores the value `0` in `x`.  This is done through the use of `=`.  Which in a program is not equality, but _assignment_.  Notice that if we want to mutate the stored value of `x` we need to first update the original value by another value and then store the result in the original variable.\n",
    "\n",
    "This is captured with the line:\n",
    "\n",
    "`x = x + 7`.\n",
    "\n",
    "As a counter example, if we simply multiple `x * 4`, but do not update it's value with an assignment statement, the value of x is not updated.  This is because programs are pedantic.  They will only do what you tell them, nothing more and nothing less.  And they will do it _exactly_.  \n",
    "\n",
    "Finally, having to write `x = x + whatever` is annoying, so programmers came up with the `operater=` short hand.\n",
    "\n",
    "We see that here with `/`, which stands for division.  Specifically, `/=`.  But this will work with _any_ of the mathematical operators we've seen so far.  So:\n",
    "\n",
    "* `+=` works\n",
    "* `-=` works\n",
    "* `*=` works\n",
    "* `/=` works\n",
    "\n",
    "Now then, we can carry out the same exercise with floating point numbers, we'll use `y` this time, instead of `x` just to keep things fresh:\n",
    "\n"
   ]
  },
  {
   "cell_type": "code",
   "execution_count": 2,
   "id": "80a188df",
   "metadata": {},
   "outputs": [
    {
     "name": "stdout",
     "output_type": "stream",
     "text": [
      "0.7\n",
      "7.8\n",
      "7.8\n",
      "1.368421052631579\n"
     ]
    }
   ],
   "source": [
    "# Floats\n",
    "\n",
    "y = 0.7\n",
    "print(y)\n",
    "\n",
    "y = y + 7.1\n",
    "print(y)\n",
    "\n",
    "y * 4.8\n",
    "print(y)\n",
    "\n",
    "y /= 5.7\n",
    "print(y)"
   ]
  },
  {
   "cell_type": "markdown",
   "id": "7e2d138f",
   "metadata": {},
   "source": [
    "As you can see, everything we can do with the integers we can do with the floats!  The only real difference is that floats have a decimal point.  This is how you can tell the difference between the two.  There is nothing new here (very much on purpose), so we'll move onto bools:"
   ]
  },
  {
   "cell_type": "code",
   "execution_count": 3,
   "id": "9418c59e",
   "metadata": {},
   "outputs": [
    {
     "name": "stdout",
     "output_type": "stream",
     "text": [
      "False\n",
      "True\n",
      "False\n"
     ]
    }
   ],
   "source": [
    "# Booleans\n",
    "\n",
    "x = True\n",
    "y = False\n",
    "\n",
    "print(x and y)\n",
    "print(x or y)\n",
    "print(not x)"
   ]
  },
  {
   "cell_type": "markdown",
   "id": "5b8293b2",
   "metadata": {},
   "source": [
    "Since booleans can only take on one of two values, we just capture both of them above.  The `and`, `or`, and `not` operator may be new to you.  But they should be pretty straight forward.\n",
    "\n",
    "As you saw above, plus some additions:\n",
    "\n",
    "* True and False = False\n",
    "* True and True = True\n",
    "* False and False = False\n",
    "* True or False = True\n",
    "* True or True = True\n",
    "* False or False = False\n",
    "* not True = False\n",
    "* not False = True\n",
    "\n",
    "Boolean variables may not seem useful, but they are of _huge_ importance for programming in Python.  In fact, they allow us to do things like this:"
   ]
  },
  {
   "cell_type": "code",
   "execution_count": 4,
   "id": "cd72c7bd",
   "metadata": {},
   "outputs": [
    {
     "name": "stdout",
     "output_type": "stream",
     "text": [
      "woah it worked\n"
     ]
    }
   ],
   "source": [
    "x = True\n",
    "if x == True:\n",
    "    print(\"woah it worked\")\n",
    "else:\n",
    "    print(\"something has gone wrong here\")"
   ]
  },
  {
   "cell_type": "markdown",
   "id": "0729bfc8",
   "metadata": {},
   "source": [
    "We'll look more in detail at flow of control in the next section, but for now, keep this in the back of your mind.  Now let's talk about some stuff related to types.\n",
    "\n",
    "Finally, let's look at strings:\n",
    "\n",
    "A string is a sequence of characters.  Let's look at an example:"
   ]
  },
  {
   "cell_type": "code",
   "execution_count": 46,
   "id": "27313be3",
   "metadata": {},
   "outputs": [
    {
     "data": {
      "text/plain": [
       "'57'"
      ]
     },
     "execution_count": 46,
     "metadata": {},
     "output_type": "execute_result"
    }
   ],
   "source": [
    "x = \"5\"\n",
    "\n",
    "y = \"7\"\n",
    "\n",
    "x + y"
   ]
  },
  {
   "cell_type": "markdown",
   "id": "06c209ce",
   "metadata": {},
   "source": [
    "The difference between the string `+` and the number `+` is that addition with numbers will lead to addition in the typical way.  When we add strings together, we do something called _concatenation_.  Let's look at a more typical example:"
   ]
  },
  {
   "cell_type": "code",
   "execution_count": 48,
   "id": "2e8d552e",
   "metadata": {},
   "outputs": [
    {
     "name": "stdout",
     "output_type": "stream",
     "text": [
      "Hello there new friend,\n"
     ]
    }
   ],
   "source": [
    "# Strings\n",
    "\n",
    "greeting = \"Hello there\"\n",
    "\n",
    "greeting += \" new friend,\"\n",
    "print(greeting)"
   ]
  },
  {
   "cell_type": "markdown",
   "id": "4cb8c607",
   "metadata": {},
   "source": [
    "As you can see in the above we can make use of the `+=` operator as well.  In addition to being able to concatenate strings, we can also select substrings with something called an index operator:"
   ]
  },
  {
   "cell_type": "code",
   "execution_count": 49,
   "id": "faa36894",
   "metadata": {},
   "outputs": [
    {
     "data": {
      "text/plain": [
       "'H'"
      ]
     },
     "execution_count": 49,
     "metadata": {},
     "output_type": "execute_result"
    }
   ],
   "source": [
    "greeting[0]"
   ]
  },
  {
   "cell_type": "markdown",
   "id": "bff7ec35",
   "metadata": {},
   "source": [
    "The above code selects the index at position zero, otherwise known as the first character of the string.  We can also select substrings with start and stop indices:"
   ]
  },
  {
   "cell_type": "code",
   "execution_count": 51,
   "id": "ff771308",
   "metadata": {},
   "outputs": [
    {
     "data": {
      "text/plain": [
       "'Hello there'"
      ]
     },
     "execution_count": 51,
     "metadata": {},
     "output_type": "execute_result"
    }
   ],
   "source": [
    "greeting[0:11]"
   ]
  },
  {
   "cell_type": "markdown",
   "id": "6f1bce65",
   "metadata": {},
   "source": [
    "In the above code we specify the start index, a `:` and the stop index like:\n",
    "\n",
    "`string[START INDEX GOES HERE : END INDEX GOES HERE]`.\n",
    "\n",
    "Because strings in Python are zero indexed, the end of the index will be a little odd, at first.  So if we want the 5th character, we need to get index 4:"
   ]
  },
  {
   "cell_type": "code",
   "execution_count": 52,
   "id": "89e29314",
   "metadata": {},
   "outputs": [
    {
     "data": {
      "text/plain": [
       "'e'"
      ]
     },
     "execution_count": 52,
     "metadata": {},
     "output_type": "execute_result"
    }
   ],
   "source": [
    "\"abcdefhijklmnopqrstuvwxyz\"[4]"
   ]
  },
  {
   "cell_type": "markdown",
   "id": "9ba109ee",
   "metadata": {},
   "source": [
    "In general, we need the n-1st index if we want the nth character in a string, because of the zero indexing."
   ]
  },
  {
   "cell_type": "markdown",
   "id": "0f2a49af",
   "metadata": {},
   "source": [
    "Moving on, suppose you are debugging some code, or you've written something and you aren't sure what it's type is, you can always figure it out with the `type` function.\n",
    "\n",
    "Let's look at some examples:"
   ]
  },
  {
   "cell_type": "code",
   "execution_count": 5,
   "id": "0805f71b",
   "metadata": {},
   "outputs": [
    {
     "data": {
      "text/plain": [
       "int"
      ]
     },
     "execution_count": 5,
     "metadata": {},
     "output_type": "execute_result"
    }
   ],
   "source": [
    "x = 7\n",
    "\n",
    "type(x)"
   ]
  },
  {
   "cell_type": "markdown",
   "id": "1dc84952",
   "metadata": {},
   "source": [
    "Here we see what the `type` function does - it tells you what type the variable is.  We can also see what `type` returns with:"
   ]
  },
  {
   "cell_type": "code",
   "execution_count": 6,
   "id": "04a36762",
   "metadata": {},
   "outputs": [
    {
     "data": {
      "text/plain": [
       "type"
      ]
     },
     "execution_count": 6,
     "metadata": {},
     "output_type": "execute_result"
    }
   ],
   "source": [
    "type(type(x))"
   ]
  },
  {
   "cell_type": "markdown",
   "id": "ca4a7ef0",
   "metadata": {},
   "source": [
    "You might have thought it returns a string, but in fact it returns a type of type 'type'.  This is important because the type, type can have extra information associated with it.  To see that, we are going to introduce another function -  `isinstance`:"
   ]
  },
  {
   "cell_type": "code",
   "execution_count": 7,
   "id": "0d333ecd",
   "metadata": {},
   "outputs": [
    {
     "data": {
      "text/plain": [
       "True"
      ]
     },
     "execution_count": 7,
     "metadata": {},
     "output_type": "execute_result"
    }
   ],
   "source": [
    "isinstance(x, int)"
   ]
  },
  {
   "cell_type": "markdown",
   "id": "20f9263b",
   "metadata": {},
   "source": [
    "The first argument of isinstance is a variable of any type, but the second input _needs_ to be of type, 'type', so you can be sure you are checking for a type.  \n",
    "\n",
    "Let's do some experiments now - suppose you did the following:"
   ]
  },
  {
   "cell_type": "code",
   "execution_count": 9,
   "id": "594c83ae",
   "metadata": {},
   "outputs": [],
   "source": [
    "y = 7 + 12.8"
   ]
  },
  {
   "cell_type": "markdown",
   "id": "99a9048f",
   "metadata": {},
   "source": [
    "What do you think the type of y ought to be?  We can figure this out by calling `type`:"
   ]
  },
  {
   "cell_type": "code",
   "execution_count": 10,
   "id": "bb0b5819",
   "metadata": {},
   "outputs": [
    {
     "data": {
      "text/plain": [
       "float"
      ]
     },
     "execution_count": 10,
     "metadata": {},
     "output_type": "execute_result"
    }
   ],
   "source": [
    "type(y)"
   ]
  },
  {
   "cell_type": "markdown",
   "id": "a3ee2366",
   "metadata": {},
   "source": [
    "Okay - what about this code?"
   ]
  },
  {
   "cell_type": "code",
   "execution_count": 11,
   "id": "2816e565",
   "metadata": {},
   "outputs": [],
   "source": [
    "z = \"Hello\" * 3"
   ]
  },
  {
   "cell_type": "markdown",
   "id": "062351ec",
   "metadata": {},
   "source": [
    "What do we think the type will be now?"
   ]
  },
  {
   "cell_type": "code",
   "execution_count": 12,
   "id": "24a9c1c4",
   "metadata": {},
   "outputs": [
    {
     "data": {
      "text/plain": [
       "str"
      ]
     },
     "execution_count": 12,
     "metadata": {},
     "output_type": "execute_result"
    }
   ],
   "source": [
    "type(z)"
   ]
  },
  {
   "cell_type": "markdown",
   "id": "29d6092d",
   "metadata": {},
   "source": [
    "Surprising!  Let's look at the value of z, just to see what's in it:"
   ]
  },
  {
   "cell_type": "code",
   "execution_count": 13,
   "id": "09deaf78",
   "metadata": {},
   "outputs": [
    {
     "data": {
      "text/plain": [
       "'HelloHelloHello'"
      ]
     },
     "execution_count": 13,
     "metadata": {},
     "output_type": "execute_result"
    }
   ],
   "source": [
    "z"
   ]
  },
  {
   "cell_type": "markdown",
   "id": "52aab926",
   "metadata": {},
   "source": [
    "Ah!  So multiplication repeats a string `n` times.  Very interesting!  Does `+` work?"
   ]
  },
  {
   "cell_type": "code",
   "execution_count": 14,
   "id": "b080d2e8",
   "metadata": {},
   "outputs": [
    {
     "ename": "TypeError",
     "evalue": "unsupported operand type(s) for +: 'int' and 'str'",
     "output_type": "error",
     "traceback": [
      "\u001b[0;31m---------------------------------------------------------------------------\u001b[0m",
      "\u001b[0;31mTypeError\u001b[0m                                 Traceback (most recent call last)",
      "\u001b[0;32m<ipython-input-14-117310c2c057>\u001b[0m in \u001b[0;36m<module>\u001b[0;34m\u001b[0m\n\u001b[0;32m----> 1\u001b[0;31m \u001b[0mw\u001b[0m \u001b[0;34m=\u001b[0m \u001b[0;36m8\u001b[0m \u001b[0;34m+\u001b[0m \u001b[0;34m\"something\"\u001b[0m\u001b[0;34m\u001b[0m\u001b[0;34m\u001b[0m\u001b[0m\n\u001b[0m",
      "\u001b[0;31mTypeError\u001b[0m: unsupported operand type(s) for +: 'int' and 'str'"
     ]
    }
   ],
   "source": [
    "w = 8 + \"something\""
   ]
  },
  {
   "cell_type": "markdown",
   "id": "ef131975",
   "metadata": {},
   "source": [
    "Nope!  Python throws an error, showing us that it doesn't work.  So far we've talked about a bunch of stuff, but there is one very special primitive type we haven't talked about yet - `None`.\n",
    "\n",
    "The `None` type is a singleton - in that it only has one value, `None`.  So if something is of type `None` then it's just that value.  Different programming languages express this concept differently.  But it generally means the same thing - a lack of value.  \n",
    "\n",
    "In particular `None` comes up a lot when we get to functions.  But it also comes up when we get to data analysis - specifically in that context, `None` means missing data.  This can happen when experimental data is either lost, wasn't recorded, or was just never captured.\n",
    "\n",
    "Imagine that you are gathering survey data.  And some of the participants don't get to the end of the survey.  In that case, do you throw out the partially filled out surveys?  Probably not!  Survey collection is expensive and difficult.  So the better thing to do is fillin a `None` value for any questions they didn't answer.  \n",
    "\n",
    "Let's see an example of a function that returns `None` that you've seen already:"
   ]
  },
  {
   "cell_type": "code",
   "execution_count": 15,
   "id": "d2f0711b",
   "metadata": {},
   "outputs": [
    {
     "name": "stdout",
     "output_type": "stream",
     "text": [
      "hello\n"
     ]
    }
   ],
   "source": [
    "output = print(\"hello\")"
   ]
  },
  {
   "cell_type": "code",
   "execution_count": 17,
   "id": "7c39f290",
   "metadata": {},
   "outputs": [
    {
     "data": {
      "text/plain": [
       "NoneType"
      ]
     },
     "execution_count": 17,
     "metadata": {},
     "output_type": "execute_result"
    }
   ],
   "source": [
    "type(output)"
   ]
  },
  {
   "cell_type": "markdown",
   "id": "6fbf871e",
   "metadata": {},
   "source": [
    "As you can see, this is the `None` we've been talking about. If we want to check this, we can't use the isinstance we've been talking about already:"
   ]
  },
  {
   "cell_type": "code",
   "execution_count": 20,
   "id": "c9e942f1",
   "metadata": {},
   "outputs": [
    {
     "ename": "TypeError",
     "evalue": "isinstance() arg 2 must be a type or tuple of types",
     "output_type": "error",
     "traceback": [
      "\u001b[0;31m---------------------------------------------------------------------------\u001b[0m",
      "\u001b[0;31mTypeError\u001b[0m                                 Traceback (most recent call last)",
      "\u001b[0;32m<ipython-input-20-761755a78fce>\u001b[0m in \u001b[0;36m<module>\u001b[0;34m\u001b[0m\n\u001b[0;32m----> 1\u001b[0;31m \u001b[0misinstance\u001b[0m\u001b[0;34m(\u001b[0m\u001b[0moutput\u001b[0m\u001b[0;34m,\u001b[0m \u001b[0;32mNone\u001b[0m\u001b[0;34m)\u001b[0m\u001b[0;34m\u001b[0m\u001b[0;34m\u001b[0m\u001b[0m\n\u001b[0m",
      "\u001b[0;31mTypeError\u001b[0m: isinstance() arg 2 must be a type or tuple of types"
     ]
    }
   ],
   "source": [
    "isinstance(output, None)"
   ]
  },
  {
   "cell_type": "markdown",
   "id": "8d01bd38",
   "metadata": {},
   "source": [
    "That's because `NoneType` isn't a recognized type like `int`.  So we'll need a different technique for this:"
   ]
  },
  {
   "cell_type": "code",
   "execution_count": 21,
   "id": "314d2db3",
   "metadata": {},
   "outputs": [
    {
     "data": {
      "text/plain": [
       "True"
      ]
     },
     "execution_count": 21,
     "metadata": {},
     "output_type": "execute_result"
    }
   ],
   "source": [
    "output is None"
   ]
  },
  {
   "cell_type": "markdown",
   "id": "c4cb01cd",
   "metadata": {},
   "source": [
    "Here we've used the `is` operator to figure out that this is `None`.  The reason we make use of the `is` operator because it checks for _true_ equality.  Let me show you what I mean!"
   ]
  },
  {
   "cell_type": "code",
   "execution_count": 23,
   "id": "f5e01ec2",
   "metadata": {},
   "outputs": [
    {
     "data": {
      "text/plain": [
       "False"
      ]
     },
     "execution_count": 23,
     "metadata": {},
     "output_type": "execute_result"
    }
   ],
   "source": [
    "x = 5.0\n",
    "y = 3 + 2\n",
    "\n",
    "x is y"
   ]
  },
  {
   "cell_type": "markdown",
   "id": "2de51767",
   "metadata": {},
   "source": [
    "Last time I checked 5.0 _equals_ 3+2, we can even check that it's the case with the double equals:"
   ]
  },
  {
   "cell_type": "code",
   "execution_count": 24,
   "id": "cd519c21",
   "metadata": {},
   "outputs": [
    {
     "data": {
      "text/plain": [
       "True"
      ]
     },
     "execution_count": 24,
     "metadata": {},
     "output_type": "execute_result"
    }
   ],
   "source": [
    "x == y"
   ]
  },
  {
   "cell_type": "markdown",
   "id": "5886166d",
   "metadata": {},
   "source": [
    "So what's going on here?!  Well, the `is` operator is _stronger_ than `==`.  It specifically asks, are these two things _exactly_ the same.  Do they have the same type?  Do they have the same value?  The answer is no in the case of `x` and `y`.  But it is in the case of `output` and `None`.\n",
    "\n",
    "Before we leave this section, there is one more topic we need to cover:\n",
    "\n",
    "Converting between types - sometimes this is called type casting.  With the Python basic types, we'll do this via the types themselves:"
   ]
  },
  {
   "cell_type": "code",
   "execution_count": 26,
   "id": "8fae189f",
   "metadata": {},
   "outputs": [
    {
     "name": "stdout",
     "output_type": "stream",
     "text": [
      "<class 'float'>\n",
      "Type of x after casting <class 'int'>\n"
     ]
    }
   ],
   "source": [
    "x = 5.0\n",
    "print(type(x))\n",
    "x = int(x)\n",
    "print(\"Type of x after casting\", type(x))"
   ]
  },
  {
   "cell_type": "markdown",
   "id": "96ecadd7",
   "metadata": {},
   "source": [
    "As you can see, we can type cast explicitly by using the type as a function, with a variable as input.  This works for all the basic types, when the conversion is defined:"
   ]
  },
  {
   "cell_type": "code",
   "execution_count": 27,
   "id": "9e28e1ad",
   "metadata": {},
   "outputs": [
    {
     "name": "stdout",
     "output_type": "stream",
     "text": [
      "5\n",
      "5.0\n",
      "True\n"
     ]
    }
   ],
   "source": [
    "x = 5.0\n",
    "print(int(x))\n",
    "print(str(x))\n",
    "print(bool(x))"
   ]
  },
  {
   "cell_type": "markdown",
   "id": "f4b84828",
   "metadata": {},
   "source": [
    "Here we've shown how the value `5.0` get's cast.  Next let's look at a special value `0`:"
   ]
  },
  {
   "cell_type": "code",
   "execution_count": 28,
   "id": "bf4e378f",
   "metadata": {},
   "outputs": [
    {
     "name": "stdout",
     "output_type": "stream",
     "text": [
      "0\n",
      "0.0\n",
      "False\n"
     ]
    }
   ],
   "source": [
    "x = 0.0\n",
    "print(int(x))\n",
    "print(str(x))\n",
    "print(bool(x))"
   ]
  },
  {
   "cell_type": "markdown",
   "id": "b159ce90",
   "metadata": {},
   "source": [
    "Notice that `0` gets cast to `False`, which is only true for that value:"
   ]
  },
  {
   "cell_type": "code",
   "execution_count": 29,
   "id": "4bf7ec41",
   "metadata": {},
   "outputs": [
    {
     "name": "stdout",
     "output_type": "stream",
     "text": [
      "19\n",
      "19.5\n",
      "True\n"
     ]
    }
   ],
   "source": [
    "x = 19.5\n",
    "print(int(x))\n",
    "print(str(x))\n",
    "print(bool(x))"
   ]
  },
  {
   "cell_type": "markdown",
   "id": "1914da53",
   "metadata": {},
   "source": [
    "As you can see, any other value will be cast to True.  Even values less than 1."
   ]
  },
  {
   "cell_type": "code",
   "execution_count": 30,
   "id": "5367db6b",
   "metadata": {},
   "outputs": [
    {
     "name": "stdout",
     "output_type": "stream",
     "text": [
      "0\n",
      "0.5\n",
      "True\n"
     ]
    }
   ],
   "source": [
    "x = 0.5\n",
    "print(int(x))\n",
    "print(str(x))\n",
    "print(bool(x))"
   ]
  },
  {
   "cell_type": "markdown",
   "id": "e7769f4d",
   "metadata": {},
   "source": [
    "Notice in the above example, since 0.5 is less than one, it gets cast to zero.  Does this hold for all values less than one but great than zero?"
   ]
  },
  {
   "cell_type": "code",
   "execution_count": 31,
   "id": "aa2c04ea",
   "metadata": {},
   "outputs": [
    {
     "name": "stdout",
     "output_type": "stream",
     "text": [
      "0\n",
      "0.7\n",
      "True\n"
     ]
    }
   ],
   "source": [
    "x = 0.7\n",
    "print(int(x))\n",
    "print(str(x))\n",
    "print(bool(x))"
   ]
  },
  {
   "cell_type": "markdown",
   "id": "58e76f61",
   "metadata": {},
   "source": [
    "Let's look at one more example:"
   ]
  },
  {
   "cell_type": "code",
   "execution_count": 32,
   "id": "127a384e",
   "metadata": {},
   "outputs": [
    {
     "name": "stdout",
     "output_type": "stream",
     "text": [
      "0\n",
      "0.99999\n",
      "True\n"
     ]
    }
   ],
   "source": [
    "x = 0.99999\n",
    "print(int(x))\n",
    "print(str(x))\n",
    "print(bool(x))"
   ]
  },
  {
   "cell_type": "markdown",
   "id": "126b14e3",
   "metadata": {},
   "source": [
    "As you can see, when casting between `floats` and `ints`, Python rounds down.  Now let's try converting an int to it's other respective types:"
   ]
  },
  {
   "cell_type": "code",
   "execution_count": 33,
   "id": "347258ae",
   "metadata": {},
   "outputs": [
    {
     "name": "stdout",
     "output_type": "stream",
     "text": [
      "1.0\n",
      "1\n",
      "True\n"
     ]
    }
   ],
   "source": [
    "x = 1\n",
    "print(float(x))\n",
    "print(str(x))\n",
    "print(bool(x))"
   ]
  },
  {
   "cell_type": "markdown",
   "id": "cf9a237a",
   "metadata": {},
   "source": [
    "As you can see, things happen as expected, based on the above examples.  Let's see what happens at zero, for consistency:"
   ]
  },
  {
   "cell_type": "code",
   "execution_count": 34,
   "id": "23ff2a62",
   "metadata": {},
   "outputs": [
    {
     "name": "stdout",
     "output_type": "stream",
     "text": [
      "0.0\n",
      "0\n",
      "False\n"
     ]
    }
   ],
   "source": [
    "x = 0\n",
    "print(float(x))\n",
    "print(str(x))\n",
    "print(bool(x))"
   ]
  },
  {
   "cell_type": "markdown",
   "id": "106099a3",
   "metadata": {},
   "source": [
    "As expected!  And let's try some big negative number:"
   ]
  },
  {
   "cell_type": "code",
   "execution_count": 35,
   "id": "d3b4eec6",
   "metadata": {},
   "outputs": [
    {
     "name": "stdout",
     "output_type": "stream",
     "text": [
      "-12391759182731.0\n",
      "-12391759182731\n",
      "True\n"
     ]
    }
   ],
   "source": [
    "x = -12391759182731\n",
    "print(float(x))\n",
    "print(str(x))\n",
    "print(bool(x))"
   ]
  },
  {
   "cell_type": "markdown",
   "id": "ecf75cef",
   "metadata": {},
   "source": [
    "Looks consistent! Alright, let's move onto strings:"
   ]
  },
  {
   "cell_type": "code",
   "execution_count": 36,
   "id": "6fc106b0",
   "metadata": {},
   "outputs": [
    {
     "ename": "ValueError",
     "evalue": "invalid literal for int() with base 10: 'hello'",
     "output_type": "error",
     "traceback": [
      "\u001b[0;31m---------------------------------------------------------------------------\u001b[0m",
      "\u001b[0;31mValueError\u001b[0m                                Traceback (most recent call last)",
      "\u001b[0;32m<ipython-input-36-3d27cbcec09a>\u001b[0m in \u001b[0;36m<module>\u001b[0;34m\u001b[0m\n\u001b[1;32m      1\u001b[0m \u001b[0mx\u001b[0m \u001b[0;34m=\u001b[0m \u001b[0;34m\"hello\"\u001b[0m\u001b[0;34m\u001b[0m\u001b[0;34m\u001b[0m\u001b[0m\n\u001b[0;32m----> 2\u001b[0;31m \u001b[0mprint\u001b[0m\u001b[0;34m(\u001b[0m\u001b[0mint\u001b[0m\u001b[0;34m(\u001b[0m\u001b[0mx\u001b[0m\u001b[0;34m)\u001b[0m\u001b[0;34m)\u001b[0m\u001b[0;34m\u001b[0m\u001b[0;34m\u001b[0m\u001b[0m\n\u001b[0m\u001b[1;32m      3\u001b[0m \u001b[0mprint\u001b[0m\u001b[0;34m(\u001b[0m\u001b[0mfloat\u001b[0m\u001b[0;34m(\u001b[0m\u001b[0mx\u001b[0m\u001b[0;34m)\u001b[0m\u001b[0;34m)\u001b[0m\u001b[0;34m\u001b[0m\u001b[0;34m\u001b[0m\u001b[0m\n\u001b[1;32m      4\u001b[0m \u001b[0mprint\u001b[0m\u001b[0;34m(\u001b[0m\u001b[0mbool\u001b[0m\u001b[0;34m(\u001b[0m\u001b[0mx\u001b[0m\u001b[0;34m)\u001b[0m\u001b[0;34m)\u001b[0m\u001b[0;34m\u001b[0m\u001b[0;34m\u001b[0m\u001b[0m\n",
      "\u001b[0;31mValueError\u001b[0m: invalid literal for int() with base 10: 'hello'"
     ]
    }
   ],
   "source": [
    "x = \"hello\"\n",
    "print(int(x))\n",
    "print(float(x))\n",
    "print(bool(x))"
   ]
  },
  {
   "cell_type": "markdown",
   "id": "c663f47a",
   "metadata": {},
   "source": [
    "As you can see here, strings with characters don't convert to numbers.  Because how would that even work?  Let's look at bool, just to see what happens there:"
   ]
  },
  {
   "cell_type": "code",
   "execution_count": 37,
   "id": "418d7cb1",
   "metadata": {},
   "outputs": [
    {
     "name": "stdout",
     "output_type": "stream",
     "text": [
      "True\n"
     ]
    }
   ],
   "source": [
    "x = \"hello\"\n",
    "print(bool(x))"
   ]
  },
  {
   "cell_type": "markdown",
   "id": "922249f4",
   "metadata": {},
   "source": [
    "Looks like strings resolve to `True`, however this isn't true for one special string - the empty string, denoted by `''`.  This is the string of _length_ zero.  It has no characters.  Since zero is false, a _zero_ character string also ends up this way:"
   ]
  },
  {
   "cell_type": "code",
   "execution_count": 38,
   "id": "724e888b",
   "metadata": {},
   "outputs": [
    {
     "name": "stdout",
     "output_type": "stream",
     "text": [
      "False\n"
     ]
    }
   ],
   "source": [
    "x = ''\n",
    "print(bool(x))"
   ]
  },
  {
   "cell_type": "markdown",
   "id": "b5581706",
   "metadata": {},
   "source": [
    "Before we leave strings, let's see what happens if we try to convert strings of numbers into numbers:"
   ]
  },
  {
   "cell_type": "code",
   "execution_count": 39,
   "id": "bb39a3cd",
   "metadata": {},
   "outputs": [
    {
     "name": "stdout",
     "output_type": "stream",
     "text": [
      "5\n",
      "5.0\n",
      "True\n"
     ]
    }
   ],
   "source": [
    "x = '5'\n",
    "print(int(x))\n",
    "print(float(x))\n",
    "print(bool(x))"
   ]
  },
  {
   "cell_type": "markdown",
   "id": "0850bd0d",
   "metadata": {},
   "source": [
    "This, perhaps surprisingly, works.  That's because the operations `int` and `float` _undo_ the conversion to string, as we saw in the first couple of examples, when we converted numbers _to_ strings.  Finally, let's look at a floating point number captured in a string:"
   ]
  },
  {
   "cell_type": "code",
   "execution_count": 40,
   "id": "0ba0aacb",
   "metadata": {},
   "outputs": [
    {
     "ename": "ValueError",
     "evalue": "invalid literal for int() with base 10: '5.12387'",
     "output_type": "error",
     "traceback": [
      "\u001b[0;31m---------------------------------------------------------------------------\u001b[0m",
      "\u001b[0;31mValueError\u001b[0m                                Traceback (most recent call last)",
      "\u001b[0;32m<ipython-input-40-20ca4c5ca46b>\u001b[0m in \u001b[0;36m<module>\u001b[0;34m\u001b[0m\n\u001b[1;32m      1\u001b[0m \u001b[0mx\u001b[0m \u001b[0;34m=\u001b[0m \u001b[0;34m'5.12387'\u001b[0m\u001b[0;34m\u001b[0m\u001b[0;34m\u001b[0m\u001b[0m\n\u001b[0;32m----> 2\u001b[0;31m \u001b[0mprint\u001b[0m\u001b[0;34m(\u001b[0m\u001b[0mint\u001b[0m\u001b[0;34m(\u001b[0m\u001b[0mx\u001b[0m\u001b[0;34m)\u001b[0m\u001b[0;34m)\u001b[0m\u001b[0;34m\u001b[0m\u001b[0;34m\u001b[0m\u001b[0m\n\u001b[0m\u001b[1;32m      3\u001b[0m \u001b[0mprint\u001b[0m\u001b[0;34m(\u001b[0m\u001b[0mfloat\u001b[0m\u001b[0;34m(\u001b[0m\u001b[0mx\u001b[0m\u001b[0;34m)\u001b[0m\u001b[0;34m)\u001b[0m\u001b[0;34m\u001b[0m\u001b[0;34m\u001b[0m\u001b[0m\n\u001b[1;32m      4\u001b[0m \u001b[0mprint\u001b[0m\u001b[0;34m(\u001b[0m\u001b[0mbool\u001b[0m\u001b[0;34m(\u001b[0m\u001b[0mx\u001b[0m\u001b[0;34m)\u001b[0m\u001b[0;34m)\u001b[0m\u001b[0;34m\u001b[0m\u001b[0;34m\u001b[0m\u001b[0m\n",
      "\u001b[0;31mValueError\u001b[0m: invalid literal for int() with base 10: '5.12387'"
     ]
    }
   ],
   "source": [
    "x = '5.12387'\n",
    "print(int(x))\n",
    "print(float(x))\n",
    "print(bool(x))"
   ]
  },
  {
   "cell_type": "markdown",
   "id": "9313be9e",
   "metadata": {},
   "source": [
    "Interestingly, the conversion to an `int` fails!  That's because Python is not smart enough to figure out this is a float wrapped in a string.  Let's see if the others work:"
   ]
  },
  {
   "cell_type": "code",
   "execution_count": 41,
   "id": "e8e1964e",
   "metadata": {},
   "outputs": [
    {
     "name": "stdout",
     "output_type": "stream",
     "text": [
      "5.12387\n",
      "True\n"
     ]
    }
   ],
   "source": [
    "x = '5.12387'\n",
    "print(float(x))\n",
    "print(bool(x))"
   ]
  },
  {
   "cell_type": "markdown",
   "id": "aa6bc598",
   "metadata": {},
   "source": [
    "Yup!  They do.  What if we really wanted to see the above code run with no errors?  We could convert to float first and then to a int:"
   ]
  },
  {
   "cell_type": "code",
   "execution_count": 42,
   "id": "a4c75f90",
   "metadata": {},
   "outputs": [
    {
     "name": "stdout",
     "output_type": "stream",
     "text": [
      "5\n",
      "5.12387\n",
      "True\n"
     ]
    }
   ],
   "source": [
    "x = '5.12387'\n",
    "print(int(float(x)))\n",
    "print(float(x))\n",
    "print(bool(x))"
   ]
  },
  {
   "cell_type": "markdown",
   "id": "fa78de14",
   "metadata": {},
   "source": [
    "Last but not least, let's look at booleans:"
   ]
  },
  {
   "cell_type": "code",
   "execution_count": 43,
   "id": "927d00a7",
   "metadata": {},
   "outputs": [
    {
     "name": "stdout",
     "output_type": "stream",
     "text": [
      "1\n",
      "1.0\n",
      "True\n"
     ]
    }
   ],
   "source": [
    "x = True\n",
    "print(int(x))\n",
    "print(float(x))\n",
    "print(str(x))"
   ]
  },
  {
   "cell_type": "code",
   "execution_count": 44,
   "id": "9a54c00b",
   "metadata": {},
   "outputs": [
    {
     "name": "stdout",
     "output_type": "stream",
     "text": [
      "0\n",
      "0.0\n",
      "False\n"
     ]
    }
   ],
   "source": [
    "x = False\n",
    "print(int(x))\n",
    "print(float(x))\n",
    "print(str(x))"
   ]
  }
 ],
 "metadata": {
  "kernelspec": {
   "display_name": "Python 3",
   "language": "python",
   "name": "python3"
  },
  "language_info": {
   "codemirror_mode": {
    "name": "ipython",
    "version": 3
   },
   "file_extension": ".py",
   "mimetype": "text/x-python",
   "name": "python",
   "nbconvert_exporter": "python",
   "pygments_lexer": "ipython3",
   "version": "3.9.5"
  }
 },
 "nbformat": 4,
 "nbformat_minor": 5
}