{
 "cells": [
  {
   "cell_type": "markdown",
   "id": "53e9b4b5",
   "metadata": {},
   "source": [
    "# String Processing, Files and Exceptions\n",
    "\n",
    "In this section we will discuss string processing, files and exceptions.  These topics may appear disperate, but really they are all about how to read and process files.\n",
    "\n",
    "## Reading And Writing Files\n",
    "\n",
    "We can think of a file as just a giant string, stored on the disk as a file, rather than in memory.  Reading and writing files therefore is pretty straight forward.  Let's look at how to write a file in Python:"
   ]
  },
  {
   "cell_type": "code",
   "execution_count": 1,
   "id": "9c488ec8",
   "metadata": {},
   "outputs": [],
   "source": [
    "f = open(\"new_file.txt\", \"w\")\n",
    "f.write(\"Hello there\")\n",
    "f.close()"
   ]
  },
  {
   "cell_type": "markdown",
   "id": "cba65fd1",
   "metadata": {},
   "source": [
    "The above code will open a file called `new_file.txt`.  Since we pass the \"w\" flag, the file will be opened for writing, meaning it will _overwrite_ any content that is already there.  \n",
    "\n",
    "The thing we get back, in this case `f` for file, is sometimes called a file handle.  The object f comes with the following functions:"
   ]
  },
  {
   "cell_type": "code",
   "execution_count": 4,
   "id": "638923d3",
   "metadata": {},
   "outputs": [
    {
     "data": {
      "text/plain": [
       "['buffer',\n",
       " 'close',\n",
       " 'closed',\n",
       " 'detach',\n",
       " 'encoding',\n",
       " 'errors',\n",
       " 'fileno',\n",
       " 'flush',\n",
       " 'isatty',\n",
       " 'line_buffering',\n",
       " 'mode',\n",
       " 'name',\n",
       " 'newlines',\n",
       " 'read',\n",
       " 'readable',\n",
       " 'readline',\n",
       " 'readlines',\n",
       " 'reconfigure',\n",
       " 'seek',\n",
       " 'seekable',\n",
       " 'tell',\n",
       " 'truncate',\n",
       " 'writable',\n",
       " 'write',\n",
       " 'write_through',\n",
       " 'writelines']"
      ]
     },
     "execution_count": 4,
     "metadata": {},
     "output_type": "execute_result"
    }
   ],
   "source": [
    "[elem for elem in dir(f) if \"__\" not in elem and not elem.startswith(\"_\")]"
   ]
  },
  {
   "cell_type": "markdown",
   "id": "8babe9bb",
   "metadata": {},
   "source": [
    "We will be interested in any method with read or write.  As you saw above we used, the `write` method to write the string to the file.  Next let's see how to read from a file:"
   ]
  },
  {
   "cell_type": "code",
   "execution_count": 5,
   "id": "cc7510a8",
   "metadata": {},
   "outputs": [
    {
     "name": "stdout",
     "output_type": "stream",
     "text": [
      "Hello there\n"
     ]
    }
   ],
   "source": [
    "with open(\"new_file.txt\", \"r\") as f:\n",
    "    print(f.read())"
   ]
  },
  {
   "cell_type": "markdown",
   "id": "7cb4fccc",
   "metadata": {},
   "source": [
    "Here we read the file contents that we wrote to the file in the step above.  So we can think of files as a way to _store_ information beyond the running time of a program.  This notion will be very helpful for things like log files, generating text, or any number of varied applications.\n",
    "\n",
    "Notice that we use the `with` statement like we did in a previous section.  The `with` statement is used with any object that has aboth an `__enter__` method and a `__exit__` method.  We can verify our `f` object has both with `dir`:"
   ]
  },
  {
   "cell_type": "code",
   "execution_count": 7,
   "id": "25d7a56c",
   "metadata": {},
   "outputs": [
    {
     "name": "stdout",
     "output_type": "stream",
     "text": [
      "yay, we understand\n"
     ]
    }
   ],
   "source": [
    "if '__exit__' in dir(f) and '__enter__' in dir(f):\n",
    "    print(\"yay, we understand\")\n",
    "else:\n",
    "    print(\"oh no!  Python's API has changed\")"
   ]
  },
  {
   "cell_type": "markdown",
   "id": "2d6f349d",
   "metadata": {},
   "source": [
    "The `__enter__` method tells Python what to do when the object is created - in this case the `__enter__` method looks for the file in the current working directory, if Python finds it, then it opens the file.  If the file is opened for reading this allows the program to read the contents of the file.  If the file is opened for writing, the contents in the file are cleared, and any text written to the file will take it's place.  \n",
    "\n",
    "The `__exit__` method tells us what to do when we leave the scope of the `with` statement, specified by the indent after the `with` statement.  Here the `__exit__` method closes the file.  Therefore once we return to code that is not indented within the `with` statement, we can no longer read from or write to the file.  \n",
    "\n",
    "Next let's look at readlines:"
   ]
  },
  {
   "cell_type": "code",
   "execution_count": 10,
   "id": "9f2ceb8f",
   "metadata": {},
   "outputs": [
    {
     "data": {
      "text/plain": [
       "['Hello there.\\n', 'My name is Eric.\\n', 'And I love Data Science.\\n']"
      ]
     },
     "execution_count": 10,
     "metadata": {},
     "output_type": "execute_result"
    }
   ],
   "source": [
    "with open(\"new_file.txt\", \"w\") as f:\n",
    "    f.write(\"Hello there.\\n\")\n",
    "    f.write(\"My name is Eric.\\n\")\n",
    "    f.write(\"And I love Data Science.\\n\")\n",
    "    \n",
    "with open(\"new_file.txt\", \"r\") as f:\n",
    "    text = f.readlines()\n",
    "    \n",
    "text"
   ]
  },
  {
   "cell_type": "markdown",
   "id": "08d06de6",
   "metadata": {},
   "source": [
    "The readlines function will read each line in the file as the next element in a list.  This is parsed for us automatically, but unfortunately keeps the newline character, we specified to tell the text to appear on separate lines.  We can get rid of the newline character `\\n` with the string method replace:"
   ]
  },
  {
   "cell_type": "code",
   "execution_count": 11,
   "id": "7bcfe2ac",
   "metadata": {},
   "outputs": [
    {
     "data": {
      "text/plain": [
       "['Hello there.', 'My name is Eric.', 'And I love Data Science.']"
      ]
     },
     "execution_count": 11,
     "metadata": {},
     "output_type": "execute_result"
    }
   ],
   "source": [
    "text = [elem.replace(\"\\n\", \"\") for elem in text]\n",
    "\n",
    "text"
   ]
  },
  {
   "cell_type": "markdown",
   "id": "f85a2320",
   "metadata": {},
   "source": [
    "All better!  The replace method is pretty amazing: It will replace any substring in a string with another string.  This means we can use it to delete or modify a string with ease.  Let's see what happens if there are multiple characters that match the initial substring we provide, will `replace` replace all of the instances?"
   ]
  },
  {
   "cell_type": "code",
   "execution_count": 12,
   "id": "9e811784",
   "metadata": {},
   "outputs": [
    {
     "data": {
      "text/plain": [
       "'bbbb'"
      ]
     },
     "execution_count": 12,
     "metadata": {},
     "output_type": "execute_result"
    }
   ],
   "source": [
    "\"aaaaaabbbb\".replace(\"a\", \"\")"
   ]
  },
  {
   "cell_type": "markdown",
   "id": "c3274a3a",
   "metadata": {},
   "source": [
    "Very clearly, yes.  This is both powerful, and potentially dangerous.  What do you do if you want to all replace a single instance of a substring within a string?  Let's look at an example for how to do this:"
   ]
  },
  {
   "cell_type": "code",
   "execution_count": 15,
   "id": "a9b9436c",
   "metadata": {},
   "outputs": [
    {
     "data": {
      "text/plain": [
       "'The brown dog runs fast through the fields.  And the orange cat wants to find a ball.'"
      ]
     },
     "execution_count": 15,
     "metadata": {},
     "output_type": "execute_result"
    }
   ],
   "source": [
    "string = \"\"\"\n",
    "The brown dog runs fast through the fields.  And the orange cat wants to find the ball.\n",
    "\"\"\"\n",
    "\n",
    "substrings = string.split(\"wants\")\n",
    "substrings[1] = substrings[1].replace(\"the\", \"a\")\n",
    "\"wants\".join(substrings).replace(\"\\n\", \"\")"
   ]
  },
  {
   "cell_type": "markdown",
   "id": "3c122db6",
   "metadata": {},
   "source": [
    "This method shows how we can split on a specific word or phrase that separates the string into two substrings.  Then we act on the substring of instance, updating what's required.  \n",
    "\n",
    "In addition to being able to replace to mutate strings, we can upper case, captialize or lower case strings with ease:"
   ]
  },
  {
   "cell_type": "code",
   "execution_count": 19,
   "id": "20ef0739",
   "metadata": {},
   "outputs": [
    {
     "name": "stdout",
     "output_type": "stream",
     "text": [
      "HELLO THERE\n",
      "hello there\n",
      "Hello there\n",
      "Hello There\n"
     ]
    }
   ],
   "source": [
    "string = \"Hello there\"\n",
    "string = string.upper()\n",
    "print(string)\n",
    "string = string.lower()\n",
    "print(string)\n",
    "string = string.capitalize()\n",
    "print(string)\n",
    "string = \" \".join([elem.capitalize() for elem in string.split()])\n",
    "print(string)"
   ]
  },
  {
   "cell_type": "markdown",
   "id": "d7e500eb",
   "metadata": {},
   "source": [
    "In the fourth instance, we captialize each word in the string.  Finally, we can check if a character is a letter, a number or either a letter or number:"
   ]
  },
  {
   "cell_type": "code",
   "execution_count": 23,
   "id": "0a4fb76c",
   "metadata": {},
   "outputs": [
    {
     "name": "stdout",
     "output_type": "stream",
     "text": [
      "True\n",
      "False\n"
     ]
    }
   ],
   "source": [
    "print(\"9\".isnumeric())\n",
    "print(\"9\".isalpha())"
   ]
  },
  {
   "cell_type": "code",
   "execution_count": 24,
   "id": "2e044b56",
   "metadata": {},
   "outputs": [
    {
     "name": "stdout",
     "output_type": "stream",
     "text": [
      "False\n",
      "True\n"
     ]
    }
   ],
   "source": [
    "print(\"a\".isnumeric())\n",
    "print(\"a\".isalpha())"
   ]
  },
  {
   "cell_type": "code",
   "execution_count": 26,
   "id": "2f162137",
   "metadata": {},
   "outputs": [
    {
     "name": "stdout",
     "output_type": "stream",
     "text": [
      "True\n",
      "True\n"
     ]
    }
   ],
   "source": [
    "print(\"a\".isalnum())\n",
    "print(\"9\".isalnum())"
   ]
  },
  {
   "cell_type": "code",
   "execution_count": 31,
   "id": "89a882a4",
   "metadata": {},
   "outputs": [
    {
     "name": "stdout",
     "output_type": "stream",
     "text": [
      "False\n",
      "False\n",
      "False\n",
      "False\n",
      "False\n"
     ]
    }
   ],
   "source": [
    "print(\"/\".isalnum())\n",
    "print(\"#\".isalnum())\n",
    "print(\".\".isalnum())\n",
    "print(\"?\".isalnum())\n",
    "print(\"<\".isalnum())"
   ]
  },
  {
   "cell_type": "markdown",
   "id": "e4c32dcb",
   "metadata": {},
   "source": [
    "As you can see, anything that's considered a 'special' character is not considered a number or letter, even if that character is related to letters or numbers, like `<` is related to numbers and `.` is related to letters.\n",
    "\n",
    "Now that we can read, write and process files - let's talk about exceptions.  An exception can occur in many ways and cases, but generally happens when you write code that follows Python syntax, but is wrong for some other reason.  One example is not initializing a variable and trying to write to it:"
   ]
  },
  {
   "cell_type": "code",
   "execution_count": 39,
   "id": "9a4afd9f",
   "metadata": {},
   "outputs": [
    {
     "ename": "NameError",
     "evalue": "name 'b' is not defined",
     "output_type": "error",
     "traceback": [
      "\u001b[0;31m---------------------------------------------------------------------------\u001b[0m",
      "\u001b[0;31mNameError\u001b[0m                                 Traceback (most recent call last)",
      "\u001b[0;32m<ipython-input-39-6dac58ba8c76>\u001b[0m in \u001b[0;36m<module>\u001b[0;34m\u001b[0m\n\u001b[0;32m----> 1\u001b[0;31m \u001b[0mb\u001b[0m \u001b[0;34m+=\u001b[0m \u001b[0;36m5\u001b[0m\u001b[0;34m\u001b[0m\u001b[0;34m\u001b[0m\u001b[0m\n\u001b[0m",
      "\u001b[0;31mNameError\u001b[0m: name 'b' is not defined"
     ]
    }
   ],
   "source": [
    "b += 5"
   ]
  },
  {
   "cell_type": "markdown",
   "id": "56444cdc",
   "metadata": {},
   "source": [
    "In this case we get a `NameError` exception.  In some cases, Python doesn't know well enough what's correct and what's not.  In those cases, we can catch exceptions with a `try` and `except` block:"
   ]
  },
  {
   "cell_type": "code",
   "execution_count": 40,
   "id": "7e3b1f8d",
   "metadata": {},
   "outputs": [
    {
     "name": "stdout",
     "output_type": "stream",
     "text": [
      "exception reached\n"
     ]
    }
   ],
   "source": [
    "try:\n",
    "    b += 5\n",
    "except:\n",
    "    print(\"exception reached\")"
   ]
  },
  {
   "cell_type": "markdown",
   "id": "26da1156",
   "metadata": {},
   "source": [
    "Next let's look what happens when we try to call a function that doesn't exist:"
   ]
  },
  {
   "cell_type": "code",
   "execution_count": 41,
   "id": "138cd35d",
   "metadata": {},
   "outputs": [
    {
     "ename": "NameError",
     "evalue": "name 'thing' is not defined",
     "output_type": "error",
     "traceback": [
      "\u001b[0;31m---------------------------------------------------------------------------\u001b[0m",
      "\u001b[0;31mNameError\u001b[0m                                 Traceback (most recent call last)",
      "\u001b[0;32m<ipython-input-41-74d67ed39d68>\u001b[0m in \u001b[0;36m<module>\u001b[0;34m\u001b[0m\n\u001b[0;32m----> 1\u001b[0;31m \u001b[0mthing\u001b[0m\u001b[0;34m(\u001b[0m\u001b[0;34m)\u001b[0m\u001b[0;34m\u001b[0m\u001b[0;34m\u001b[0m\u001b[0m\n\u001b[0m",
      "\u001b[0;31mNameError\u001b[0m: name 'thing' is not defined"
     ]
    }
   ],
   "source": [
    "thing()"
   ]
  },
  {
   "cell_type": "markdown",
   "id": "ae66855f",
   "metadata": {},
   "source": [
    "Again we see this is a name error.  Which we can also catch with `try except`:"
   ]
  },
  {
   "cell_type": "code",
   "execution_count": 43,
   "id": "79ad6d3e",
   "metadata": {},
   "outputs": [
    {
     "name": "stdout",
     "output_type": "stream",
     "text": [
      "no function exists named thing\n"
     ]
    }
   ],
   "source": [
    "try:\n",
    "    thing()\n",
    "except:\n",
    "    print(\"no function exists named thing\")"
   ]
  },
  {
   "cell_type": "markdown",
   "id": "37dc1f27",
   "metadata": {},
   "source": [
    "We can also also try to read from a file that doesn't exist:"
   ]
  },
  {
   "cell_type": "code",
   "execution_count": 44,
   "id": "71b9aa1c",
   "metadata": {},
   "outputs": [
    {
     "ename": "FileNotFoundError",
     "evalue": "[Errno 2] No such file or directory: 'hello.txt'",
     "output_type": "error",
     "traceback": [
      "\u001b[0;31m---------------------------------------------------------------------------\u001b[0m",
      "\u001b[0;31mFileNotFoundError\u001b[0m                         Traceback (most recent call last)",
      "\u001b[0;32m<ipython-input-44-3b20874bdb8a>\u001b[0m in \u001b[0;36m<module>\u001b[0;34m\u001b[0m\n\u001b[0;32m----> 1\u001b[0;31m \u001b[0mopen\u001b[0m\u001b[0;34m(\u001b[0m\u001b[0;34m\"hello.txt\"\u001b[0m\u001b[0;34m,\u001b[0m \u001b[0;34m\"r\"\u001b[0m\u001b[0;34m)\u001b[0m\u001b[0;34m\u001b[0m\u001b[0;34m\u001b[0m\u001b[0m\n\u001b[0m",
      "\u001b[0;31mFileNotFoundError\u001b[0m: [Errno 2] No such file or directory: 'hello.txt'"
     ]
    }
   ],
   "source": [
    "open(\"hello.txt\", \"r\")"
   ]
  },
  {
   "cell_type": "markdown",
   "id": "0d0bda7b",
   "metadata": {},
   "source": [
    "This raises a different error, in this case `FileNotFoundError`, which means the file doesn't exist.  For this we can do a `try except` as well:"
   ]
  },
  {
   "cell_type": "code",
   "execution_count": 45,
   "id": "dd09a360",
   "metadata": {},
   "outputs": [],
   "source": [
    "try:\n",
    "    f = open(\"hello.txt\", \"r\")\n",
    "except:\n",
    "    f = open(\"hello.txt\", \"w\")\n",
    "    f.write(\"\")\n",
    "    f.close()"
   ]
  },
  {
   "cell_type": "markdown",
   "id": "cdfb9f7e",
   "metadata": {},
   "source": [
    "In this case, if the file doesn't exist, we create it, so that we don't run into that error next time.  Of course, this error will depend on the requirements of the program.\n",
    "\n",
    "In some cases, we only want to catch certain kinds of errors, but let other errors pass through and stop a program.  For this, we can specific what kind of exception to catch.  For instance:"
   ]
  },
  {
   "cell_type": "code",
   "execution_count": 46,
   "id": "068bab75",
   "metadata": {},
   "outputs": [
    {
     "ename": "NameError",
     "evalue": "name 'x' is not defined",
     "output_type": "error",
     "traceback": [
      "\u001b[0;31m---------------------------------------------------------------------------\u001b[0m",
      "\u001b[0;31mNameError\u001b[0m                                 Traceback (most recent call last)",
      "\u001b[0;32m<ipython-input-46-2d914428eeb5>\u001b[0m in \u001b[0;36m<module>\u001b[0;34m\u001b[0m\n\u001b[1;32m      1\u001b[0m \u001b[0;32mtry\u001b[0m\u001b[0;34m:\u001b[0m\u001b[0;34m\u001b[0m\u001b[0;34m\u001b[0m\u001b[0m\n\u001b[0;32m----> 2\u001b[0;31m     \u001b[0mx\u001b[0m \u001b[0;34m+=\u001b[0m \u001b[0;36m7\u001b[0m\u001b[0;34m\u001b[0m\u001b[0;34m\u001b[0m\u001b[0m\n\u001b[0m\u001b[1;32m      3\u001b[0m     \u001b[0mf\u001b[0m \u001b[0;34m=\u001b[0m \u001b[0mopen\u001b[0m\u001b[0;34m(\u001b[0m\u001b[0;34m\"log.txt\"\u001b[0m\u001b[0;34m,\u001b[0m \u001b[0;34m\"r\"\u001b[0m\u001b[0;34m)\u001b[0m\u001b[0;34m\u001b[0m\u001b[0;34m\u001b[0m\u001b[0m\n\u001b[1;32m      4\u001b[0m \u001b[0;32mexcept\u001b[0m \u001b[0mFileNotFoundError\u001b[0m\u001b[0;34m:\u001b[0m\u001b[0;34m\u001b[0m\u001b[0;34m\u001b[0m\u001b[0m\n\u001b[1;32m      5\u001b[0m     \u001b[0mf\u001b[0m \u001b[0;34m=\u001b[0m \u001b[0mopen\u001b[0m\u001b[0;34m(\u001b[0m\u001b[0;34m\"log.txt\"\u001b[0m\u001b[0;34m,\u001b[0m \u001b[0;34m\"w\"\u001b[0m\u001b[0;34m)\u001b[0m\u001b[0;34m\u001b[0m\u001b[0;34m\u001b[0m\u001b[0m\n",
      "\u001b[0;31mNameError\u001b[0m: name 'x' is not defined"
     ]
    }
   ],
   "source": [
    "try:\n",
    "    x += 7\n",
    "    f = open(\"log.txt\", \"r\")\n",
    "except FileNotFoundError:\n",
    "    f = open(\"log.txt\", \"w\")\n",
    "    f.write(\"log file generated\")\n",
    "    f.close()"
   ]
  },
  {
   "cell_type": "markdown",
   "id": "291bd762",
   "metadata": {},
   "source": [
    "In this case, the code fails because the variable `x` did not exist.  However, if only the `log.txt` file didn't exist, then the code would still run:"
   ]
  },
  {
   "cell_type": "code",
   "execution_count": 47,
   "id": "e69809e4",
   "metadata": {},
   "outputs": [],
   "source": [
    "x = 0\n",
    "try:\n",
    "    x += 7\n",
    "    f = open(\"log.txt\", \"r\")\n",
    "except FileNotFoundError:\n",
    "    f = open(\"log.txt\", \"w\")\n",
    "    f.write(\"log file generated\")\n",
    "    f.close()"
   ]
  },
  {
   "cell_type": "markdown",
   "id": "153da33a",
   "metadata": {},
   "source": [
    "This is because we specifically catch the `FileNotFoundError`, rather than _any_ error.  In addition to being able to make use of Python's built-in exceptions, you can also make custom exceptions.  Typically this is done in functions like so:"
   ]
  },
  {
   "cell_type": "code",
   "execution_count": 48,
   "id": "c5d00dd5",
   "metadata": {},
   "outputs": [
    {
     "ename": "Exception",
     "evalue": "This function does not accept strings",
     "output_type": "error",
     "traceback": [
      "\u001b[0;31m---------------------------------------------------------------------------\u001b[0m",
      "\u001b[0;31mException\u001b[0m                                 Traceback (most recent call last)",
      "\u001b[0;32m<ipython-input-48-929b94951e59>\u001b[0m in \u001b[0;36m<module>\u001b[0;34m\u001b[0m\n\u001b[1;32m      4\u001b[0m     \u001b[0;32mreturn\u001b[0m \u001b[0mx\u001b[0m \u001b[0;34m+\u001b[0m \u001b[0;36m7\u001b[0m\u001b[0;34m\u001b[0m\u001b[0;34m\u001b[0m\u001b[0m\n\u001b[1;32m      5\u001b[0m \u001b[0;34m\u001b[0m\u001b[0m\n\u001b[0;32m----> 6\u001b[0;31m \u001b[0mthing\u001b[0m\u001b[0;34m(\u001b[0m\u001b[0;34m\"hello\"\u001b[0m\u001b[0;34m)\u001b[0m\u001b[0;34m\u001b[0m\u001b[0;34m\u001b[0m\u001b[0m\n\u001b[0m",
      "\u001b[0;32m<ipython-input-48-929b94951e59>\u001b[0m in \u001b[0;36mthing\u001b[0;34m(x)\u001b[0m\n\u001b[1;32m      1\u001b[0m \u001b[0;32mdef\u001b[0m \u001b[0mthing\u001b[0m\u001b[0;34m(\u001b[0m\u001b[0mx\u001b[0m\u001b[0;34m)\u001b[0m\u001b[0;34m:\u001b[0m\u001b[0;34m\u001b[0m\u001b[0;34m\u001b[0m\u001b[0m\n\u001b[1;32m      2\u001b[0m     \u001b[0;32mif\u001b[0m \u001b[0misinstance\u001b[0m\u001b[0;34m(\u001b[0m\u001b[0mx\u001b[0m\u001b[0;34m,\u001b[0m \u001b[0mstr\u001b[0m\u001b[0;34m)\u001b[0m\u001b[0;34m:\u001b[0m\u001b[0;34m\u001b[0m\u001b[0;34m\u001b[0m\u001b[0m\n\u001b[0;32m----> 3\u001b[0;31m         \u001b[0;32mraise\u001b[0m \u001b[0mException\u001b[0m\u001b[0;34m(\u001b[0m\u001b[0;34m\"This function does not accept strings\"\u001b[0m\u001b[0;34m)\u001b[0m\u001b[0;34m\u001b[0m\u001b[0;34m\u001b[0m\u001b[0m\n\u001b[0m\u001b[1;32m      4\u001b[0m     \u001b[0;32mreturn\u001b[0m \u001b[0mx\u001b[0m \u001b[0;34m+\u001b[0m \u001b[0;36m7\u001b[0m\u001b[0;34m\u001b[0m\u001b[0;34m\u001b[0m\u001b[0m\n\u001b[1;32m      5\u001b[0m \u001b[0;34m\u001b[0m\u001b[0m\n",
      "\u001b[0;31mException\u001b[0m: This function does not accept strings"
     ]
    }
   ],
   "source": [
    "def thing(x):\n",
    "    if isinstance(x, str):\n",
    "        raise Exception(\"This function does not accept strings\")\n",
    "    return x + 7\n",
    "\n",
    "thing(\"hello\")"
   ]
  },
  {
   "cell_type": "markdown",
   "id": "d5ee3991",
   "metadata": {},
   "source": [
    "However if we pass the correct parameter type:"
   ]
  },
  {
   "cell_type": "code",
   "execution_count": 49,
   "id": "a06b486b",
   "metadata": {},
   "outputs": [
    {
     "data": {
      "text/plain": [
       "13"
      ]
     },
     "execution_count": 49,
     "metadata": {},
     "output_type": "execute_result"
    }
   ],
   "source": [
    "thing(6)"
   ]
  },
  {
   "cell_type": "markdown",
   "id": "aff301de",
   "metadata": {},
   "source": [
    "It works as expected!"
   ]
  }
 ],
 "metadata": {
  "kernelspec": {
   "display_name": "Python 3",
   "language": "python",
   "name": "python3"
  },
  "language_info": {
   "codemirror_mode": {
    "name": "ipython",
    "version": 3
   },
   "file_extension": ".py",
   "mimetype": "text/x-python",
   "name": "python",
   "nbconvert_exporter": "python",
   "pygments_lexer": "ipython3",
   "version": "3.9.5"
  }
 },
 "nbformat": 4,
 "nbformat_minor": 5
}