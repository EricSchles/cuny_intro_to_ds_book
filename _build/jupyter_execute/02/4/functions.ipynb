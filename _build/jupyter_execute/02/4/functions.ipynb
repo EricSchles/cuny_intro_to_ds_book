{
 "cells": [
  {
   "cell_type": "markdown",
   "id": "8d5641ea",
   "metadata": {},
   "source": [
    "# Functions\n",
    "\n",
    "We've informally seen functions throughout this book so far, but now we'll give them a formal introduction.  Let's look at an example:"
   ]
  },
  {
   "cell_type": "code",
   "execution_count": 1,
   "id": "eac0b07c",
   "metadata": {},
   "outputs": [
    {
     "data": {
      "text/plain": [
       "'Hello Eric'"
      ]
     },
     "execution_count": 1,
     "metadata": {},
     "output_type": "execute_result"
    }
   ],
   "source": [
    "def greeting(name):\n",
    "    return \"Hello \" + name\n",
    "\n",
    "greeting(\"Eric\")"
   ]
  },
  {
   "cell_type": "markdown",
   "id": "2b01a962",
   "metadata": {},
   "source": [
    "Let's look at the syntax around functions:\n",
    "\n",
    "```\n",
    "def FUNCTION_NAME(PARAMETER_1, PARAMETER_2, ..., PARAMETER_N):\n",
    "    code block..\n",
    "    return (PARAMETER_1, PARAMETER_2, ..., PARAMETER_N)\n",
    "```  \n",
    "\n",
    "a function is a block of code that runs in a local context, separate from the global scope of the program.  Next let's see how a function can make our code cleaner:"
   ]
  },
  {
   "cell_type": "code",
   "execution_count": 4,
   "id": "151ee32a",
   "metadata": {},
   "outputs": [
    {
     "data": {
      "text/plain": [
       "(16384, 1)"
      ]
     },
     "execution_count": 4,
     "metadata": {},
     "output_type": "execute_result"
    }
   ],
   "source": [
    "def power(a, b):\n",
    "    product = 1\n",
    "    for _ in range(b):\n",
    "        product *= a\n",
    "    return product\n",
    "\n",
    "powers_of_2 = {}\n",
    "for i in range(30):\n",
    "    powers_of_2[i] = power(2, i)\n",
    "    \n",
    "powers_of_2[14], powers_of_2[0]"
   ]
  },
  {
   "cell_type": "markdown",
   "id": "7d082388",
   "metadata": {},
   "source": [
    "Next let's implement a logarithm and check that it inverts the exponentiation:"
   ]
  },
  {
   "cell_type": "code",
   "execution_count": 11,
   "id": "b884c54f",
   "metadata": {},
   "outputs": [],
   "source": [
    "def log(base, result):\n",
    "    counter = 0\n",
    "    while result > 1:\n",
    "        result /= base\n",
    "        counter += 1\n",
    "    return counter\n",
    "\n",
    "for i in range(1,30):\n",
    "    if log(2, powers_of_2[i]) != i:\n",
    "        print(\"failed\")\n",
    "        break"
   ]
  },
  {
   "cell_type": "markdown",
   "id": "fc785423",
   "metadata": {},
   "source": [
    "In general functions are how we implement mathematics, which is what we'll need to do mathematics.  Now let's learn a little combinatorics.\n",
    "\n",
    "One of the fundamental functions in combinatorics is the factorial, $n!$ which gets used in the choose function:\n",
    "\n",
    "$$ {n \\choose k} = \\frac{n!}{k!(n - k)!} $$\n",
    "\n",
    "Let's implement the factorial first:"
   ]
  },
  {
   "cell_type": "code",
   "execution_count": 12,
   "id": "0418ada0",
   "metadata": {},
   "outputs": [
    {
     "data": {
      "text/plain": [
       "6"
      ]
     },
     "execution_count": 12,
     "metadata": {},
     "output_type": "execute_result"
    }
   ],
   "source": [
    "def factorial(n):\n",
    "    result = 1\n",
    "    for num in range(n, 1, -1):\n",
    "        result *= num\n",
    "    return result\n",
    "\n",
    "factorial(3)"
   ]
  },
  {
   "cell_type": "markdown",
   "id": "6e6df1ee",
   "metadata": {},
   "source": [
    "Now we can implement the choose:"
   ]
  },
  {
   "cell_type": "code",
   "execution_count": 20,
   "id": "102eb949",
   "metadata": {},
   "outputs": [
    {
     "data": {
      "text/plain": [
       "210.0"
      ]
     },
     "execution_count": 20,
     "metadata": {},
     "output_type": "execute_result"
    }
   ],
   "source": [
    "def choose(n, k):\n",
    "    denominator = factorial(k) * factorial(n - k)\n",
    "    return factorial(n)/denominator\n",
    "\n",
    "choose(10, 4)"
   ]
  },
  {
   "cell_type": "markdown",
   "id": "668e90ad",
   "metadata": {},
   "source": [
    "Now that we have the `choose` function we can use it for some things!\n",
    "\n",
    "For one we can implement:\n",
    "\n",
    "$$ (x + y)^{n} = \\sum_{k=0}^{n}{n \\choose k}x^{n-k}y^{k} $$"
   ]
  },
  {
   "cell_type": "code",
   "execution_count": 23,
   "id": "c813b880",
   "metadata": {},
   "outputs": [
    {
     "data": {
      "text/plain": [
       "5936.0"
      ]
     },
     "execution_count": 23,
     "metadata": {},
     "output_type": "execute_result"
    }
   ],
   "source": [
    "def binomial_formula(x, y, n):\n",
    "    summation = 0\n",
    "    for k in range(n):\n",
    "        summation += choose(n, k) * power(x, n-k) * power(y, k)\n",
    "    return summation\n",
    "\n",
    "binomial_formula(4, 5, 4)"
   ]
  },
  {
   "cell_type": "markdown",
   "id": "12f7cfd6",
   "metadata": {},
   "source": [
    "We can also use the choose function to calculate a probability:\n",
    "\n",
    "Problem:\n",
    "\n",
    "I choose 3 cards from the standard deck of cards.  What is the probability that these cards contain at least one ace?\n",
    "\n",
    "Here the sample space contains all possible ways to choose 3 cards from 52 cards, thus\n",
    "\n",
    "$$ |S| = {52 \\choose 3} $$\n",
    "\n",
    "There are 52 - 4 = 48 non-ace cards so we have:\n",
    "\n",
    "$$ |A^{c}| = {48 \\choose 3} $$\n",
    "\n",
    "Thus,\n",
    "\n",
    "$$ P(A) = 1 - \\frac{{48 \\choose 3}}{{52 \\choose 3}} $$\n",
    "\n",
    "We can implement the solution:"
   ]
  },
  {
   "cell_type": "code",
   "execution_count": 24,
   "id": "1637d5b8",
   "metadata": {},
   "outputs": [
    {
     "data": {
      "text/plain": [
       "0.2173755656108597"
      ]
     },
     "execution_count": 24,
     "metadata": {},
     "output_type": "execute_result"
    }
   ],
   "source": [
    "1 - choose(48, 3)/choose(52, 3)"
   ]
  },
  {
   "cell_type": "markdown",
   "id": "08aaa0d5",
   "metadata": {},
   "source": [
    "Next let's go over some type hinting.  Type hinting lets you give hints in your code for what parameters are expected by the program.  Let's look at an example:"
   ]
  },
  {
   "cell_type": "code",
   "execution_count": 25,
   "id": "a1aabc5f",
   "metadata": {},
   "outputs": [
    {
     "data": {
      "text/plain": [
       "11"
      ]
     },
     "execution_count": 25,
     "metadata": {},
     "output_type": "execute_result"
    }
   ],
   "source": [
    "def adder(x: int, y: int) -> int:\n",
    "    return x + y\n",
    "\n",
    "adder(5, 6)"
   ]
  },
  {
   "cell_type": "markdown",
   "id": "09a727c4",
   "metadata": {},
   "source": [
    "In general, the way the syntax works is:\n",
    "\n",
    "```\n",
    "def FUNCTION_NAME(param1: type1, param2: type2, .. paramN: typeN) -> return type:\n",
    "    code body\n",
    "    return some_data\n",
    "```\n",
    "\n",
    "As you can see from the example and the generalization we specify the variables like before, but then also specify the types.  Some basic types include:\n",
    "\n",
    "* int \n",
    "* float\n",
    "* str\n",
    "* bool\n",
    "\n",
    "There is also a builtin `typing` library that has many more types.  You can read more about those [here](https://docs.python.org/3/library/typing.html)."
   ]
  }
 ],
 "metadata": {
  "kernelspec": {
   "display_name": "Python 3",
   "language": "python",
   "name": "python3"
  },
  "language_info": {
   "codemirror_mode": {
    "name": "ipython",
    "version": 3
   },
   "file_extension": ".py",
   "mimetype": "text/x-python",
   "name": "python",
   "nbconvert_exporter": "python",
   "pygments_lexer": "ipython3",
   "version": "3.9.5"
  }
 },
 "nbformat": 4,
 "nbformat_minor": 5
}