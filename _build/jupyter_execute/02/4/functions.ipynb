{
 "cells": [
  {
   "cell_type": "markdown",
   "id": "3c94b988",
   "metadata": {},
   "source": [
    "# Functions\n",
    "\n",
    "In this last section of chapter one we will be going over functions, a cornerstone of programming and one of the most important concepts you'll learn in this class.\n",
    "\n",
    "We'll cover:\n",
    "* why\n",
    "* scoping, parameters, return\n",
    "* functions and flow of control\n",
    "* functions and iteration\n",
    "* multiple returns\n",
    "* some basic algorithms\n",
    "\n",
    "Before we go through the sections, let's just see some examples of functions:"
   ]
  },
  {
   "cell_type": "code",
   "execution_count": 1,
   "id": "da577b44",
   "metadata": {},
   "outputs": [
    {
     "name": "stdout",
     "output_type": "stream",
     "text": [
      "Hello Eric\n"
     ]
    }
   ],
   "source": [
    "def greeting(name):\n",
    "    print(\"Hello \"+name)\n",
    "    \n",
    "greeting(\"Eric\")"
   ]
  },
  {
   "cell_type": "markdown",
   "id": "b69ac2a3",
   "metadata": {},
   "source": [
    "This is the general syntax of a function in Python, it's pretty similar to a function in almost any language you'll learn.  The basic style of Python functions are:\n",
    "\n",
    "```\n",
    "def FUNCTION_NAME(PARAMETER_1, PARAMETER_2,..PARAMETER_N):\n",
    "    FUNCTION BODY GOES HERE\n",
    "    [OPTIONAL] return SOME_VALUES\n",
    "```\n",
    "\n",
    "As you can see the important keyword is `def` before the function name, the `:` just like we used in if/elif/else statements and then a tabbed in body, just like in if/elif/else statements.  \n",
    "\n",
    "The difference between these two programming concepts will become clear in a moment and what this concept tries to express.\n",
    "\n",
    "# Why\n",
    "\n",
    "Functions in general, from a programmatic standpoint, serve the process of storing code for reuse.  This is not dis-similiar from what you've seen thus far in this chapter with respect to iterations.  Recall our simple for loop:"
   ]
  },
  {
   "cell_type": "code",
   "execution_count": 2,
   "id": "66f4e5b0",
   "metadata": {},
   "outputs": [
    {
     "name": "stdout",
     "output_type": "stream",
     "text": [
      "45\n"
     ]
    }
   ],
   "source": [
    "summation = 0\n",
    "for i in range(10):\n",
    "    summation += i\n",
    "print(summation)"
   ]
  },
  {
   "cell_type": "markdown",
   "id": "05e64ead",
   "metadata": {},
   "source": [
    "Technically this above code is the same as:"
   ]
  },
  {
   "cell_type": "code",
   "execution_count": 3,
   "id": "5c6cf315",
   "metadata": {},
   "outputs": [
    {
     "data": {
      "text/plain": [
       "45"
      ]
     },
     "execution_count": 3,
     "metadata": {},
     "output_type": "execute_result"
    }
   ],
   "source": [
    "summation = 0\n",
    "summation += 1\n",
    "summation += 2\n",
    "summation += 3\n",
    "summation += 4\n",
    "summation += 5\n",
    "summation += 6\n",
    "summation += 7\n",
    "summation += 8\n",
    "summation += 9\n",
    "\n",
    "summation"
   ]
  },
  {
   "cell_type": "markdown",
   "id": "f9730e57",
   "metadata": {},
   "source": [
    "So why is the former prefered to the latter?  The answer, from a superficial standpoint is, simplicity, we just have to type less.  But there is additional benefit - _expressiveness_.  When something is sorter and cleaner, it is hopefully clearer.  That's _why_ we use iteration.  The same is true from a superficial standpoint with functions.\n",
    "\n",
    "Suppose you had the following code:"
   ]
  },
  {
   "cell_type": "code",
   "execution_count": 4,
   "id": "c3b33040",
   "metadata": {},
   "outputs": [
    {
     "name": "stdout",
     "output_type": "stream",
     "text": [
      "Hello Eric\n",
      "Hello Susan\n",
      "Hello Phil\n",
      "Hello Barbara\n",
      "Hello Jim\n",
      "Hello Carmen\n",
      "Hello Chadwick\n"
     ]
    }
   ],
   "source": [
    "names = [\n",
    "    \"eric\", \"susan\",\n",
    "    \"Phil\", \"barbara\",\n",
    "    \"jim\", \"carmen\",\n",
    "    \"chadwick\"\n",
    "]\n",
    "for name in names:\n",
    "    greeting_string = \"Hello \"\n",
    "    if name.islower():\n",
    "        name = name.capitalize()\n",
    "    print(greeting_string + name)"
   ]
  },
  {
   "cell_type": "markdown",
   "id": "d06ecc26",
   "metadata": {},
   "source": [
    "The code inside the for loop isn't that messy, but it's not the most readable.  If we added a function and removed some of the code inside the loop then it would be easier to read:"
   ]
  },
  {
   "cell_type": "code",
   "execution_count": 5,
   "id": "e56a1aa0",
   "metadata": {},
   "outputs": [
    {
     "name": "stdout",
     "output_type": "stream",
     "text": [
      "Hello Eric\n",
      "Hello Susan\n",
      "Hello Phil\n",
      "Hello Barbara\n",
      "Hello Jim\n",
      "Hello Carmen\n",
      "Hello Chadwick\n"
     ]
    }
   ],
   "source": [
    "def create_greeting(name):\n",
    "    if name.islower():\n",
    "        name = name.capitalize()\n",
    "    return \"Hello \" + name\n",
    "\n",
    "names = [\n",
    "    \"eric\", \"susan\",\n",
    "    \"Phil\", \"barbara\",\n",
    "    \"jim\", \"carmen\",\n",
    "    \"chadwick\"\n",
    "]\n",
    "for name in names:\n",
    "    print(create_greeting(name))"
   ]
  },
  {
   "cell_type": "markdown",
   "id": "736b3cd4",
   "metadata": {},
   "source": [
    "Notice, now it's clearer what's happening in the for loop, because we simplified it by abstracting the details out to functions.  This was perhaps a contrieved example, however the general point should stand out: functions allow us to easily reuse pieces of code.\n",
    "\n",
    "We've already seen this several times.  Recall from earlier sections, the `math` module:"
   ]
  },
  {
   "cell_type": "code",
   "execution_count": 6,
   "id": "19d15c98",
   "metadata": {},
   "outputs": [
    {
     "data": {
      "text/plain": [
       "128.0"
      ]
     },
     "execution_count": 6,
     "metadata": {},
     "output_type": "execute_result"
    }
   ],
   "source": [
    "import math\n",
    "\n",
    "math.pow(2, 7)"
   ]
  },
  {
   "cell_type": "markdown",
   "id": "eec35c6d",
   "metadata": {},
   "source": [
    "The above piece of code uses a function.  It just happens that someone _else_ defined the function for us.  And then we get to just _use_ it.  This is another core use of functions - it allows us to easily use someone elses code.  \n",
    "\n",
    "# Scoping, Parameters, and Return\n",
    "\n",
    "## Scope\n",
    "\n",
    "One of the important features of a function is it is self contained.  That means the only way for it to be _aware_ of any variables is to pass them in explicitly.  That said, functions will be _aware_ of the other functions in the program.  So to summarize, functions can't see the other variables in a script, but can see the other functions in the script.  \n",
    "\n",
    "So where and how does this _awareness_ work?\n",
    "\n",
    "Consider the following example:"
   ]
  },
  {
   "cell_type": "code",
   "execution_count": 12,
   "id": "77992395",
   "metadata": {},
   "outputs": [
    {
     "name": "stdout",
     "output_type": "stream",
     "text": [
      "return value of the function: 26\n",
      "value of x: 7\n"
     ]
    }
   ],
   "source": [
    "def adder(y):\n",
    "    x = 14\n",
    "    return y + x\n",
    "\n",
    "x = 7\n",
    "y = 12\n",
    "print(\"return value of the function:\", adder(y))\n",
    "print(\"value of x:\", x)"
   ]
  },
  {
   "cell_type": "markdown",
   "id": "d6bd468b",
   "metadata": {},
   "source": [
    "The above example shows us how function scoping works -\n",
    "\n",
    "The variable `y` is passed into the function, so it goes from the global scope of the program, to the local scope of the function `adder`.  \n",
    "\n",
    "Next let's look at the variable `x` - notice that we define it twice:\n",
    "\n",
    "* once in the global scope\n",
    "* once in the local scope of the function `adder`\n",
    "\n",
    "In this second scope, local to the function, the value of x is used in the sum: `x + y`, however in the global scope, the variable x is _never used_.\n",
    "\n",
    "That's why the value of x _stays_ `7` when we print it out in the end, in general, this implies that the scope local to the function can't see and therefore cannot manipulate those in global scope.\n",
    "\n",
    "## Parameters\n",
    "\n",
    "So far we've dealt with functions of one parameter, however as we saw from the general definition of functions, we can have 'N' many parameters, where 'N' is just some arbitrary number.  Here is an example of a function with two parameters:"
   ]
  },
  {
   "cell_type": "code",
   "execution_count": 14,
   "id": "36f417ea",
   "metadata": {},
   "outputs": [
    {
     "name": "stdout",
     "output_type": "stream",
     "text": [
      "11\n"
     ]
    }
   ],
   "source": [
    "def adder(x, y):\n",
    "    return x + y\n",
    "\n",
    "w = 5\n",
    "z = 6\n",
    "print(adder(w, z))"
   ]
  },
  {
   "cell_type": "markdown",
   "id": "f2e407a1",
   "metadata": {},
   "source": [
    "As you can see, this function takes in two variabls from global scope instead of one, and then adds them.  Inside the scope of the function, these variables are called `x` and `y`.  And at the global scope, they are called `w` and `z`.\n",
    "\n",
    "Now let's look at how we pass a list, instead of a variable:"
   ]
  },
  {
   "cell_type": "code",
   "execution_count": 15,
   "id": "738ff0fb",
   "metadata": {},
   "outputs": [
    {
     "data": {
      "text/plain": [
       "166"
      ]
     },
     "execution_count": 15,
     "metadata": {},
     "output_type": "execute_result"
    }
   ],
   "source": [
    "def sum_numbers(listing):\n",
    "    summation = 0\n",
    "    for elem in listing:\n",
    "        summation += elem\n",
    "    return summation\n",
    "\n",
    "list_of = [1,23,4,5,66,1,23,41,2]\n",
    "sum_numbers(list_of)"
   ]
  },
  {
   "cell_type": "markdown",
   "id": "36c32d0f",
   "metadata": {},
   "source": [
    "As you can see - functions parameters work the same way variables do, with respect to syntax - to pass a list, we simply pass the name of the list and Python does the rest.\n",
    "\n",
    "However!  There is an important difference - Python passes list by reference, rather than by value.  This means rather than creating a _new_ list and then passing that into the function, Python actually passes what's called the _references_ of the list.  We'll get into this more in chapter 2, but basically, this means there are no scoping rules on lists.\n",
    "\n",
    "Let's look at an example:"
   ]
  },
  {
   "cell_type": "code",
   "execution_count": 16,
   "id": "e79bfcde",
   "metadata": {},
   "outputs": [
    {
     "name": "stdout",
     "output_type": "stream",
     "text": [
      "[7, 2, 3, 4, 5]\n"
     ]
    }
   ],
   "source": [
    "def mutate_list_elements(listing):\n",
    "    listing[0] = 7\n",
    "    \n",
    "listing = [1,2,3,4,5]\n",
    "mutate_list_elements(listing)\n",
    "print(listing)"
   ]
  },
  {
   "cell_type": "markdown",
   "id": "e5c29d25",
   "metadata": {},
   "source": [
    "See!  Even though we never set the new list to the old list, or _even_ returned the new list, the old list was _still_ mutated.  Some people see this as a very bad thing, because it can lead to very subtle bugs, but the performance gain of passing by reference versus by value is just too attractive to ignore.  So we live with this consequence.\n",
    "\n",
    "## Returns\n",
    "\n",
    "So we've talked naively about returns thus far, sort of _implicitly_.  Now we make explicit what was implicit - a return is _how_ a function goes from local to global scope.  It's what we _pass back up_ to global scope.\n",
    "\n",
    "Since the above example sort of feels like a counter example to this, because of the weirdness of pass by reference, let's look at a quick example to see how this works:"
   ]
  },
  {
   "cell_type": "code",
   "execution_count": 17,
   "id": "79f4d112",
   "metadata": {},
   "outputs": [
    {
     "name": "stdout",
     "output_type": "stream",
     "text": [
      "the sum of 9 + 10 = 19\n"
     ]
    }
   ],
   "source": [
    "def adder(x, y):\n",
    "    return x + y\n",
    "\n",
    "w = 9\n",
    "z = 10\n",
    "summation = adder(w, z)\n",
    "print(f\"the sum of {w} + {z} = {summation}\")"
   ]
  },
  {
   "cell_type": "markdown",
   "id": "49e3fb6b",
   "metadata": {},
   "source": [
    "So how this worked is - we took our variables from _global_ scope and then stuck them in variables x and y, once we entered into the function - that's because that's the name of the parameters once we enter the function.  Then we do the addition, and the _return_ is what comes back from the function.\n",
    "\n",
    "So when we do:\n",
    "\n",
    "`summation = adder(w, z)`\n",
    "\n",
    "The value of there result: x + y, aka the piece of code that gets _returned_ is what ends up in the variable `summation`.  \n",
    "\n",
    "So returns will _typically_ be the last line of a function, because after that we _tend_ to leave the local scope.  One of the neat things about Python though, is we can return _multiple_ things at once!\n",
    "\n",
    "For instance:"
   ]
  },
  {
   "cell_type": "code",
   "execution_count": 20,
   "id": "c1c48ce8",
   "metadata": {},
   "outputs": [
    {
     "name": "stdout",
     "output_type": "stream",
     "text": [
      "the result of 9, 10 for some formula = -0.09999999999999964 with a ratio factor of 0.9\n"
     ]
    }
   ],
   "source": [
    "def some_formula(x, y):\n",
    "    z = x / y\n",
    "    return x + z - y, z\n",
    "\n",
    "w = 9\n",
    "q = 10\n",
    "result, ratio = some_formula(w, q)\n",
    "print(f\"the result of {w}, {q} for some formula = {result} with a ratio factor of {ratio}\")"
   ]
  },
  {
   "cell_type": "markdown",
   "id": "aa177d76",
   "metadata": {},
   "source": [
    "As you can see, this random formula returns two things:\n",
    "\n",
    "* The result of the formula: `x + z - y`\n",
    "* The implicit ratio used within the formula: `z = x / y`\n",
    "\n",
    "This way we know _what_ happened inside the function.  \n",
    "\n",
    "Notice the general syntax:\n",
    "\n",
    "```\n",
    "def FUNCTION_NAME(PARAMETER1, PARAMETER2, .., PARAMETERN):\n",
    "    some code goes here\n",
    "    return result_one, result_two, .., result_n\n",
    "```\n",
    "\n",
    "This means we could return as many things as we wanted.  Notice also, that when we set the return equal we needed the same number of commas _between_ variables:\n",
    "\n",
    "`result, ratio = some_formula(w, q)`\n",
    "\n",
    "Because our return was:\n",
    "\n",
    "`return x + z - y, z`\n",
    "\n",
    "That's how we got our variables to match up.  We could also store all the results in something called a tuple.  Let's look at an example and then we'll dive a little deeper into tuples:"
   ]
  },
  {
   "cell_type": "code",
   "execution_count": 22,
   "id": "ae9c7645",
   "metadata": {},
   "outputs": [
    {
     "name": "stdout",
     "output_type": "stream",
     "text": [
      "The result is: (10, 12)\n",
      "<class 'tuple'>\n"
     ]
    }
   ],
   "source": [
    "def identity(x, y):\n",
    "    return x, y\n",
    "\n",
    "w = 10\n",
    "z = 12\n",
    "\n",
    "result = identity(w, z)\n",
    "print(\"The result is:\", result)\n",
    "print(type(result))"
   ]
  },
  {
   "cell_type": "markdown",
   "id": "258fefd8",
   "metadata": {},
   "source": [
    "as you can see, we pass back a tuple because of the use of the comma in the return.  If we check the type for a function with just one return, we'll see that the type is just that of the returned variable:"
   ]
  },
  {
   "cell_type": "code",
   "execution_count": 23,
   "id": "714bee80",
   "metadata": {},
   "outputs": [
    {
     "name": "stdout",
     "output_type": "stream",
     "text": [
      "the result is 9\n",
      "<class 'int'>\n"
     ]
    }
   ],
   "source": [
    "def some_function(x):\n",
    "    return x + 2\n",
    "\n",
    "x = 7\n",
    "result = some_function(x)\n",
    "print(\"the result is\", result)\n",
    "print(type(result))"
   ]
  },
  {
   "cell_type": "markdown",
   "id": "46d36ba0",
   "metadata": {},
   "source": [
    "Next let's provide a little understanding of tools:\n",
    "\n",
    "A tuple is like a list, but you can't make it bigger or smaller.\n",
    "\n",
    "This might make you think tuples don't have much value, but they are great!  They just aren't good for the _same_ things as lists.\n",
    "\n",
    "Let's look at an example of a tuple:"
   ]
  },
  {
   "cell_type": "code",
   "execution_count": 24,
   "id": "729d6732",
   "metadata": {},
   "outputs": [
    {
     "name": "stdout",
     "output_type": "stream",
     "text": [
      "things tuples can do:\n"
     ]
    },
    {
     "data": {
      "text/plain": [
       "['count', 'index']"
      ]
     },
     "execution_count": 24,
     "metadata": {},
     "output_type": "execute_result"
    }
   ],
   "source": [
    "t = tuple([1,2,3])\n",
    "\n",
    "print(\"things tuples can do:\")\n",
    "[elem for elem in dir(t) if \"__\" not in elem]"
   ]
  },
  {
   "cell_type": "markdown",
   "id": "38d87683",
   "metadata": {},
   "source": [
    "As you can see, all you can do is get the index of a specific element:"
   ]
  },
  {
   "cell_type": "code",
   "execution_count": 29,
   "id": "8971d38d",
   "metadata": {},
   "outputs": [
    {
     "name": "stdout",
     "output_type": "stream",
     "text": [
      "index of 2 is 1\n"
     ]
    }
   ],
   "source": [
    "index_of_two = t.index(2)\n",
    "\n",
    "print(f\"index of {t[index_of_two]} is {index_of_two}\")"
   ]
  },
  {
   "cell_type": "markdown",
   "id": "81dd953b",
   "metadata": {},
   "source": [
    "Or count the number of occurrences of a given element:"
   ]
  },
  {
   "cell_type": "code",
   "execution_count": 31,
   "id": "931534d0",
   "metadata": {},
   "outputs": [
    {
     "name": "stdout",
     "output_type": "stream",
     "text": [
      "number of times 2 appears in t: 1\n"
     ]
    }
   ],
   "source": [
    "count_2 = t.count(2)\n",
    "print(f\"number of times 2 appears in t: {count_2}\")"
   ]
  },
  {
   "cell_type": "markdown",
   "id": "f0eb8863",
   "metadata": {},
   "source": [
    "As you saw above we can also index into tuples, like you can with lists.  And you can iterate over tuples:"
   ]
  },
  {
   "cell_type": "code",
   "execution_count": 32,
   "id": "261d468f",
   "metadata": {},
   "outputs": [
    {
     "name": "stdout",
     "output_type": "stream",
     "text": [
      "1\n",
      "2\n",
      "3\n"
     ]
    }
   ],
   "source": [
    "for elem in t:\n",
    "    print(elem)"
   ]
  },
  {
   "cell_type": "markdown",
   "id": "0e538f2a",
   "metadata": {},
   "source": [
    "But that _is_ the power of tuples.  Because you have guarantees on how many elements you can expect, and because your tuples are iterable like lists, that means you can do make assumptions about your data.  Which is why its used for the multiple value return amongst other things.  Admittedly, there aren't infinite uses for tuples, but they have their uses.\n",
    "\n",
    "The biggest reason we use them for multiple value returns is once functions are defined, they should have _fixed_ behavior.  That means if a function returns a certain amount of data, it should return it consistently.  This means you can think intelligently about your program.\n",
    "\n",
    "# Functions and Flow of Control\n",
    "\n",
    "In addition to being able to make use of simple statements inside of functions like addition or basic string manipulation, we can also do more advanced things like flow of control:"
   ]
  },
  {
   "cell_type": "code",
   "execution_count": 33,
   "id": "2c3a3b72",
   "metadata": {},
   "outputs": [
    {
     "name": "stdout",
     "output_type": "stream",
     "text": [
      "is 7 even? False\n"
     ]
    }
   ],
   "source": [
    "def is_even(x):\n",
    "    if x % 2 == 0:\n",
    "        return True\n",
    "    else:\n",
    "        return False\n",
    "    \n",
    "print(\"is 7 even?\", is_even(7))"
   ]
  },
  {
   "cell_type": "markdown",
   "id": "ec2537cc",
   "metadata": {},
   "source": [
    "Notice - because this function could take one of two paths - it has _two_ return statements, one for each branch.  Of course we could rewrite this to have one return:"
   ]
  },
  {
   "cell_type": "code",
   "execution_count": 34,
   "id": "c8403569",
   "metadata": {},
   "outputs": [
    {
     "name": "stdout",
     "output_type": "stream",
     "text": [
      "is 7 even? False\n"
     ]
    }
   ],
   "source": [
    "def is_even(x):\n",
    "    result = None\n",
    "    if x % 2 == 0:\n",
    "        result = True\n",
    "    else:\n",
    "        result = False\n",
    "    return result\n",
    "\n",
    "print(\"is 7 even?\", is_even(7))"
   ]
  },
  {
   "cell_type": "markdown",
   "id": "f56b3656",
   "metadata": {},
   "source": [
    "But the first way just _feels_ cleaner.  In addition to being able to bring flow of control into a function - we can take a complicated boolean statement, and _stick it into a function_:"
   ]
  },
  {
   "cell_type": "code",
   "execution_count": 35,
   "id": "97f42064",
   "metadata": {},
   "outputs": [
    {
     "name": "stdout",
     "output_type": "stream",
     "text": [
      "didn't get here\n"
     ]
    }
   ],
   "source": [
    "def complicated_boolean(x, y, z, w):\n",
    "    return not ((x and y) or z) and w\n",
    "\n",
    "x = True\n",
    "y = False\n",
    "z = True\n",
    "w = True\n",
    "if complicated_boolean(x, y, z, w):\n",
    "    print(\"got here\")\n",
    "else:\n",
    "    print(\"didn't get here\")"
   ]
  },
  {
   "cell_type": "markdown",
   "id": "176be67a",
   "metadata": {},
   "source": [
    "Next let's see how a function can make our code cleaner:"
   ]
  },
  {
   "cell_type": "code",
   "execution_count": 1,
   "id": "18aaf3a3",
   "metadata": {},
   "outputs": [
    {
     "data": {
      "text/plain": [
       "(16384, 1)"
      ]
     },
     "execution_count": 1,
     "metadata": {},
     "output_type": "execute_result"
    }
   ],
   "source": [
    "def power(a, b):\n",
    "    product = 1\n",
    "    for _ in range(b):\n",
    "        product *= a\n",
    "    return product\n",
    "\n",
    "powers_of_2 = {}\n",
    "for i in range(30):\n",
    "    powers_of_2[i] = power(2, i)\n",
    "    \n",
    "powers_of_2[14], powers_of_2[0]"
   ]
  },
  {
   "cell_type": "markdown",
   "id": "d27b7b70",
   "metadata": {},
   "source": [
    "Next let's implement a logarithm and check that it inverts the exponentiation:"
   ]
  },
  {
   "cell_type": "code",
   "execution_count": 2,
   "id": "f4b19130",
   "metadata": {},
   "outputs": [],
   "source": [
    "def log(base, result):\n",
    "    counter = 0\n",
    "    while result > 1:\n",
    "        result /= base\n",
    "        counter += 1\n",
    "    return counter\n",
    "\n",
    "for i in range(1,30):\n",
    "    if log(2, powers_of_2[i]) != i:\n",
    "        print(\"failed\")\n",
    "        break"
   ]
  },
  {
   "cell_type": "markdown",
   "id": "e8dcc69b",
   "metadata": {},
   "source": [
    "In general functions are how we implement mathematics, which is what we'll need to do mathematics.  Now let's learn a little combinatorics.\n",
    "\n",
    "One of the fundamental functions in combinatorics is the factorial, $n!$ which gets used in the choose function:\n",
    "\n",
    "$$ {n \\choose k} = \\frac{n!}{k!(n - k)!} $$\n",
    "\n",
    "Let's implement the factorial first:"
   ]
  },
  {
   "cell_type": "code",
   "execution_count": 3,
   "id": "4e836f94",
   "metadata": {},
   "outputs": [
    {
     "data": {
      "text/plain": [
       "6"
      ]
     },
     "execution_count": 3,
     "metadata": {},
     "output_type": "execute_result"
    }
   ],
   "source": [
    "def factorial(n):\n",
    "    result = 1\n",
    "    for num in range(n, 1, -1):\n",
    "        result *= num\n",
    "    return result\n",
    "\n",
    "factorial(3)"
   ]
  },
  {
   "cell_type": "markdown",
   "id": "e8280f33",
   "metadata": {},
   "source": [
    "Now we can implement the choose:"
   ]
  },
  {
   "cell_type": "code",
   "execution_count": 4,
   "id": "89962543",
   "metadata": {},
   "outputs": [
    {
     "data": {
      "text/plain": [
       "210.0"
      ]
     },
     "execution_count": 4,
     "metadata": {},
     "output_type": "execute_result"
    }
   ],
   "source": [
    "def choose(n, k):\n",
    "    denominator = factorial(k) * factorial(n - k)\n",
    "    return factorial(n)/denominator\n",
    "\n",
    "choose(10, 4)"
   ]
  },
  {
   "cell_type": "markdown",
   "id": "518aa721",
   "metadata": {},
   "source": [
    "Now that we have the `choose` function we can use it for some things!\n",
    "\n",
    "For one we can implement:\n",
    "\n",
    "$$ (x + y)^{n} = \\sum_{k=0}^{n}{n \\choose k}x^{n-k}y^{k} $$"
   ]
  },
  {
   "cell_type": "code",
   "execution_count": 5,
   "id": "6ea22cd9",
   "metadata": {},
   "outputs": [
    {
     "data": {
      "text/plain": [
       "5936.0"
      ]
     },
     "execution_count": 5,
     "metadata": {},
     "output_type": "execute_result"
    }
   ],
   "source": [
    "def binomial_formula(x, y, n):\n",
    "    summation = 0\n",
    "    for k in range(n):\n",
    "        summation += choose(n, k) * power(x, n-k) * power(y, k)\n",
    "    return summation\n",
    "\n",
    "binomial_formula(4, 5, 4)"
   ]
  },
  {
   "cell_type": "markdown",
   "id": "bb64bebc",
   "metadata": {},
   "source": [
    "We can also use the choose function to calculate a probability:\n",
    "\n",
    "Problem:\n",
    "\n",
    "I choose 3 cards from the standard deck of cards.  What is the probability that these cards contain at least one ace?\n",
    "\n",
    "Here the sample space contains all possible ways to choose 3 cards from 52 cards, thus\n",
    "\n",
    "$$ |S| = {52 \\choose 3} $$\n",
    "\n",
    "There are 52 - 4 = 48 non-ace cards so we have:\n",
    "\n",
    "$$ |A^{c}| = {48 \\choose 3} $$\n",
    "\n",
    "Thus,\n",
    "\n",
    "$$ P(A) = 1 - \\frac{{48 \\choose 3}}{{52 \\choose 3}} $$\n",
    "\n",
    "We can implement the solution:"
   ]
  },
  {
   "cell_type": "code",
   "execution_count": 6,
   "id": "887ae066",
   "metadata": {},
   "outputs": [
    {
     "data": {
      "text/plain": [
       "0.2173755656108597"
      ]
     },
     "execution_count": 6,
     "metadata": {},
     "output_type": "execute_result"
    }
   ],
   "source": [
    "1 - choose(48, 3)/choose(52, 3)"
   ]
  },
  {
   "cell_type": "markdown",
   "id": "bb25fac2",
   "metadata": {},
   "source": [
    "Next let's go over some type hinting.  Type hinting lets you give hints in your code for what parameters are expected by the program.  Let's look at an example:"
   ]
  },
  {
   "cell_type": "code",
   "execution_count": 8,
   "id": "26e1e215",
   "metadata": {},
   "outputs": [
    {
     "data": {
      "text/plain": [
       "11"
      ]
     },
     "execution_count": 8,
     "metadata": {},
     "output_type": "execute_result"
    }
   ],
   "source": [
    "def adder(x: int, y: int) -> int:\n",
    "    return x + y\n",
    "\n",
    "adder(5, 6)"
   ]
  },
  {
   "cell_type": "markdown",
   "id": "21b79e0e",
   "metadata": {},
   "source": [
    "In general, the way the syntax works is:\n",
    "\n",
    "```\n",
    "def FUNCTION_NAME(param1: type1, param2: type2, .. paramN: typeN) -> return type:\n",
    "    code body\n",
    "    return some_data\n",
    "```\n",
    "\n",
    "As you can see from the example and the generalization we specify the variables like before, but then also specify the types.  Some basic types include:\n",
    "\n",
    "* int \n",
    "* float\n",
    "* str\n",
    "* bool\n",
    "\n",
    "There is also a builtin `typing` library that has many more types.  You can read more about those [here](https://docs.python.org/3/library/typing.html)."
   ]
  },
  {
   "cell_type": "code",
   "execution_count": null,
   "id": "3a57fd55",
   "metadata": {},
   "outputs": [],
   "source": []
  }
 ],
 "metadata": {
  "kernelspec": {
   "display_name": "Python 3",
   "language": "python",
   "name": "python3"
  },
  "language_info": {
   "codemirror_mode": {
    "name": "ipython",
    "version": 3
   },
   "file_extension": ".py",
   "mimetype": "text/x-python",
   "name": "python",
   "nbconvert_exporter": "python",
   "pygments_lexer": "ipython3",
   "version": "3.9.5"
  }
 },
 "nbformat": 4,
 "nbformat_minor": 5
}