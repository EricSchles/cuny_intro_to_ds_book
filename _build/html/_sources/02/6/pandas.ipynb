{
 "cells": [
  {
   "cell_type": "markdown",
   "id": "f2842c71",
   "metadata": {},
   "source": [
    "# Pandas Basics\n",
    "\n",
    "Much like numpy can be used to query and analyze data, pandas can do the same thing!  The reason that both tools are used in the data science community is that they fill different requirements and excel at different things.  In this lecture we will be learning more about pandas and it's strengths, specifically:\n",
    "\n",
    "* Pandas versus Numpy\n",
    "* Pandas indexes\n",
    "* Working with data in Pandas\n",
    "* SQL Introduction\n",
    "* Querying DataFrames\n",
    "* Merging DataFrames\n",
    "* Aggregations\n",
    "\n",
    "## Pandas versus Numpy\n",
    "\n",
    "In the last lecture we learned about Numpy and it's power for making Python very fast.  We saw how to query data, as well as learned how Numpy \"thinks\" about data, as a tensor.  In this lecture we will look at Pandas, which thinks about data primarily like a database table.  This is because there are obvious primitives for dealing with one dimensional tensors, called `Series` and obvious primitives for dealing with two dimensional tensors called a `DataFrame`, but there are no obvious primitives for dealing with \"higher order\" tensors in pandas.  You can do some things for creating higher order tensors in pandas, but honestly it's kind of tough to work with that set of primitives.\n",
    "\n",
    "While pandas is limited in the order of dimensions it can represent, most data is either one dimensional or two dimensional anyway, or at the very least can be decomposed to an order 1 or order 2 tensor, so this isn't as much of a restriction as you might think.  In this way you can think of pandas as \"specializing\" in the typical case and not worrying about the exotic cases.\n",
    "\n",
    "Additionally, generally speaking pandas is somewhat slower than numpy.  For this reason it is possible to access numpy equivalents of any of the pandas data structures, allowing you to access numpy's speed, while making use of pandas ease of use, in some cases.  That said, not all pandas operations can be done with the numpy objects.\n",
    "\n",
    "Let's look at some simple examples of how to do things in numpy and equivalently in pandas:"
   ]
  },
  {
   "cell_type": "code",
   "execution_count": 1,
   "id": "3dbaf56c",
   "metadata": {},
   "outputs": [
    {
     "name": "stdout",
     "output_type": "stream",
     "text": [
      "Result 60\n",
      "took  0.0005822181701660156 seconds\n"
     ]
    }
   ],
   "source": [
    "import numpy as np\n",
    "import time\n",
    "\n",
    "start = time.time()\n",
    "vector_one = np.array([1, 4, 7])\n",
    "vector_two = np.array([2, 4, 6])\n",
    "\n",
    "print(\"Result\", np.matmul(vector_one, vector_two.T))\n",
    "print(\"took \", time.time() - start, \"seconds\")"
   ]
  },
  {
   "cell_type": "code",
   "execution_count": 2,
   "id": "aa264e4d",
   "metadata": {},
   "outputs": [
    {
     "name": "stdout",
     "output_type": "stream",
     "text": [
      "Result 60\n",
      "took 0.0007469654083251953 seconds\n"
     ]
    }
   ],
   "source": [
    "import pandas as pd\n",
    "\n",
    "start = time.time()\n",
    "series_one = pd.Series(vector_one)\n",
    "series_two = pd.Series(vector_two)\n",
    "\n",
    "print(\"Result\", series_one.dot(series_two.T))\n",
    "print(\"took\", time.time() - start, \"seconds\")"
   ]
  },
  {
   "cell_type": "markdown",
   "id": "4f2ab27d",
   "metadata": {},
   "source": [
    "As you can see the numpy version is an entire order of magnitude faster.  But the pandas version is a little bit easier to read.\n",
    "\n",
    "Next let's look at how to slice pandas versus numpy data structures:"
   ]
  },
  {
   "cell_type": "code",
   "execution_count": 3,
   "id": "3546f311",
   "metadata": {},
   "outputs": [
    {
     "name": "stdout",
     "output_type": "stream",
     "text": [
      "Result 0.3077\n",
      "took 0.0017809867858886719 seconds\n"
     ]
    }
   ],
   "source": [
    "array = np.random.normal(0, 1, size=10000)\n",
    "\n",
    "start = time.time()\n",
    "print(\"Result\", len(array[array > 0.5])/len(array))\n",
    "print(\"took\", time.time() - start, \"seconds\")"
   ]
  },
  {
   "cell_type": "code",
   "execution_count": 4,
   "id": "34d2b301",
   "metadata": {},
   "outputs": [
    {
     "name": "stdout",
     "output_type": "stream",
     "text": [
      "Result 0.3077\n",
      "took 0.002260923385620117 seconds\n"
     ]
    }
   ],
   "source": [
    "series = pd.Series(array)\n",
    "\n",
    "start= time.time()\n",
    "print(\"Result\", len(series[series > 0.5])/len(array))\n",
    "print(\"took\", time.time() - start, \"seconds\")"
   ]
  },
  {
   "cell_type": "markdown",
   "id": "1f833103",
   "metadata": {},
   "source": [
    "So as you can see, numpy flatly beats pandas for speed.  However, there are two ways in which pandas is the better choice.  First, look at the number of public methods associated with a pandas Series versus a numpy order 1 tensor:"
   ]
  },
  {
   "cell_type": "code",
   "execution_count": 5,
   "id": "29895e2b",
   "metadata": {},
   "outputs": [
    {
     "name": "stdout",
     "output_type": "stream",
     "text": [
      "71\n",
      "161\n"
     ]
    }
   ],
   "source": [
    "numpy_methods = [method for method in dir(array) if \"_\" not in method]\n",
    "pandas_methods = [method for method in dir(series) if \"_\" not in method]\n",
    "print(len(numpy_methods))\n",
    "print(len(pandas_methods))"
   ]
  },
  {
   "cell_type": "markdown",
   "id": "799ac56d",
   "metadata": {},
   "source": [
    "It should be clear, that you can just do _a lot_ more with a pandas series out of the box than a numpy order 1 tensor.  While this isn't always a good thing, it's worth keeping in mind the strengths and deficiencies of both frameworks.\n",
    "\n",
    "## Pandas Indexes\n",
    "\n",
    "Pandas dataframe come equipped with three indexes:\n",
    "* an index for columns\n",
    "* an index for rows\n",
    "* an ordering for rows that serves as in implicit index.\n",
    "\n",
    "The third index is the least forward without an example, and we'll look at it soon.\n",
    "\n",
    "Let's look at a motivating example for the rows and columns first:"
   ]
  },
  {
   "cell_type": "code",
   "execution_count": 6,
   "id": "0cff190c",
   "metadata": {},
   "outputs": [
    {
     "data": {
      "text/html": [
       "<div>\n",
       "<style scoped>\n",
       "    .dataframe tbody tr th:only-of-type {\n",
       "        vertical-align: middle;\n",
       "    }\n",
       "\n",
       "    .dataframe tbody tr th {\n",
       "        vertical-align: top;\n",
       "    }\n",
       "\n",
       "    .dataframe thead th {\n",
       "        text-align: right;\n",
       "    }\n",
       "</style>\n",
       "<table border=\"1\" class=\"dataframe\">\n",
       "  <thead>\n",
       "    <tr style=\"text-align: right;\">\n",
       "      <th></th>\n",
       "      <th>Manufacturing</th>\n",
       "      <th>Technology</th>\n",
       "      <th>Real Estate</th>\n",
       "    </tr>\n",
       "  </thead>\n",
       "  <tbody>\n",
       "    <tr>\n",
       "      <th>0</th>\n",
       "      <td>62.186098</td>\n",
       "      <td>92.382639</td>\n",
       "      <td>74.024296</td>\n",
       "    </tr>\n",
       "    <tr>\n",
       "      <th>1</th>\n",
       "      <td>62.984121</td>\n",
       "      <td>42.616047</td>\n",
       "      <td>11.667722</td>\n",
       "    </tr>\n",
       "    <tr>\n",
       "      <th>2</th>\n",
       "      <td>53.225074</td>\n",
       "      <td>52.152148</td>\n",
       "      <td>27.873661</td>\n",
       "    </tr>\n",
       "  </tbody>\n",
       "</table>\n",
       "</div>"
      ],
      "text/plain": [
       "   Manufacturing  Technology  Real Estate\n",
       "0      62.186098   92.382639    74.024296\n",
       "1      62.984121   42.616047    11.667722\n",
       "2      53.225074   52.152148    27.873661"
      ]
     },
     "execution_count": 6,
     "metadata": {},
     "output_type": "execute_result"
    }
   ],
   "source": [
    "import pandas as pd\n",
    "\n",
    "supply_matrix = np.random.rand(3,3) * 100\n",
    "demand_vector = np.random.rand(3) * 100\n",
    "\n",
    "df = pd.DataFrame(supply_matrix)\n",
    "df.columns = [\"Manufacturing\", \"Technology\", \"Real Estate\"]\n",
    "df"
   ]
  },
  {
   "cell_type": "markdown",
   "id": "38720295",
   "metadata": {},
   "source": [
    "As you can see the columns are listed above the dataframe's data and give us information how each column is semantically named.  If you've ever seen an excel spreadsheet, a database table or a CSV, this is carries the same meaning.\n",
    "\n",
    "Additionally there is a row index as shown on the left hand side of the dataframe.  This can either be a simple enumeration of the columns, indexed by the natural numbers, or it can take on a semantic meaning as follows:"
   ]
  },
  {
   "cell_type": "code",
   "execution_count": 7,
   "id": "cfcfb171",
   "metadata": {},
   "outputs": [
    {
     "data": {
      "text/html": [
       "<div>\n",
       "<style scoped>\n",
       "    .dataframe tbody tr th:only-of-type {\n",
       "        vertical-align: middle;\n",
       "    }\n",
       "\n",
       "    .dataframe tbody tr th {\n",
       "        vertical-align: top;\n",
       "    }\n",
       "\n",
       "    .dataframe thead th {\n",
       "        text-align: right;\n",
       "    }\n",
       "</style>\n",
       "<table border=\"1\" class=\"dataframe\">\n",
       "  <thead>\n",
       "    <tr style=\"text-align: right;\">\n",
       "      <th></th>\n",
       "      <th>Manufacturing</th>\n",
       "      <th>Technology</th>\n",
       "      <th>Real Estate</th>\n",
       "    </tr>\n",
       "  </thead>\n",
       "  <tbody>\n",
       "    <tr>\n",
       "      <th>Manufacturing</th>\n",
       "      <td>87.277123</td>\n",
       "      <td>7.146411</td>\n",
       "      <td>83.609861</td>\n",
       "    </tr>\n",
       "    <tr>\n",
       "      <th>Technology</th>\n",
       "      <td>35.083035</td>\n",
       "      <td>76.971169</td>\n",
       "      <td>30.210426</td>\n",
       "    </tr>\n",
       "    <tr>\n",
       "      <th>Real Estate</th>\n",
       "      <td>72.918688</td>\n",
       "      <td>34.753327</td>\n",
       "      <td>33.607585</td>\n",
       "    </tr>\n",
       "  </tbody>\n",
       "</table>\n",
       "</div>"
      ],
      "text/plain": [
       "               Manufacturing  Technology  Real Estate\n",
       "Manufacturing      87.277123    7.146411    83.609861\n",
       "Technology         35.083035   76.971169    30.210426\n",
       "Real Estate        72.918688   34.753327    33.607585"
      ]
     },
     "execution_count": 7,
     "metadata": {},
     "output_type": "execute_result"
    }
   ],
   "source": [
    "import pandas as pd\n",
    "\n",
    "supply_matrix = np.random.rand(3,3) * 100\n",
    "\n",
    "df = pd.DataFrame(supply_matrix)\n",
    "df.columns = [\"Manufacturing\", \"Technology\", \"Real Estate\"]\n",
    "df.index = [\"Manufacturing\", \"Technology\", \"Real Estate\"]\n",
    "df"
   ]
  },
  {
   "cell_type": "markdown",
   "id": "43e079ff",
   "metadata": {},
   "source": [
    "But typically it is the former rather than the latter which is used for the row index.  Let's return to our previous example and show the \"third\" index:"
   ]
  },
  {
   "cell_type": "code",
   "execution_count": 8,
   "id": "6a27f8c1",
   "metadata": {},
   "outputs": [
    {
     "data": {
      "text/html": [
       "<div>\n",
       "<style scoped>\n",
       "    .dataframe tbody tr th:only-of-type {\n",
       "        vertical-align: middle;\n",
       "    }\n",
       "\n",
       "    .dataframe tbody tr th {\n",
       "        vertical-align: top;\n",
       "    }\n",
       "\n",
       "    .dataframe thead th {\n",
       "        text-align: right;\n",
       "    }\n",
       "</style>\n",
       "<table border=\"1\" class=\"dataframe\">\n",
       "  <thead>\n",
       "    <tr style=\"text-align: right;\">\n",
       "      <th></th>\n",
       "      <th>Manufacturing</th>\n",
       "      <th>Technology</th>\n",
       "      <th>Real Estate</th>\n",
       "    </tr>\n",
       "  </thead>\n",
       "  <tbody>\n",
       "    <tr>\n",
       "      <th>0</th>\n",
       "      <td>31.050919</td>\n",
       "      <td>6.621009</td>\n",
       "      <td>47.343123</td>\n",
       "    </tr>\n",
       "    <tr>\n",
       "      <th>1</th>\n",
       "      <td>52.103564</td>\n",
       "      <td>76.781645</td>\n",
       "      <td>46.231320</td>\n",
       "    </tr>\n",
       "    <tr>\n",
       "      <th>2</th>\n",
       "      <td>8.868035</td>\n",
       "      <td>27.525854</td>\n",
       "      <td>27.718102</td>\n",
       "    </tr>\n",
       "  </tbody>\n",
       "</table>\n",
       "</div>"
      ],
      "text/plain": [
       "   Manufacturing  Technology  Real Estate\n",
       "0      31.050919    6.621009    47.343123\n",
       "1      52.103564   76.781645    46.231320\n",
       "2       8.868035   27.525854    27.718102"
      ]
     },
     "execution_count": 8,
     "metadata": {},
     "output_type": "execute_result"
    }
   ],
   "source": [
    "import pandas as pd\n",
    "\n",
    "supply_matrix = np.random.rand(3,3) * 100\n",
    "\n",
    "df = pd.DataFrame(supply_matrix)\n",
    "df.columns = [\"Manufacturing\", \"Technology\", \"Real Estate\"]\n",
    "df"
   ]
  },
  {
   "cell_type": "code",
   "execution_count": 9,
   "id": "8e52309a",
   "metadata": {},
   "outputs": [
    {
     "data": {
      "text/html": [
       "<div>\n",
       "<style scoped>\n",
       "    .dataframe tbody tr th:only-of-type {\n",
       "        vertical-align: middle;\n",
       "    }\n",
       "\n",
       "    .dataframe tbody tr th {\n",
       "        vertical-align: top;\n",
       "    }\n",
       "\n",
       "    .dataframe thead th {\n",
       "        text-align: right;\n",
       "    }\n",
       "</style>\n",
       "<table border=\"1\" class=\"dataframe\">\n",
       "  <thead>\n",
       "    <tr style=\"text-align: right;\">\n",
       "      <th></th>\n",
       "      <th>Manufacturing</th>\n",
       "      <th>Technology</th>\n",
       "      <th>Real Estate</th>\n",
       "    </tr>\n",
       "  </thead>\n",
       "  <tbody>\n",
       "    <tr>\n",
       "      <th>2</th>\n",
       "      <td>8.868035</td>\n",
       "      <td>27.525854</td>\n",
       "      <td>27.718102</td>\n",
       "    </tr>\n",
       "    <tr>\n",
       "      <th>0</th>\n",
       "      <td>31.050919</td>\n",
       "      <td>6.621009</td>\n",
       "      <td>47.343123</td>\n",
       "    </tr>\n",
       "    <tr>\n",
       "      <th>1</th>\n",
       "      <td>52.103564</td>\n",
       "      <td>76.781645</td>\n",
       "      <td>46.231320</td>\n",
       "    </tr>\n",
       "  </tbody>\n",
       "</table>\n",
       "</div>"
      ],
      "text/plain": [
       "   Manufacturing  Technology  Real Estate\n",
       "2       8.868035   27.525854    27.718102\n",
       "0      31.050919    6.621009    47.343123\n",
       "1      52.103564   76.781645    46.231320"
      ]
     },
     "execution_count": 9,
     "metadata": {},
     "output_type": "execute_result"
    }
   ],
   "source": [
    "df = df.sort_values(\"Manufacturing\")\n",
    "df"
   ]
  },
  {
   "cell_type": "markdown",
   "id": "c50d16bd",
   "metadata": {},
   "source": [
    "As you can see, now the row index is inconflict with order in which the rows appear.  This means we can query for the first row in two ways:"
   ]
  },
  {
   "cell_type": "code",
   "execution_count": 10,
   "id": "44d00f96",
   "metadata": {},
   "outputs": [
    {
     "data": {
      "text/plain": [
       "Manufacturing     8.868035\n",
       "Technology       27.525854\n",
       "Real Estate      27.718102\n",
       "Name: 2, dtype: float64"
      ]
     },
     "execution_count": 10,
     "metadata": {},
     "output_type": "execute_result"
    }
   ],
   "source": [
    "df.iloc[0]"
   ]
  },
  {
   "cell_type": "code",
   "execution_count": 11,
   "id": "4e3fa308",
   "metadata": {},
   "outputs": [
    {
     "data": {
      "text/plain": [
       "Manufacturing     8.868035\n",
       "Technology       27.525854\n",
       "Real Estate      27.718102\n",
       "Name: 2, dtype: float64"
      ]
     },
     "execution_count": 11,
     "metadata": {},
     "output_type": "execute_result"
    }
   ],
   "source": [
    "df.loc[2]"
   ]
  },
  {
   "cell_type": "markdown",
   "id": "38a6b2d4",
   "metadata": {},
   "source": [
    "Notice these two ways of selecting the first row in the dataframe differed in which index they use, but return the same information.  This will become especially important when we move onto merging dataframes, because the row index is used rather than the \"implicit\" third index, defined by the order the data appears in the dataframe.  This explicit row index _can_ be mutated of course, but need not be when a mutation to the ordering of data occurs.  This may seem complex, but can be desirable, especially given the ability to control when and if this explicit row index is updated.\n",
    "\n",
    "## Working With Data In Pandas\n",
    "\n",
    "One of pandas greatest strengths is it's ability to easily read in data and dump out data.  Let's look at an example:"
   ]
  },
  {
   "cell_type": "code",
   "execution_count": 12,
   "id": "73f74f40",
   "metadata": {},
   "outputs": [],
   "source": [
    "supply_matrix = np.round(np.random.rand(500,3) * 100, 2)\n",
    "\n",
    "df1 = pd.DataFrame(supply_matrix)\n",
    "df1.columns = [\"Manufacturing\", \"Technology\", \"Real Estate\"]\n",
    "df1.to_csv(\"economy.csv\", index=False)"
   ]
  },
  {
   "cell_type": "markdown",
   "id": "eb21713d",
   "metadata": {},
   "source": [
    "Here we choose not to save our index to the csv which is why `index=False`, this tells the method to not save the index as well, just the data.  Now let's see how to read in the dataframe:"
   ]
  },
  {
   "cell_type": "code",
   "execution_count": 13,
   "id": "5fc65d24",
   "metadata": {},
   "outputs": [
    {
     "data": {
      "text/plain": [
       "True"
      ]
     },
     "execution_count": 13,
     "metadata": {},
     "output_type": "execute_result"
    }
   ],
   "source": [
    "df2 = pd.read_csv(\"economy.csv\")\n",
    "df2.equals(df1)"
   ]
  },
  {
   "cell_type": "markdown",
   "id": "86d372f6",
   "metadata": {},
   "source": [
    "We can also read csv's directly from the internet with the same method:"
   ]
  },
  {
   "cell_type": "code",
   "execution_count": null,
   "id": "d0c138b9",
   "metadata": {},
   "outputs": [],
   "source": [
    "churn_df = pd.read_csv(\"https://raw.githubusercontent.com/EricSchles/datascience_book/master/Churn_Modelling.csv\")\n",
    "churn_df"
   ]
  },
  {
   "cell_type": "markdown",
   "id": "84285829",
   "metadata": {},
   "source": [
    "As you can see, all we need to do is supply a url pointing to a csv and we are all set!  In addition to being able to save to csvs and read from csvs, we can also read data directly from a database into pandas!  This is why pandas is sometimes thought of as an \"in-memory\" database.\n",
    "\n",
    "For this we are going to need a connection object to the database and a relevant query:"
   ]
  },
  {
   "cell_type": "code",
   "execution_count": 14,
   "id": "45077a85",
   "metadata": {},
   "outputs": [
    {
     "data": {
      "text/html": [
       "<div>\n",
       "<style scoped>\n",
       "    .dataframe tbody tr th:only-of-type {\n",
       "        vertical-align: middle;\n",
       "    }\n",
       "\n",
       "    .dataframe tbody tr th {\n",
       "        vertical-align: top;\n",
       "    }\n",
       "\n",
       "    .dataframe thead th {\n",
       "        text-align: right;\n",
       "    }\n",
       "</style>\n",
       "<table border=\"1\" class=\"dataframe\">\n",
       "  <thead>\n",
       "    <tr style=\"text-align: right;\">\n",
       "      <th></th>\n",
       "      <th>id</th>\n",
       "      <th>manufacturing</th>\n",
       "      <th>technology</th>\n",
       "      <th>real_estate</th>\n",
       "    </tr>\n",
       "  </thead>\n",
       "  <tbody>\n",
       "    <tr>\n",
       "      <th>0</th>\n",
       "      <td>0</td>\n",
       "      <td>18.24</td>\n",
       "      <td>66.41</td>\n",
       "      <td>72.19</td>\n",
       "    </tr>\n",
       "    <tr>\n",
       "      <th>1</th>\n",
       "      <td>1</td>\n",
       "      <td>14.89</td>\n",
       "      <td>11.78</td>\n",
       "      <td>73.49</td>\n",
       "    </tr>\n",
       "    <tr>\n",
       "      <th>2</th>\n",
       "      <td>2</td>\n",
       "      <td>95.07</td>\n",
       "      <td>67.08</td>\n",
       "      <td>12.53</td>\n",
       "    </tr>\n",
       "    <tr>\n",
       "      <th>3</th>\n",
       "      <td>3</td>\n",
       "      <td>58.37</td>\n",
       "      <td>45.39</td>\n",
       "      <td>75.58</td>\n",
       "    </tr>\n",
       "    <tr>\n",
       "      <th>4</th>\n",
       "      <td>4</td>\n",
       "      <td>47.39</td>\n",
       "      <td>80.52</td>\n",
       "      <td>43.65</td>\n",
       "    </tr>\n",
       "  </tbody>\n",
       "</table>\n",
       "</div>"
      ],
      "text/plain": [
       "   id  manufacturing  technology  real_estate\n",
       "0   0          18.24       66.41        72.19\n",
       "1   1          14.89       11.78        73.49\n",
       "2   2          95.07       67.08        12.53\n",
       "3   3          58.37       45.39        75.58\n",
       "4   4          47.39       80.52        43.65"
      ]
     },
     "execution_count": 14,
     "metadata": {},
     "output_type": "execute_result"
    }
   ],
   "source": [
    "import pandas as pd\n",
    "import sqlite3 as sql\n",
    "connection = sql.connect(\"economy.db\")\n",
    "df = pd.read_sql_query(\"SELECT * FROM industry\", connection)\n",
    "df.head()"
   ]
  },
  {
   "cell_type": "markdown",
   "id": "dbac48d0",
   "metadata": {},
   "source": [
    "As you can see, we can pull in any information we might want from a database connect, directly into python.  This is a huge asset for doing data analysis and can make working on real world projects much easier.  Notice that we have all the column names automatically as they appear in the database without any further manipulation in python.  This makes the pandas dataframe, truly a batteries included library.  \n",
    "\n",
    "## SQL Introduction\n",
    "\n",
    "Since reading data from a database is so important for working as a data scientist, we'll do a brief review of SQL now and then look at the pandas equivalences along side our SQL queries.\n",
    "\n",
    "The most basic SQL query is:\n",
    "\n",
    "`SELECT * FROM [SCHEMA NAME].[TABLE NAME];`\n",
    "\n",
    "Notice that this statement, like all SQL statements ends with a `;` which is necessary unlike in python.  We've already seen an example, but let's look at it again:"
   ]
  },
  {
   "cell_type": "code",
   "execution_count": 15,
   "id": "f9be895f",
   "metadata": {},
   "outputs": [],
   "source": [
    "engine = connection.cursor()\n",
    "sql_data = engine.execute(\"SELECT * FROM industry;\").fetchall()"
   ]
  },
  {
   "cell_type": "markdown",
   "id": "a1a1f39f",
   "metadata": {},
   "source": [
    "Notice that we need to call the `fetchall` method in order to actually execute the query.  Whenever we are getting data from a database connection object, we need to do a fetch of some kind.  There are multiple fetch methods available:"
   ]
  },
  {
   "cell_type": "code",
   "execution_count": 16,
   "id": "2d15b003",
   "metadata": {},
   "outputs": [
    {
     "data": {
      "text/plain": [
       "['fetchall', 'fetchmany', 'fetchone']"
      ]
     },
     "execution_count": 16,
     "metadata": {},
     "output_type": "execute_result"
    }
   ],
   "source": [
    "[\n",
    "    method \n",
    "    for method in dir(engine.execute(\"SELECT * FROM industry;\")) \n",
    "    if \"fetch\" in method and \"_\" not in method\n",
    "]"
   ]
  },
  {
   "cell_type": "markdown",
   "id": "9567af68",
   "metadata": {},
   "source": [
    "We will make use of `fetchall` most often, however for large tables that can't be read in all at once `fetchmany` and `fetchone` are useful primitives.\n",
    "\n",
    "Now let's look at the pandas equivalence:"
   ]
  },
  {
   "cell_type": "code",
   "execution_count": 18,
   "id": "8a47bb3b",
   "metadata": {},
   "outputs": [
    {
     "data": {
      "text/html": [
       "<div>\n",
       "<style scoped>\n",
       "    .dataframe tbody tr th:only-of-type {\n",
       "        vertical-align: middle;\n",
       "    }\n",
       "\n",
       "    .dataframe tbody tr th {\n",
       "        vertical-align: top;\n",
       "    }\n",
       "\n",
       "    .dataframe thead th {\n",
       "        text-align: right;\n",
       "    }\n",
       "</style>\n",
       "<table border=\"1\" class=\"dataframe\">\n",
       "  <thead>\n",
       "    <tr style=\"text-align: right;\">\n",
       "      <th></th>\n",
       "      <th>id</th>\n",
       "      <th>manufacturing</th>\n",
       "      <th>technology</th>\n",
       "      <th>real_estate</th>\n",
       "    </tr>\n",
       "  </thead>\n",
       "  <tbody>\n",
       "    <tr>\n",
       "      <th>0</th>\n",
       "      <td>0</td>\n",
       "      <td>18.24</td>\n",
       "      <td>66.41</td>\n",
       "      <td>72.19</td>\n",
       "    </tr>\n",
       "    <tr>\n",
       "      <th>1</th>\n",
       "      <td>1</td>\n",
       "      <td>14.89</td>\n",
       "      <td>11.78</td>\n",
       "      <td>73.49</td>\n",
       "    </tr>\n",
       "    <tr>\n",
       "      <th>2</th>\n",
       "      <td>2</td>\n",
       "      <td>95.07</td>\n",
       "      <td>67.08</td>\n",
       "      <td>12.53</td>\n",
       "    </tr>\n",
       "    <tr>\n",
       "      <th>3</th>\n",
       "      <td>3</td>\n",
       "      <td>58.37</td>\n",
       "      <td>45.39</td>\n",
       "      <td>75.58</td>\n",
       "    </tr>\n",
       "    <tr>\n",
       "      <th>4</th>\n",
       "      <td>4</td>\n",
       "      <td>47.39</td>\n",
       "      <td>80.52</td>\n",
       "      <td>43.65</td>\n",
       "    </tr>\n",
       "    <tr>\n",
       "      <th>...</th>\n",
       "      <td>...</td>\n",
       "      <td>...</td>\n",
       "      <td>...</td>\n",
       "      <td>...</td>\n",
       "    </tr>\n",
       "    <tr>\n",
       "      <th>495</th>\n",
       "      <td>495</td>\n",
       "      <td>55.45</td>\n",
       "      <td>17.79</td>\n",
       "      <td>33.08</td>\n",
       "    </tr>\n",
       "    <tr>\n",
       "      <th>496</th>\n",
       "      <td>496</td>\n",
       "      <td>87.85</td>\n",
       "      <td>39.17</td>\n",
       "      <td>31.16</td>\n",
       "    </tr>\n",
       "    <tr>\n",
       "      <th>497</th>\n",
       "      <td>497</td>\n",
       "      <td>10.35</td>\n",
       "      <td>92.77</td>\n",
       "      <td>63.09</td>\n",
       "    </tr>\n",
       "    <tr>\n",
       "      <th>498</th>\n",
       "      <td>498</td>\n",
       "      <td>50.74</td>\n",
       "      <td>67.49</td>\n",
       "      <td>54.13</td>\n",
       "    </tr>\n",
       "    <tr>\n",
       "      <th>499</th>\n",
       "      <td>499</td>\n",
       "      <td>60.79</td>\n",
       "      <td>22.34</td>\n",
       "      <td>22.36</td>\n",
       "    </tr>\n",
       "  </tbody>\n",
       "</table>\n",
       "<p>500 rows × 4 columns</p>\n",
       "</div>"
      ],
      "text/plain": [
       "      id  manufacturing  technology  real_estate\n",
       "0      0          18.24       66.41        72.19\n",
       "1      1          14.89       11.78        73.49\n",
       "2      2          95.07       67.08        12.53\n",
       "3      3          58.37       45.39        75.58\n",
       "4      4          47.39       80.52        43.65\n",
       "..   ...            ...         ...          ...\n",
       "495  495          55.45       17.79        33.08\n",
       "496  496          87.85       39.17        31.16\n",
       "497  497          10.35       92.77        63.09\n",
       "498  498          50.74       67.49        54.13\n",
       "499  499          60.79       22.34        22.36\n",
       "\n",
       "[500 rows x 4 columns]"
      ]
     },
     "execution_count": 18,
     "metadata": {},
     "output_type": "execute_result"
    }
   ],
   "source": [
    "#id\tmanufacturing\ttechnology\treal_estate\n",
    "df[[\"id\", \"manufacturing\", \"technology\", \"real_estate\"]]"
   ]
  },
  {
   "cell_type": "markdown",
   "id": "c82168d2",
   "metadata": {},
   "source": [
    "As you can see, we have to be explicit about which columns we want in this version of the select statement.  However we can choose specific columns to select in both SQL and in pandas:"
   ]
  },
  {
   "cell_type": "code",
   "execution_count": 19,
   "id": "6abf6f0b",
   "metadata": {},
   "outputs": [],
   "source": [
    "sql_data = engine.execute(\"SELECT manufacturing FROM industry;\").fetchall()"
   ]
  },
  {
   "cell_type": "code",
   "execution_count": 20,
   "id": "73cf89e3",
   "metadata": {},
   "outputs": [
    {
     "data": {
      "text/plain": [
       "0      18.24\n",
       "1      14.89\n",
       "2      95.07\n",
       "3      58.37\n",
       "4      47.39\n",
       "       ...  \n",
       "495    55.45\n",
       "496    87.85\n",
       "497    10.35\n",
       "498    50.74\n",
       "499    60.79\n",
       "Name: manufacturing, Length: 500, dtype: float64"
      ]
     },
     "execution_count": 20,
     "metadata": {},
     "output_type": "execute_result"
    }
   ],
   "source": [
    "df[\"manufacturing\"]"
   ]
  },
  {
   "cell_type": "markdown",
   "id": "f1550fac",
   "metadata": {},
   "source": [
    "In general SQL statements function sort of like list comprehensions.  And most of them are built around the basic `SELECT` statement we just looked at.  Now let's explore some modifiers to this `SELECT` statement.  First let's look at how to recover information about the data from our query.\n",
    "\n",
    "These sorts of statements will take specific columns, apply functions to those columns, and then return the resultant transformation.  Here are some examples:"
   ]
  },
  {
   "cell_type": "code",
   "execution_count": 21,
   "id": "43d24f27",
   "metadata": {},
   "outputs": [
    {
     "data": {
      "text/plain": [
       "[(500,)]"
      ]
     },
     "execution_count": 21,
     "metadata": {},
     "output_type": "execute_result"
    }
   ],
   "source": [
    "engine.execute(\"SELECT COUNT(manufacturing) FROM industry;\").fetchall()"
   ]
  },
  {
   "cell_type": "markdown",
   "id": "248f3646",
   "metadata": {},
   "source": [
    "Here we want to know how many rows the manufacturing column has from the `industry`.  In general database tables all have the same number of rows, however we'll see how other modifers break this rule.  In addition to being able to call `COUNT` on a single column, we can also call it across all columns:"
   ]
  },
  {
   "cell_type": "code",
   "execution_count": 22,
   "id": "a60b1fa0",
   "metadata": {},
   "outputs": [
    {
     "data": {
      "text/plain": [
       "[(500,)]"
      ]
     },
     "execution_count": 22,
     "metadata": {},
     "output_type": "execute_result"
    }
   ],
   "source": [
    "engine.execute(\"SELECT COUNT(*) FROM industry;\").fetchall()"
   ]
  },
  {
   "cell_type": "markdown",
   "id": "7ef1895c",
   "metadata": {},
   "source": [
    "Here are the pandas equivalences:"
   ]
  },
  {
   "cell_type": "code",
   "execution_count": 23,
   "id": "29d51dee",
   "metadata": {},
   "outputs": [
    {
     "data": {
      "text/plain": [
       "(500, 500)"
      ]
     },
     "execution_count": 23,
     "metadata": {},
     "output_type": "execute_result"
    }
   ],
   "source": [
    "len(df[\"manufacturing\"]), df[\"manufacturing\"].shape[0]"
   ]
  },
  {
   "cell_type": "markdown",
   "id": "bbe944ed",
   "metadata": {},
   "source": [
    "The above are two different wants to return the number of rows for a specific column.  We can also do this across all rows:"
   ]
  },
  {
   "cell_type": "code",
   "execution_count": 24,
   "id": "4755ddaa",
   "metadata": {},
   "outputs": [
    {
     "data": {
      "text/plain": [
       "(500, 500)"
      ]
     },
     "execution_count": 24,
     "metadata": {},
     "output_type": "execute_result"
    }
   ],
   "source": [
    "len(df), df.shape[0]"
   ]
  },
  {
   "cell_type": "markdown",
   "id": "aaeef491",
   "metadata": {},
   "source": [
    "Next let's look at how to get the maximum or minimum of a column in SQL:"
   ]
  },
  {
   "cell_type": "code",
   "execution_count": 25,
   "id": "9e094e0b",
   "metadata": {},
   "outputs": [
    {
     "data": {
      "text/plain": [
       "[(99.98, 0.01)]"
      ]
     },
     "execution_count": 25,
     "metadata": {},
     "output_type": "execute_result"
    }
   ],
   "source": [
    "engine.execute(\n",
    "    \"SELECT MAX(manufacturing), MIN(manufacturing) FROM industry;\"\n",
    ").fetchall()"
   ]
  },
  {
   "cell_type": "markdown",
   "id": "9d59654c",
   "metadata": {},
   "source": [
    "As you can see, we can return multiple transformations on a single column in one `SELECT` statement.  This makes SQL very flexible, however this can also make things complicated quickly.  We'll see how to resolve that in a moment.  But first let's look at the pandas equivalence:"
   ]
  },
  {
   "cell_type": "code",
   "execution_count": 26,
   "id": "ed50b9e7",
   "metadata": {},
   "outputs": [
    {
     "data": {
      "text/plain": [
       "(99.98, 0.01)"
      ]
     },
     "execution_count": 26,
     "metadata": {},
     "output_type": "execute_result"
    }
   ],
   "source": [
    "df[\"manufacturing\"].max(), df[\"manufacturing\"].min()"
   ]
  },
  {
   "cell_type": "markdown",
   "id": "f69a9c30",
   "metadata": {},
   "source": [
    "One difference between SQL and pandas is with pandas we can operate over the entire dataframe at once:"
   ]
  },
  {
   "cell_type": "code",
   "execution_count": 27,
   "id": "5db6fd5b",
   "metadata": {},
   "outputs": [
    {
     "data": {
      "text/plain": [
       "id               499.00\n",
       "manufacturing     99.98\n",
       "technology        99.60\n",
       "real_estate       99.92\n",
       "dtype: float64"
      ]
     },
     "execution_count": 27,
     "metadata": {},
     "output_type": "execute_result"
    }
   ],
   "source": [
    "df.max()"
   ]
  },
  {
   "cell_type": "code",
   "execution_count": 28,
   "id": "15bf9699",
   "metadata": {},
   "outputs": [
    {
     "data": {
      "text/plain": [
       "id               0.00\n",
       "manufacturing    0.01\n",
       "technology       0.18\n",
       "real_estate      0.04\n",
       "dtype: float64"
      ]
     },
     "execution_count": 28,
     "metadata": {},
     "output_type": "execute_result"
    }
   ],
   "source": [
    "df.min()"
   ]
  },
  {
   "cell_type": "markdown",
   "id": "568af558",
   "metadata": {},
   "source": [
    "The equivalent is not as easily accomplished in SQL.  Next let's see how to query for rows that meet specific conditions.  For this we will need a `WHERE` clause as follows:\n",
    "\n",
    "\n",
    "`SELECT * FROM [SCHEMA NAME].[TABLE NAME] WHERE [TABLE COLUMN MEETS CONDITION];`\n",
    "\n",
    "Let's look at some specific examples:"
   ]
  },
  {
   "cell_type": "code",
   "execution_count": 29,
   "id": "317fea14",
   "metadata": {},
   "outputs": [],
   "source": [
    "sql_data = engine.execute(\"SELECT * FROM industry WHERE manufacturing>0.3;\").fetchall()"
   ]
  },
  {
   "cell_type": "markdown",
   "id": "909f229f",
   "metadata": {},
   "source": [
    "The pandas equivalence is:"
   ]
  },
  {
   "cell_type": "code",
   "execution_count": 30,
   "id": "c7155471",
   "metadata": {},
   "outputs": [
    {
     "data": {
      "text/html": [
       "<div>\n",
       "<style scoped>\n",
       "    .dataframe tbody tr th:only-of-type {\n",
       "        vertical-align: middle;\n",
       "    }\n",
       "\n",
       "    .dataframe tbody tr th {\n",
       "        vertical-align: top;\n",
       "    }\n",
       "\n",
       "    .dataframe thead th {\n",
       "        text-align: right;\n",
       "    }\n",
       "</style>\n",
       "<table border=\"1\" class=\"dataframe\">\n",
       "  <thead>\n",
       "    <tr style=\"text-align: right;\">\n",
       "      <th></th>\n",
       "      <th>id</th>\n",
       "      <th>manufacturing</th>\n",
       "      <th>technology</th>\n",
       "      <th>real_estate</th>\n",
       "    </tr>\n",
       "  </thead>\n",
       "  <tbody>\n",
       "    <tr>\n",
       "      <th>0</th>\n",
       "      <td>0</td>\n",
       "      <td>18.24</td>\n",
       "      <td>66.41</td>\n",
       "      <td>72.19</td>\n",
       "    </tr>\n",
       "    <tr>\n",
       "      <th>1</th>\n",
       "      <td>1</td>\n",
       "      <td>14.89</td>\n",
       "      <td>11.78</td>\n",
       "      <td>73.49</td>\n",
       "    </tr>\n",
       "    <tr>\n",
       "      <th>2</th>\n",
       "      <td>2</td>\n",
       "      <td>95.07</td>\n",
       "      <td>67.08</td>\n",
       "      <td>12.53</td>\n",
       "    </tr>\n",
       "    <tr>\n",
       "      <th>3</th>\n",
       "      <td>3</td>\n",
       "      <td>58.37</td>\n",
       "      <td>45.39</td>\n",
       "      <td>75.58</td>\n",
       "    </tr>\n",
       "    <tr>\n",
       "      <th>4</th>\n",
       "      <td>4</td>\n",
       "      <td>47.39</td>\n",
       "      <td>80.52</td>\n",
       "      <td>43.65</td>\n",
       "    </tr>\n",
       "    <tr>\n",
       "      <th>...</th>\n",
       "      <td>...</td>\n",
       "      <td>...</td>\n",
       "      <td>...</td>\n",
       "      <td>...</td>\n",
       "    </tr>\n",
       "    <tr>\n",
       "      <th>495</th>\n",
       "      <td>495</td>\n",
       "      <td>55.45</td>\n",
       "      <td>17.79</td>\n",
       "      <td>33.08</td>\n",
       "    </tr>\n",
       "    <tr>\n",
       "      <th>496</th>\n",
       "      <td>496</td>\n",
       "      <td>87.85</td>\n",
       "      <td>39.17</td>\n",
       "      <td>31.16</td>\n",
       "    </tr>\n",
       "    <tr>\n",
       "      <th>497</th>\n",
       "      <td>497</td>\n",
       "      <td>10.35</td>\n",
       "      <td>92.77</td>\n",
       "      <td>63.09</td>\n",
       "    </tr>\n",
       "    <tr>\n",
       "      <th>498</th>\n",
       "      <td>498</td>\n",
       "      <td>50.74</td>\n",
       "      <td>67.49</td>\n",
       "      <td>54.13</td>\n",
       "    </tr>\n",
       "    <tr>\n",
       "      <th>499</th>\n",
       "      <td>499</td>\n",
       "      <td>60.79</td>\n",
       "      <td>22.34</td>\n",
       "      <td>22.36</td>\n",
       "    </tr>\n",
       "  </tbody>\n",
       "</table>\n",
       "<p>498 rows × 4 columns</p>\n",
       "</div>"
      ],
      "text/plain": [
       "      id  manufacturing  technology  real_estate\n",
       "0      0          18.24       66.41        72.19\n",
       "1      1          14.89       11.78        73.49\n",
       "2      2          95.07       67.08        12.53\n",
       "3      3          58.37       45.39        75.58\n",
       "4      4          47.39       80.52        43.65\n",
       "..   ...            ...         ...          ...\n",
       "495  495          55.45       17.79        33.08\n",
       "496  496          87.85       39.17        31.16\n",
       "497  497          10.35       92.77        63.09\n",
       "498  498          50.74       67.49        54.13\n",
       "499  499          60.79       22.34        22.36\n",
       "\n",
       "[498 rows x 4 columns]"
      ]
     },
     "execution_count": 30,
     "metadata": {},
     "output_type": "execute_result"
    }
   ],
   "source": [
    "df[\n",
    "    df[\"manufacturing\"] > 0.3\n",
    "]"
   ]
  },
  {
   "cell_type": "markdown",
   "id": "d9f3451d",
   "metadata": {},
   "source": [
    "We can modify both of these statements to ensure that the number of rows is the same for both:"
   ]
  },
  {
   "cell_type": "code",
   "execution_count": 31,
   "id": "c88310c2",
   "metadata": {},
   "outputs": [
    {
     "data": {
      "text/plain": [
       "[(498,)]"
      ]
     },
     "execution_count": 31,
     "metadata": {},
     "output_type": "execute_result"
    }
   ],
   "source": [
    "engine.execute(\"SELECT COUNT(*) FROM industry WHERE manufacturing>0.3;\").fetchall()"
   ]
  },
  {
   "cell_type": "code",
   "execution_count": 32,
   "id": "d9b6044a",
   "metadata": {},
   "outputs": [
    {
     "data": {
      "text/plain": [
       "498"
      ]
     },
     "execution_count": 32,
     "metadata": {},
     "output_type": "execute_result"
    }
   ],
   "source": [
    "df[df[\"manufacturing\"] > 0.3].shape[0]"
   ]
  },
  {
   "cell_type": "markdown",
   "id": "463f0e3e",
   "metadata": {},
   "source": [
    "As you can see the same number of elements is returned in both cases.  Next let's look at an equality condition:"
   ]
  },
  {
   "cell_type": "code",
   "execution_count": 33,
   "id": "d8a1acc0",
   "metadata": {},
   "outputs": [
    {
     "data": {
      "text/plain": [
       "[(10, 97.79, 94.64, 95.03)]"
      ]
     },
     "execution_count": 33,
     "metadata": {},
     "output_type": "execute_result"
    }
   ],
   "source": [
    "engine.execute(\"SELECT * FROM industry WHERE id=10;\").fetchall()"
   ]
  },
  {
   "cell_type": "markdown",
   "id": "58e5f7f1",
   "metadata": {},
   "source": [
    "And the pandas equivalence:"
   ]
  },
  {
   "cell_type": "code",
   "execution_count": 34,
   "id": "484a5129",
   "metadata": {},
   "outputs": [
    {
     "data": {
      "text/html": [
       "<div>\n",
       "<style scoped>\n",
       "    .dataframe tbody tr th:only-of-type {\n",
       "        vertical-align: middle;\n",
       "    }\n",
       "\n",
       "    .dataframe tbody tr th {\n",
       "        vertical-align: top;\n",
       "    }\n",
       "\n",
       "    .dataframe thead th {\n",
       "        text-align: right;\n",
       "    }\n",
       "</style>\n",
       "<table border=\"1\" class=\"dataframe\">\n",
       "  <thead>\n",
       "    <tr style=\"text-align: right;\">\n",
       "      <th></th>\n",
       "      <th>id</th>\n",
       "      <th>manufacturing</th>\n",
       "      <th>technology</th>\n",
       "      <th>real_estate</th>\n",
       "    </tr>\n",
       "  </thead>\n",
       "  <tbody>\n",
       "    <tr>\n",
       "      <th>10</th>\n",
       "      <td>10</td>\n",
       "      <td>97.79</td>\n",
       "      <td>94.64</td>\n",
       "      <td>95.03</td>\n",
       "    </tr>\n",
       "  </tbody>\n",
       "</table>\n",
       "</div>"
      ],
      "text/plain": [
       "    id  manufacturing  technology  real_estate\n",
       "10  10          97.79       94.64        95.03"
      ]
     },
     "execution_count": 34,
     "metadata": {},
     "output_type": "execute_result"
    }
   ],
   "source": [
    "df[df[\"id\"] == 10]"
   ]
  },
  {
   "cell_type": "markdown",
   "id": "264a69c1",
   "metadata": {},
   "source": [
    "Notice the use of double equals in pandas and single equals in SQL as a difference between the two statements.  Sometimes our SQL statements can get very verbose, for this reason sometimes its useful to name our selections, especially if they are being modified.  In order to do this we use the `AS` keyword as follows:\n",
    "\n",
    "```\n",
    "SELECT\n",
    "[SELECTED COLUMN OR TRANSFORMATION] as transform\n",
    "FROM [SCHEMA NAME].[TABLE NAME];\n",
    "```\n",
    "\n",
    "Let's look at an example:"
   ]
  },
  {
   "cell_type": "code",
   "execution_count": 35,
   "id": "d88f69a2",
   "metadata": {},
   "outputs": [
    {
     "data": {
      "text/plain": [
       "[(0.01, 99.6, 495)]"
      ]
     },
     "execution_count": 35,
     "metadata": {},
     "output_type": "execute_result"
    }
   ],
   "source": [
    "engine.execute(\"\"\"\n",
    "SELECT \n",
    "    MIN(manufacturing) as min_manufacturing,\n",
    "    MAX(technology) as max_technology,\n",
    "    COUNT(real_estate) as size \n",
    "FROM \n",
    "    industry \n",
    "WHERE \n",
    "    real_estate >0.5;\n",
    "\"\"\").fetchall()"
   ]
  },
  {
   "cell_type": "markdown",
   "id": "0f2ca4e3",
   "metadata": {},
   "source": [
    "There isn't really a pandas equivalence to this naming convention, but it's necessary, when multiple `SELECT` statements are combined:"
   ]
  },
  {
   "cell_type": "code",
   "execution_count": 36,
   "id": "47996f4f",
   "metadata": {},
   "outputs": [
    {
     "data": {
      "text/plain": [
       "[(0.01,)]"
      ]
     },
     "execution_count": 36,
     "metadata": {},
     "output_type": "execute_result"
    }
   ],
   "source": [
    "engine.execute(\"\"\"\n",
    "SELECT \n",
    "    MIN(manufacturing)\n",
    "FROM (\n",
    " SELECT * \n",
    " FROM industry \n",
    " WHERE real_estate>0.5\n",
    ") as expensive_real_estate;\n",
    "\"\"\").fetchall()"
   ]
  },
  {
   "cell_type": "markdown",
   "id": "65a22ae4",
   "metadata": {},
   "source": [
    "The multiple select statement query does have an equivalence in pandas:"
   ]
  },
  {
   "cell_type": "code",
   "execution_count": 37,
   "id": "e3919be3",
   "metadata": {},
   "outputs": [
    {
     "data": {
      "text/plain": [
       "0.01"
      ]
     },
     "execution_count": 37,
     "metadata": {},
     "output_type": "execute_result"
    }
   ],
   "source": [
    "expensive_real_estate = df[df[\"real_estate\"] > 0.5]\n",
    "expensive_real_estate[\"manufacturing\"].min()"
   ]
  },
  {
   "cell_type": "markdown",
   "id": "b06607f3",
   "metadata": {},
   "source": [
    "One final point to make, and an important difference between SQL statements and querying a pandas dataframe:\n",
    "\n",
    "### Order is not guaranteed in a SQL `SELECT` statement.\n",
    "\n",
    "This point may seem trivial but it will come up at some point on a project so I mention it here.  You can always impose an ordering with an `ORDER BY` statement which will see in a moment.  But if you fail to impose an ordering, it is not guaranteed that your rows will be returned in the same order.  Let's see an example now:"
   ]
  },
  {
   "cell_type": "code",
   "execution_count": 38,
   "id": "d9aba3ed",
   "metadata": {},
   "outputs": [
    {
     "data": {
      "text/plain": [
       "False"
      ]
     },
     "execution_count": 38,
     "metadata": {},
     "output_type": "execute_result"
    }
   ],
   "source": [
    "sql_data_one = engine.execute(\"\"\"\n",
    " SELECT * \n",
    " FROM industry \n",
    " ORDER BY manufacturing;\n",
    "\"\"\").fetchall()\n",
    "\n",
    "sql_data_two = engine.execute(\"\"\"\n",
    " SELECT * \n",
    " FROM industry;\n",
    "\"\"\").fetchall()\n",
    "\n",
    "sql_data_one == sql_data_two"
   ]
  },
  {
   "cell_type": "markdown",
   "id": "c940350f",
   "metadata": {},
   "source": [
    "While we cannot guarantee ordering in SQL, we can in pandas.  That said, we can choose to change how the data is order with a call to `sort_values`:"
   ]
  },
  {
   "cell_type": "code",
   "execution_count": 39,
   "id": "29d92bdf",
   "metadata": {},
   "outputs": [
    {
     "data": {
      "text/html": [
       "<div>\n",
       "<style scoped>\n",
       "    .dataframe tbody tr th:only-of-type {\n",
       "        vertical-align: middle;\n",
       "    }\n",
       "\n",
       "    .dataframe tbody tr th {\n",
       "        vertical-align: top;\n",
       "    }\n",
       "\n",
       "    .dataframe thead th {\n",
       "        text-align: right;\n",
       "    }\n",
       "</style>\n",
       "<table border=\"1\" class=\"dataframe\">\n",
       "  <thead>\n",
       "    <tr style=\"text-align: right;\">\n",
       "      <th></th>\n",
       "      <th>id</th>\n",
       "      <th>manufacturing</th>\n",
       "      <th>technology</th>\n",
       "      <th>real_estate</th>\n",
       "    </tr>\n",
       "  </thead>\n",
       "  <tbody>\n",
       "    <tr>\n",
       "      <th>399</th>\n",
       "      <td>399</td>\n",
       "      <td>0.01</td>\n",
       "      <td>37.60</td>\n",
       "      <td>9.43</td>\n",
       "    </tr>\n",
       "    <tr>\n",
       "      <th>328</th>\n",
       "      <td>328</td>\n",
       "      <td>0.25</td>\n",
       "      <td>71.99</td>\n",
       "      <td>21.01</td>\n",
       "    </tr>\n",
       "    <tr>\n",
       "      <th>161</th>\n",
       "      <td>161</td>\n",
       "      <td>0.76</td>\n",
       "      <td>80.10</td>\n",
       "      <td>23.50</td>\n",
       "    </tr>\n",
       "    <tr>\n",
       "      <th>374</th>\n",
       "      <td>374</td>\n",
       "      <td>0.77</td>\n",
       "      <td>34.61</td>\n",
       "      <td>74.78</td>\n",
       "    </tr>\n",
       "    <tr>\n",
       "      <th>182</th>\n",
       "      <td>182</td>\n",
       "      <td>0.88</td>\n",
       "      <td>92.66</td>\n",
       "      <td>29.24</td>\n",
       "    </tr>\n",
       "    <tr>\n",
       "      <th>...</th>\n",
       "      <td>...</td>\n",
       "      <td>...</td>\n",
       "      <td>...</td>\n",
       "      <td>...</td>\n",
       "    </tr>\n",
       "    <tr>\n",
       "      <th>409</th>\n",
       "      <td>409</td>\n",
       "      <td>98.32</td>\n",
       "      <td>97.11</td>\n",
       "      <td>84.44</td>\n",
       "    </tr>\n",
       "    <tr>\n",
       "      <th>87</th>\n",
       "      <td>87</td>\n",
       "      <td>98.66</td>\n",
       "      <td>98.61</td>\n",
       "      <td>6.73</td>\n",
       "    </tr>\n",
       "    <tr>\n",
       "      <th>140</th>\n",
       "      <td>140</td>\n",
       "      <td>99.67</td>\n",
       "      <td>65.88</td>\n",
       "      <td>80.85</td>\n",
       "    </tr>\n",
       "    <tr>\n",
       "      <th>133</th>\n",
       "      <td>133</td>\n",
       "      <td>99.69</td>\n",
       "      <td>58.57</td>\n",
       "      <td>93.57</td>\n",
       "    </tr>\n",
       "    <tr>\n",
       "      <th>414</th>\n",
       "      <td>414</td>\n",
       "      <td>99.98</td>\n",
       "      <td>71.30</td>\n",
       "      <td>53.31</td>\n",
       "    </tr>\n",
       "  </tbody>\n",
       "</table>\n",
       "<p>500 rows × 4 columns</p>\n",
       "</div>"
      ],
      "text/plain": [
       "      id  manufacturing  technology  real_estate\n",
       "399  399           0.01       37.60         9.43\n",
       "328  328           0.25       71.99        21.01\n",
       "161  161           0.76       80.10        23.50\n",
       "374  374           0.77       34.61        74.78\n",
       "182  182           0.88       92.66        29.24\n",
       "..   ...            ...         ...          ...\n",
       "409  409          98.32       97.11        84.44\n",
       "87    87          98.66       98.61         6.73\n",
       "140  140          99.67       65.88        80.85\n",
       "133  133          99.69       58.57        93.57\n",
       "414  414          99.98       71.30        53.31\n",
       "\n",
       "[500 rows x 4 columns]"
      ]
     },
     "execution_count": 39,
     "metadata": {},
     "output_type": "execute_result"
    }
   ],
   "source": [
    "df = df.sort_values(\"manufacturing\")\n",
    "df"
   ]
  },
  {
   "cell_type": "markdown",
   "id": "8b5911cf",
   "metadata": {},
   "source": [
    "Notice if we do not mutate the dataframe by reassigning it, the new ordering will not be maintained.  This is why we have an equals statement followed by the `sort_values` method.\n",
    "\n",
    "Because this is a course on python and not SQL this ends our demonstration of SQL statements and there pandas equivalences.  The point is hopefully clear - pandas can do most if not all of the same things as a SQL query.\n",
    "\n",
    "## Pandas Querying Techniques\n",
    "\n",
    "Next we'll look at some more querying techniques, however just in pandas.  First let's see how to create a compound `SELECT` statement.  For each component statement we simply enclose them in parantheses and then join them with a boolean operator.  Here are the boolean operators we will consider:\n",
    "\n",
    "* `&` - The `AND` operator - It's truth table is\n",
    "\n",
    "| First  | Second  | First AND Second  |\n",
    "|---     |---      |---                |\n",
    "| True   | True    | True              |\n",
    "| True   | False   | False             |\n",
    "| False  | True    | False             |\n",
    "| False  | False   | False             |\n",
    "\n",
    "As you can see, only when both inputs of the operator are `True` does the `AND` operator return `True`.\n",
    "\n",
    "* `|` - the `OR` operator - It's truth table is\n",
    "\n",
    "| First  | Second  | First OR Second  |\n",
    "|---     |---      |---                |\n",
    "| True   | True    | True              |\n",
    "| True   | False   | True              |\n",
    "| False  | True    | True              |\n",
    "| False  | False   | False             |\n",
    "\n",
    "As you can see, when either input is `True` the `OR` operator returns `True`.\n",
    "\n",
    "* `~` - the `NOT` operator - It's truth table is\n",
    "\n",
    "| First  | NOT First |  \n",
    "|---     |---        |\n",
    "| True   | False     | \n",
    "| True   | False     | \n",
    "| False  | True      | \n",
    "| False  | True      | \n",
    "\n",
    "As you can see, the `NOT` operator simply reverses the truth of the input.\n",
    "\n",
    "You may recall from the numpy lecture, the way slicing works.  This is equivalent in pandas:"
   ]
  },
  {
   "cell_type": "code",
   "execution_count": 40,
   "id": "4b0a0080",
   "metadata": {},
   "outputs": [
    {
     "data": {
      "text/plain": [
       "(78, 5)"
      ]
     },
     "execution_count": 40,
     "metadata": {},
     "output_type": "execute_result"
    }
   ],
   "source": [
    "import numpy as np\n",
    "import pandas as pd\n",
    "\n",
    "matrix = np.random.rand(500, 5) * 100\n",
    "df = pd.DataFrame(matrix, columns=[\"A\", \"B\", \"C\", \"D\", \"E\"])\n",
    "\n",
    "df[\n",
    "    (df[\"A\"] > 50) &\n",
    "    (df[\"B\"] < 25)\n",
    "].shape"
   ]
  },
  {
   "cell_type": "markdown",
   "id": "171d8f19",
   "metadata": {},
   "source": [
    "Now let's look at an `OR` example:"
   ]
  },
  {
   "cell_type": "code",
   "execution_count": 41,
   "id": "5cbe59c6",
   "metadata": {},
   "outputs": [
    {
     "data": {
      "text/plain": [
       "(337, 5)"
      ]
     },
     "execution_count": 41,
     "metadata": {},
     "output_type": "execute_result"
    }
   ],
   "source": [
    "df[\n",
    "    (df[\"A\"] > 50) |\n",
    "    (df[\"B\"] < 25)\n",
    "].shape"
   ]
  },
  {
   "cell_type": "markdown",
   "id": "ddf202f9",
   "metadata": {},
   "source": [
    "Notice, significantly more data is returned because _either_ of the component statements need to be `True` not both.\n",
    "\n",
    "## Pandas Merging\n",
    "\n",
    "In this section we will go over merging two or more dataframes together in pandas.  For this we will look at the following methods:\n",
    "\n",
    "* append\n",
    "* concat\n",
    "* merge\n",
    "\n",
    "While we will introduce the topic here, we will not provide an _exhaustive_ enumeration of the functionality of these methods.  Please consider checking out the  [pandas docs](https://pandas.pydata.org/pandas-docs/stable/user_guide/merging.html) for more information.\n",
    "\n",
    "### Append\n",
    "\n",
    "The most common technique for combining dataframes in the append.  It works similarly to the builtin list's append function.  Let's look at some examples:"
   ]
  },
  {
   "cell_type": "code",
   "execution_count": 42,
   "id": "9b3dbdab",
   "metadata": {},
   "outputs": [
    {
     "data": {
      "text/plain": [
       "(100, 2)"
      ]
     },
     "execution_count": 42,
     "metadata": {},
     "output_type": "execute_result"
    }
   ],
   "source": [
    "import pandas as pd\n",
    "import random \n",
    "\n",
    "df = pd.DataFrame()\n",
    "\n",
    "for _ in range(100):\n",
    "    df = df.append({\n",
    "        \"A\": round(random.random() * 100, 2),\n",
    "        \"B\": round(random.random() * 1000, 3)\n",
    "    }, ignore_index=True)\n",
    "    \n",
    "df.shape"
   ]
  },
  {
   "cell_type": "markdown",
   "id": "ab6c4ab3",
   "metadata": {},
   "source": [
    "As you can see, we can append dictionaries to a dataframe, so long as we use consistent keys.  Those keys get mapped to the columns of the dataframe:"
   ]
  },
  {
   "cell_type": "code",
   "execution_count": 43,
   "id": "c1dad10a",
   "metadata": {},
   "outputs": [
    {
     "data": {
      "text/html": [
       "<div>\n",
       "<style scoped>\n",
       "    .dataframe tbody tr th:only-of-type {\n",
       "        vertical-align: middle;\n",
       "    }\n",
       "\n",
       "    .dataframe tbody tr th {\n",
       "        vertical-align: top;\n",
       "    }\n",
       "\n",
       "    .dataframe thead th {\n",
       "        text-align: right;\n",
       "    }\n",
       "</style>\n",
       "<table border=\"1\" class=\"dataframe\">\n",
       "  <thead>\n",
       "    <tr style=\"text-align: right;\">\n",
       "      <th></th>\n",
       "      <th>A</th>\n",
       "      <th>B</th>\n",
       "    </tr>\n",
       "  </thead>\n",
       "  <tbody>\n",
       "    <tr>\n",
       "      <th>0</th>\n",
       "      <td>17.81</td>\n",
       "      <td>679.673</td>\n",
       "    </tr>\n",
       "    <tr>\n",
       "      <th>1</th>\n",
       "      <td>51.49</td>\n",
       "      <td>674.874</td>\n",
       "    </tr>\n",
       "    <tr>\n",
       "      <th>2</th>\n",
       "      <td>92.51</td>\n",
       "      <td>879.666</td>\n",
       "    </tr>\n",
       "    <tr>\n",
       "      <th>3</th>\n",
       "      <td>61.93</td>\n",
       "      <td>631.964</td>\n",
       "    </tr>\n",
       "    <tr>\n",
       "      <th>4</th>\n",
       "      <td>10.77</td>\n",
       "      <td>984.096</td>\n",
       "    </tr>\n",
       "  </tbody>\n",
       "</table>\n",
       "</div>"
      ],
      "text/plain": [
       "       A        B\n",
       "0  17.81  679.673\n",
       "1  51.49  674.874\n",
       "2  92.51  879.666\n",
       "3  61.93  631.964\n",
       "4  10.77  984.096"
      ]
     },
     "execution_count": 43,
     "metadata": {},
     "output_type": "execute_result"
    }
   ],
   "source": [
    "df.head()"
   ]
  },
  {
   "cell_type": "markdown",
   "id": "82bd6e0b",
   "metadata": {},
   "source": [
    "Also notice the use of ignore_index - this is required when we append a dictionary to a pandas dataframe because dictionaries don't have an index and pandas expects this to know where to put the data.  If no index is present, the data just gets appended to the end of the dataframe.  However, if you append a pandas dataframe to a pandas dataframe and the indexes are the same, something different happens:"
   ]
  },
  {
   "cell_type": "code",
   "execution_count": 44,
   "id": "eed72604",
   "metadata": {},
   "outputs": [
    {
     "data": {
      "text/html": [
       "<div>\n",
       "<style scoped>\n",
       "    .dataframe tbody tr th:only-of-type {\n",
       "        vertical-align: middle;\n",
       "    }\n",
       "\n",
       "    .dataframe tbody tr th {\n",
       "        vertical-align: top;\n",
       "    }\n",
       "\n",
       "    .dataframe thead th {\n",
       "        text-align: right;\n",
       "    }\n",
       "</style>\n",
       "<table border=\"1\" class=\"dataframe\">\n",
       "  <thead>\n",
       "    <tr style=\"text-align: right;\">\n",
       "      <th></th>\n",
       "      <th>A</th>\n",
       "      <th>B</th>\n",
       "    </tr>\n",
       "  </thead>\n",
       "  <tbody>\n",
       "    <tr>\n",
       "      <th>0</th>\n",
       "      <td>0.0</td>\n",
       "      <td>0.0</td>\n",
       "    </tr>\n",
       "    <tr>\n",
       "      <th>1</th>\n",
       "      <td>1.0</td>\n",
       "      <td>1.0</td>\n",
       "    </tr>\n",
       "    <tr>\n",
       "      <th>2</th>\n",
       "      <td>2.0</td>\n",
       "      <td>2.0</td>\n",
       "    </tr>\n",
       "  </tbody>\n",
       "</table>\n",
       "</div>"
      ],
      "text/plain": [
       "     A    B\n",
       "0  0.0  0.0\n",
       "1  1.0  1.0\n",
       "2  2.0  2.0"
      ]
     },
     "execution_count": 44,
     "metadata": {},
     "output_type": "execute_result"
    }
   ],
   "source": [
    "import pandas as pd\n",
    "import numpy as np\n",
    "\n",
    "matrix_one = np.random.rand(3, 2) * 100\n",
    "df_one = pd.DataFrame(matrix_one, columns=[\"A\", \"B\"])\n",
    "df_two = pd.DataFrame()\n",
    "\n",
    "for index in range(3):\n",
    "    df_two = df_two.append({\n",
    "        \"A\": index,\n",
    "        \"B\": index\n",
    "    }, ignore_index=True)\n",
    "    \n",
    "df_two"
   ]
  },
  {
   "cell_type": "code",
   "execution_count": 45,
   "id": "5e06865a",
   "metadata": {},
   "outputs": [
    {
     "data": {
      "text/html": [
       "<div>\n",
       "<style scoped>\n",
       "    .dataframe tbody tr th:only-of-type {\n",
       "        vertical-align: middle;\n",
       "    }\n",
       "\n",
       "    .dataframe tbody tr th {\n",
       "        vertical-align: top;\n",
       "    }\n",
       "\n",
       "    .dataframe thead th {\n",
       "        text-align: right;\n",
       "    }\n",
       "</style>\n",
       "<table border=\"1\" class=\"dataframe\">\n",
       "  <thead>\n",
       "    <tr style=\"text-align: right;\">\n",
       "      <th></th>\n",
       "      <th>A</th>\n",
       "      <th>B</th>\n",
       "    </tr>\n",
       "  </thead>\n",
       "  <tbody>\n",
       "    <tr>\n",
       "      <th>0</th>\n",
       "      <td>0.000000</td>\n",
       "      <td>0.000000</td>\n",
       "    </tr>\n",
       "    <tr>\n",
       "      <th>1</th>\n",
       "      <td>1.000000</td>\n",
       "      <td>1.000000</td>\n",
       "    </tr>\n",
       "    <tr>\n",
       "      <th>2</th>\n",
       "      <td>2.000000</td>\n",
       "      <td>2.000000</td>\n",
       "    </tr>\n",
       "    <tr>\n",
       "      <th>0</th>\n",
       "      <td>53.021144</td>\n",
       "      <td>81.479154</td>\n",
       "    </tr>\n",
       "    <tr>\n",
       "      <th>1</th>\n",
       "      <td>63.573473</td>\n",
       "      <td>54.581931</td>\n",
       "    </tr>\n",
       "    <tr>\n",
       "      <th>2</th>\n",
       "      <td>47.762291</td>\n",
       "      <td>76.338762</td>\n",
       "    </tr>\n",
       "  </tbody>\n",
       "</table>\n",
       "</div>"
      ],
      "text/plain": [
       "           A          B\n",
       "0   0.000000   0.000000\n",
       "1   1.000000   1.000000\n",
       "2   2.000000   2.000000\n",
       "0  53.021144  81.479154\n",
       "1  63.573473  54.581931\n",
       "2  47.762291  76.338762"
      ]
     },
     "execution_count": 45,
     "metadata": {},
     "output_type": "execute_result"
    }
   ],
   "source": [
    "df_two = df_two.append(df_one)\n",
    "df_two"
   ]
  },
  {
   "cell_type": "markdown",
   "id": "33222355",
   "metadata": {},
   "source": [
    "Notice, now the index repeats itself since the dataframes have the same index.  Let's see what happens if we try to select the first element:"
   ]
  },
  {
   "cell_type": "code",
   "execution_count": 46,
   "id": "78787659",
   "metadata": {},
   "outputs": [
    {
     "data": {
      "text/html": [
       "<div>\n",
       "<style scoped>\n",
       "    .dataframe tbody tr th:only-of-type {\n",
       "        vertical-align: middle;\n",
       "    }\n",
       "\n",
       "    .dataframe tbody tr th {\n",
       "        vertical-align: top;\n",
       "    }\n",
       "\n",
       "    .dataframe thead th {\n",
       "        text-align: right;\n",
       "    }\n",
       "</style>\n",
       "<table border=\"1\" class=\"dataframe\">\n",
       "  <thead>\n",
       "    <tr style=\"text-align: right;\">\n",
       "      <th></th>\n",
       "      <th>A</th>\n",
       "      <th>B</th>\n",
       "    </tr>\n",
       "  </thead>\n",
       "  <tbody>\n",
       "    <tr>\n",
       "      <th>0</th>\n",
       "      <td>0.000000</td>\n",
       "      <td>0.000000</td>\n",
       "    </tr>\n",
       "    <tr>\n",
       "      <th>0</th>\n",
       "      <td>53.021144</td>\n",
       "      <td>81.479154</td>\n",
       "    </tr>\n",
       "  </tbody>\n",
       "</table>\n",
       "</div>"
      ],
      "text/plain": [
       "           A          B\n",
       "0   0.000000   0.000000\n",
       "0  53.021144  81.479154"
      ]
     },
     "execution_count": 46,
     "metadata": {},
     "output_type": "execute_result"
    }
   ],
   "source": [
    "df_two.loc[0]"
   ]
  },
  {
   "cell_type": "markdown",
   "id": "fadd912a",
   "metadata": {},
   "source": [
    "This returns two elements, which is certainly unexpected behavior.  Many of pandas other methods rely on the index elements being unique.  Therefore this error will break a bunch of code and is a very common pandas bug.  Luckily this is very easy to resolve:"
   ]
  },
  {
   "cell_type": "code",
   "execution_count": 47,
   "id": "15075fb5",
   "metadata": {},
   "outputs": [
    {
     "data": {
      "text/plain": [
       "index    0.0\n",
       "A        0.0\n",
       "B        0.0\n",
       "Name: 0, dtype: float64"
      ]
     },
     "execution_count": 47,
     "metadata": {},
     "output_type": "execute_result"
    }
   ],
   "source": [
    "df_two = df_two.reset_index()\n",
    "df_two.loc[0]"
   ]
  },
  {
   "cell_type": "markdown",
   "id": "4196f85f",
   "metadata": {},
   "source": [
    "By reseting the index, we recover an ordering with a unique row index.  Be careful when using this that simply resetting the row index is what you want.\n",
    "\n",
    "### Concat\n",
    "\n",
    "Next let's look at how to \"concatenate\" two dataframes together:\n"
   ]
  },
  {
   "cell_type": "code",
   "execution_count": 48,
   "id": "9f39f86b",
   "metadata": {},
   "outputs": [
    {
     "data": {
      "text/html": [
       "<div>\n",
       "<style scoped>\n",
       "    .dataframe tbody tr th:only-of-type {\n",
       "        vertical-align: middle;\n",
       "    }\n",
       "\n",
       "    .dataframe tbody tr th {\n",
       "        vertical-align: top;\n",
       "    }\n",
       "\n",
       "    .dataframe thead th {\n",
       "        text-align: right;\n",
       "    }\n",
       "</style>\n",
       "<table border=\"1\" class=\"dataframe\">\n",
       "  <thead>\n",
       "    <tr style=\"text-align: right;\">\n",
       "      <th></th>\n",
       "      <th>A</th>\n",
       "      <th>B</th>\n",
       "    </tr>\n",
       "  </thead>\n",
       "  <tbody>\n",
       "    <tr>\n",
       "      <th>0</th>\n",
       "      <td>21.141901</td>\n",
       "      <td>66.162747</td>\n",
       "    </tr>\n",
       "    <tr>\n",
       "      <th>1</th>\n",
       "      <td>42.382557</td>\n",
       "      <td>43.663889</td>\n",
       "    </tr>\n",
       "    <tr>\n",
       "      <th>2</th>\n",
       "      <td>13.975004</td>\n",
       "      <td>73.809950</td>\n",
       "    </tr>\n",
       "    <tr>\n",
       "      <th>0</th>\n",
       "      <td>0.000000</td>\n",
       "      <td>0.000000</td>\n",
       "    </tr>\n",
       "    <tr>\n",
       "      <th>1</th>\n",
       "      <td>1.000000</td>\n",
       "      <td>1.000000</td>\n",
       "    </tr>\n",
       "    <tr>\n",
       "      <th>2</th>\n",
       "      <td>2.000000</td>\n",
       "      <td>2.000000</td>\n",
       "    </tr>\n",
       "  </tbody>\n",
       "</table>\n",
       "</div>"
      ],
      "text/plain": [
       "           A          B\n",
       "0  21.141901  66.162747\n",
       "1  42.382557  43.663889\n",
       "2  13.975004  73.809950\n",
       "0   0.000000   0.000000\n",
       "1   1.000000   1.000000\n",
       "2   2.000000   2.000000"
      ]
     },
     "execution_count": 48,
     "metadata": {},
     "output_type": "execute_result"
    }
   ],
   "source": [
    "import pandas as pd\n",
    "import numpy as np\n",
    "\n",
    "matrix_one = np.random.rand(3, 2) * 100\n",
    "df_one = pd.DataFrame(matrix_one, columns=[\"A\", \"B\"])\n",
    "df_two = pd.DataFrame()\n",
    "\n",
    "for index in range(3):\n",
    "    df_two = df_two.append({\n",
    "        \"A\": index,\n",
    "        \"B\": index\n",
    "    }, ignore_index=True)\n",
    "    \n",
    "pd.concat([df_one, df_two])"
   ]
  },
  {
   "cell_type": "markdown",
   "id": "8f969b5f",
   "metadata": {},
   "source": [
    "Notice this does the same thing as an append, except it allows us to provide a list of dataframes, rather than having to append them one at a time.  Note that concat expects the columns to be the same for both dataframes.  If you try to concatenate two dataframes with different columns, you will get unexpected behavior:"
   ]
  },
  {
   "cell_type": "code",
   "execution_count": 49,
   "id": "53fcc6ac",
   "metadata": {},
   "outputs": [
    {
     "data": {
      "text/html": [
       "<div>\n",
       "<style scoped>\n",
       "    .dataframe tbody tr th:only-of-type {\n",
       "        vertical-align: middle;\n",
       "    }\n",
       "\n",
       "    .dataframe tbody tr th {\n",
       "        vertical-align: top;\n",
       "    }\n",
       "\n",
       "    .dataframe thead th {\n",
       "        text-align: right;\n",
       "    }\n",
       "</style>\n",
       "<table border=\"1\" class=\"dataframe\">\n",
       "  <thead>\n",
       "    <tr style=\"text-align: right;\">\n",
       "      <th></th>\n",
       "      <th>A</th>\n",
       "      <th>B</th>\n",
       "      <th>C</th>\n",
       "      <th>D</th>\n",
       "    </tr>\n",
       "  </thead>\n",
       "  <tbody>\n",
       "    <tr>\n",
       "      <th>0</th>\n",
       "      <td>54.594504</td>\n",
       "      <td>14.399045</td>\n",
       "      <td>NaN</td>\n",
       "      <td>NaN</td>\n",
       "    </tr>\n",
       "    <tr>\n",
       "      <th>1</th>\n",
       "      <td>13.776155</td>\n",
       "      <td>17.707866</td>\n",
       "      <td>NaN</td>\n",
       "      <td>NaN</td>\n",
       "    </tr>\n",
       "    <tr>\n",
       "      <th>2</th>\n",
       "      <td>8.499159</td>\n",
       "      <td>68.064523</td>\n",
       "      <td>NaN</td>\n",
       "      <td>NaN</td>\n",
       "    </tr>\n",
       "    <tr>\n",
       "      <th>0</th>\n",
       "      <td>NaN</td>\n",
       "      <td>NaN</td>\n",
       "      <td>0.0</td>\n",
       "      <td>0.0</td>\n",
       "    </tr>\n",
       "    <tr>\n",
       "      <th>1</th>\n",
       "      <td>NaN</td>\n",
       "      <td>NaN</td>\n",
       "      <td>1.0</td>\n",
       "      <td>1.0</td>\n",
       "    </tr>\n",
       "    <tr>\n",
       "      <th>2</th>\n",
       "      <td>NaN</td>\n",
       "      <td>NaN</td>\n",
       "      <td>2.0</td>\n",
       "      <td>2.0</td>\n",
       "    </tr>\n",
       "  </tbody>\n",
       "</table>\n",
       "</div>"
      ],
      "text/plain": [
       "           A          B    C    D\n",
       "0  54.594504  14.399045  NaN  NaN\n",
       "1  13.776155  17.707866  NaN  NaN\n",
       "2   8.499159  68.064523  NaN  NaN\n",
       "0        NaN        NaN  0.0  0.0\n",
       "1        NaN        NaN  1.0  1.0\n",
       "2        NaN        NaN  2.0  2.0"
      ]
     },
     "execution_count": 49,
     "metadata": {},
     "output_type": "execute_result"
    }
   ],
   "source": [
    "import pandas as pd\n",
    "import numpy as np\n",
    "\n",
    "matrix_one = np.random.rand(3, 2) * 100\n",
    "df_one = pd.DataFrame(matrix_one, columns=[\"A\", \"B\"])\n",
    "df_two = pd.DataFrame()\n",
    "\n",
    "for index in range(3):\n",
    "    df_two = df_two.append({\n",
    "        \"C\": index,\n",
    "        \"D\": index\n",
    "    }, ignore_index=True)\n",
    "    \n",
    "pd.concat([df_one, df_two])"
   ]
  },
  {
   "cell_type": "markdown",
   "id": "f3e2c741",
   "metadata": {},
   "source": [
    "Notice that `concat` doesn't know how to handle the missing data, so it just sticks `NaN`s in as a placeholder.\n",
    "\n",
    "### Merge\n",
    "\n",
    "Next we'll look at merge which relies on a join.  The nice thing about this method is, it doesn't require all the columns in the two dataframes to be the same.  However they need to have at least one column in common which is used to \"merge\" the data.  "
   ]
  },
  {
   "cell_type": "code",
   "execution_count": 50,
   "id": "524fd5d9",
   "metadata": {},
   "outputs": [
    {
     "data": {
      "text/html": [
       "<div>\n",
       "<style scoped>\n",
       "    .dataframe tbody tr th:only-of-type {\n",
       "        vertical-align: middle;\n",
       "    }\n",
       "\n",
       "    .dataframe tbody tr th {\n",
       "        vertical-align: top;\n",
       "    }\n",
       "\n",
       "    .dataframe thead th {\n",
       "        text-align: right;\n",
       "    }\n",
       "</style>\n",
       "<table border=\"1\" class=\"dataframe\">\n",
       "  <thead>\n",
       "    <tr style=\"text-align: right;\">\n",
       "      <th></th>\n",
       "      <th>A</th>\n",
       "      <th>E</th>\n",
       "      <th>D</th>\n",
       "    </tr>\n",
       "  </thead>\n",
       "  <tbody>\n",
       "    <tr>\n",
       "      <th>0</th>\n",
       "      <td>0.0</td>\n",
       "      <td>0.0</td>\n",
       "      <td>0.0</td>\n",
       "    </tr>\n",
       "    <tr>\n",
       "      <th>1</th>\n",
       "      <td>1.0</td>\n",
       "      <td>3.0</td>\n",
       "      <td>5.0</td>\n",
       "    </tr>\n",
       "    <tr>\n",
       "      <th>2</th>\n",
       "      <td>2.0</td>\n",
       "      <td>6.0</td>\n",
       "      <td>10.0</td>\n",
       "    </tr>\n",
       "  </tbody>\n",
       "</table>\n",
       "</div>"
      ],
      "text/plain": [
       "     A    E     D\n",
       "0  0.0  0.0   0.0\n",
       "1  1.0  3.0   5.0\n",
       "2  2.0  6.0  10.0"
      ]
     },
     "execution_count": 50,
     "metadata": {},
     "output_type": "execute_result"
    }
   ],
   "source": [
    "import pandas as pd\n",
    "import numpy as np\n",
    "\n",
    "df_one = pd.DataFrame()\n",
    "\n",
    "for index in range(3):\n",
    "    df_one = df_one.append({\n",
    "        \"A\": index,\n",
    "        \"E\": index * 3\n",
    "    }, ignore_index=True)\n",
    "\n",
    "df_two = pd.DataFrame()\n",
    "\n",
    "for index in range(3):\n",
    "    df_two = df_two.append({\n",
    "        \"A\": index,\n",
    "        \"D\": index * 5\n",
    "    }, ignore_index=True)\n",
    "    \n",
    "pd.merge(df_one, df_two, how=\"inner\", on=\"A\")"
   ]
  },
  {
   "cell_type": "markdown",
   "id": "73376d9c",
   "metadata": {},
   "source": [
    "You can make an explicit index column if there is no obvious choice:"
   ]
  },
  {
   "cell_type": "code",
   "execution_count": 51,
   "id": "048cabfd",
   "metadata": {},
   "outputs": [
    {
     "data": {
      "text/html": [
       "<div>\n",
       "<style scoped>\n",
       "    .dataframe tbody tr th:only-of-type {\n",
       "        vertical-align: middle;\n",
       "    }\n",
       "\n",
       "    .dataframe tbody tr th {\n",
       "        vertical-align: top;\n",
       "    }\n",
       "\n",
       "    .dataframe thead th {\n",
       "        text-align: right;\n",
       "    }\n",
       "</style>\n",
       "<table border=\"1\" class=\"dataframe\">\n",
       "  <thead>\n",
       "    <tr style=\"text-align: right;\">\n",
       "      <th></th>\n",
       "      <th>A</th>\n",
       "      <th>B</th>\n",
       "      <th>index</th>\n",
       "      <th>C</th>\n",
       "      <th>D</th>\n",
       "    </tr>\n",
       "  </thead>\n",
       "  <tbody>\n",
       "    <tr>\n",
       "      <th>0</th>\n",
       "      <td>58.813212</td>\n",
       "      <td>23.542619</td>\n",
       "      <td>0</td>\n",
       "      <td>72.604185</td>\n",
       "      <td>78.022299</td>\n",
       "    </tr>\n",
       "    <tr>\n",
       "      <th>1</th>\n",
       "      <td>97.875475</td>\n",
       "      <td>31.352383</td>\n",
       "      <td>1</td>\n",
       "      <td>19.036230</td>\n",
       "      <td>92.510758</td>\n",
       "    </tr>\n",
       "    <tr>\n",
       "      <th>2</th>\n",
       "      <td>12.437097</td>\n",
       "      <td>61.702843</td>\n",
       "      <td>2</td>\n",
       "      <td>47.217048</td>\n",
       "      <td>82.834555</td>\n",
       "    </tr>\n",
       "  </tbody>\n",
       "</table>\n",
       "</div>"
      ],
      "text/plain": [
       "           A          B  index          C          D\n",
       "0  58.813212  23.542619      0  72.604185  78.022299\n",
       "1  97.875475  31.352383      1  19.036230  92.510758\n",
       "2  12.437097  61.702843      2  47.217048  82.834555"
      ]
     },
     "execution_count": 51,
     "metadata": {},
     "output_type": "execute_result"
    }
   ],
   "source": [
    "import pandas as pd\n",
    "import numpy as np\n",
    "\n",
    "matrix_one = np.random.rand(3, 2) * 100\n",
    "matrix_two = np.random.rand(3, 2) * 100\n",
    "df_one = pd.DataFrame(matrix_one, columns=[\"A\", \"B\"])\n",
    "df_two = pd.DataFrame(matrix_two, columns=[\"C\", \"D\"])\n",
    "\n",
    "df_one[\"index\"] = df_one.index\n",
    "df_two[\"index\"] = df_two.index\n",
    "\n",
    "pd.merge(df_one, df_two, how=\"inner\", on=\"index\")"
   ]
  },
  {
   "cell_type": "markdown",
   "id": "ed4a8de6",
   "metadata": {},
   "source": [
    "Notice we've been using something called `how` as one of the keywords in our merge.  Here `how` refers to the type of \"join\".  There are some variants of this technique, but we will only consider two here:\n",
    "\n",
    "* inner - selects values from index in both the left AND right dataframe\n",
    "* outer - selects values from index in either the left OR right dataframe\n",
    "\n",
    "As you can see, a join is just another way of doing an `AND` or `OR` except it's explicitly over a provided index column which appears in both dataframes.\n",
    "\n",
    "## Aggregations\n",
    "\n",
    "Before we close out this chapter we will look at one more technique that can be very useful, an aggregation.  This is often used in conjunction with something called a `groupby`.  Let's see an example of a `groupby` first:"
   ]
  },
  {
   "cell_type": "code",
   "execution_count": 52,
   "id": "e81a8dd6",
   "metadata": {},
   "outputs": [
    {
     "data": {
      "text/html": [
       "<div>\n",
       "<style scoped>\n",
       "    .dataframe tbody tr th:only-of-type {\n",
       "        vertical-align: middle;\n",
       "    }\n",
       "\n",
       "    .dataframe tbody tr th {\n",
       "        vertical-align: top;\n",
       "    }\n",
       "\n",
       "    .dataframe thead th {\n",
       "        text-align: right;\n",
       "    }\n",
       "</style>\n",
       "<table border=\"1\" class=\"dataframe\">\n",
       "  <thead>\n",
       "    <tr style=\"text-align: right;\">\n",
       "      <th></th>\n",
       "      <th>average_income</th>\n",
       "      <th>age</th>\n",
       "      <th>city</th>\n",
       "    </tr>\n",
       "  </thead>\n",
       "  <tbody>\n",
       "    <tr>\n",
       "      <th>0</th>\n",
       "      <td>23.51</td>\n",
       "      <td>84.12</td>\n",
       "      <td>New York</td>\n",
       "    </tr>\n",
       "    <tr>\n",
       "      <th>1</th>\n",
       "      <td>0.64</td>\n",
       "      <td>50.05</td>\n",
       "      <td>New York</td>\n",
       "    </tr>\n",
       "    <tr>\n",
       "      <th>2</th>\n",
       "      <td>27.92</td>\n",
       "      <td>79.04</td>\n",
       "      <td>New York</td>\n",
       "    </tr>\n",
       "    <tr>\n",
       "      <th>3</th>\n",
       "      <td>54.22</td>\n",
       "      <td>0.33</td>\n",
       "      <td>New York</td>\n",
       "    </tr>\n",
       "    <tr>\n",
       "      <th>4</th>\n",
       "      <td>40.76</td>\n",
       "      <td>0.58</td>\n",
       "      <td>New York</td>\n",
       "    </tr>\n",
       "    <tr>\n",
       "      <th>...</th>\n",
       "      <td>...</td>\n",
       "      <td>...</td>\n",
       "      <td>...</td>\n",
       "    </tr>\n",
       "    <tr>\n",
       "      <th>495</th>\n",
       "      <td>93.54</td>\n",
       "      <td>79.50</td>\n",
       "      <td>Boston</td>\n",
       "    </tr>\n",
       "    <tr>\n",
       "      <th>496</th>\n",
       "      <td>33.72</td>\n",
       "      <td>31.29</td>\n",
       "      <td>Boston</td>\n",
       "    </tr>\n",
       "    <tr>\n",
       "      <th>497</th>\n",
       "      <td>56.44</td>\n",
       "      <td>70.34</td>\n",
       "      <td>Boston</td>\n",
       "    </tr>\n",
       "    <tr>\n",
       "      <th>498</th>\n",
       "      <td>55.95</td>\n",
       "      <td>52.34</td>\n",
       "      <td>Boston</td>\n",
       "    </tr>\n",
       "    <tr>\n",
       "      <th>499</th>\n",
       "      <td>99.10</td>\n",
       "      <td>26.83</td>\n",
       "      <td>Boston</td>\n",
       "    </tr>\n",
       "  </tbody>\n",
       "</table>\n",
       "<p>500 rows × 3 columns</p>\n",
       "</div>"
      ],
      "text/plain": [
       "     average_income    age      city\n",
       "0             23.51  84.12  New York\n",
       "1              0.64  50.05  New York\n",
       "2             27.92  79.04  New York\n",
       "3             54.22   0.33  New York\n",
       "4             40.76   0.58  New York\n",
       "..              ...    ...       ...\n",
       "495           93.54  79.50    Boston\n",
       "496           33.72  31.29    Boston\n",
       "497           56.44  70.34    Boston\n",
       "498           55.95  52.34    Boston\n",
       "499           99.10  26.83    Boston\n",
       "\n",
       "[500 rows x 3 columns]"
      ]
     },
     "execution_count": 52,
     "metadata": {},
     "output_type": "execute_result"
    }
   ],
   "source": [
    "import pandas as pd\n",
    "import numpy as np\n",
    "\n",
    "matrix = np.round(np.random.rand(500, 2) * 100, 2)\n",
    "\n",
    "df = pd.DataFrame(matrix, columns=[\"average_income\", \"age\"])\n",
    "df[\"city\"] = np.nan\n",
    "df.loc[0:250, \"city\"] = \"New York\"\n",
    "df.loc[250:, \"city\"] = \"Boston\"\n",
    "\n",
    "df"
   ]
  },
  {
   "cell_type": "markdown",
   "id": "5a1e3143",
   "metadata": {},
   "source": [
    "As you can see, one of these columns has strings for values instead of numbers.  By using a groupby we can select subsections of the above dataframe, conditional on which city we are referring to:"
   ]
  },
  {
   "cell_type": "code",
   "execution_count": 53,
   "id": "956aa2d7",
   "metadata": {},
   "outputs": [
    {
     "name": "stdout",
     "output_type": "stream",
     "text": [
      "Boston (250, 3)\n",
      "New York (250, 3)\n"
     ]
    }
   ],
   "source": [
    "for group, tmp in df.groupby(\"city\"):\n",
    "    print(group, tmp.shape)"
   ]
  },
  {
   "cell_type": "markdown",
   "id": "bf5337ea",
   "metadata": {},
   "source": [
    "Here we print out the slice of the dataframe for Boston and then New York city and we observe their relative number of rows and columns.  Next let's get the average income for each slice:"
   ]
  },
  {
   "cell_type": "code",
   "execution_count": 54,
   "id": "6245e1a6",
   "metadata": {},
   "outputs": [
    {
     "name": "stdout",
     "output_type": "stream",
     "text": [
      "Boston 50.42168\n",
      "New York 51.88596\n"
     ]
    }
   ],
   "source": [
    "for group, tmp in df.groupby(\"city\"):\n",
    "    print(group, tmp[\"average_income\"].mean())"
   ]
  },
  {
   "cell_type": "markdown",
   "id": "14c8c72c",
   "metadata": {},
   "source": [
    "We can also accomplish the above with an aggregation:"
   ]
  },
  {
   "cell_type": "code",
   "execution_count": 55,
   "id": "33613223",
   "metadata": {},
   "outputs": [
    {
     "data": {
      "text/html": [
       "<div>\n",
       "<style scoped>\n",
       "    .dataframe tbody tr th:only-of-type {\n",
       "        vertical-align: middle;\n",
       "    }\n",
       "\n",
       "    .dataframe tbody tr th {\n",
       "        vertical-align: top;\n",
       "    }\n",
       "\n",
       "    .dataframe thead th {\n",
       "        text-align: right;\n",
       "    }\n",
       "</style>\n",
       "<table border=\"1\" class=\"dataframe\">\n",
       "  <thead>\n",
       "    <tr style=\"text-align: right;\">\n",
       "      <th></th>\n",
       "      <th>average_income</th>\n",
       "    </tr>\n",
       "    <tr>\n",
       "      <th>city</th>\n",
       "      <th></th>\n",
       "    </tr>\n",
       "  </thead>\n",
       "  <tbody>\n",
       "    <tr>\n",
       "      <th>Boston</th>\n",
       "      <td>50.42168</td>\n",
       "    </tr>\n",
       "    <tr>\n",
       "      <th>New York</th>\n",
       "      <td>51.88596</td>\n",
       "    </tr>\n",
       "  </tbody>\n",
       "</table>\n",
       "</div>"
      ],
      "text/plain": [
       "          average_income\n",
       "city                    \n",
       "Boston          50.42168\n",
       "New York        51.88596"
      ]
     },
     "execution_count": 55,
     "metadata": {},
     "output_type": "execute_result"
    }
   ],
   "source": [
    "df.groupby(\"city\").agg({\"average_income\":\"mean\"})"
   ]
  },
  {
   "cell_type": "markdown",
   "id": "a1130ee9",
   "metadata": {},
   "source": [
    "Notice we no longer need the for loop in order to get the average income by city.  We can also specify a function explicitly:"
   ]
  },
  {
   "cell_type": "code",
   "execution_count": 56,
   "id": "be16355a",
   "metadata": {},
   "outputs": [
    {
     "data": {
      "text/html": [
       "<div>\n",
       "<style scoped>\n",
       "    .dataframe tbody tr th:only-of-type {\n",
       "        vertical-align: middle;\n",
       "    }\n",
       "\n",
       "    .dataframe tbody tr th {\n",
       "        vertical-align: top;\n",
       "    }\n",
       "\n",
       "    .dataframe thead th {\n",
       "        text-align: right;\n",
       "    }\n",
       "</style>\n",
       "<table border=\"1\" class=\"dataframe\">\n",
       "  <thead>\n",
       "    <tr style=\"text-align: right;\">\n",
       "      <th></th>\n",
       "      <th>average_income</th>\n",
       "    </tr>\n",
       "    <tr>\n",
       "      <th>city</th>\n",
       "      <th></th>\n",
       "    </tr>\n",
       "  </thead>\n",
       "  <tbody>\n",
       "    <tr>\n",
       "      <th>Boston</th>\n",
       "      <td>50.42168</td>\n",
       "    </tr>\n",
       "    <tr>\n",
       "      <th>New York</th>\n",
       "      <td>51.88596</td>\n",
       "    </tr>\n",
       "  </tbody>\n",
       "</table>\n",
       "</div>"
      ],
      "text/plain": [
       "          average_income\n",
       "city                    \n",
       "Boston          50.42168\n",
       "New York        51.88596"
      ]
     },
     "execution_count": 56,
     "metadata": {},
     "output_type": "execute_result"
    }
   ],
   "source": [
    "df.groupby(\"city\").agg({\"average_income\": np.mean})"
   ]
  },
  {
   "cell_type": "markdown",
   "id": "b37fbe6f",
   "metadata": {},
   "source": [
    "I find this to be more useful than using the string equivalent, because it gives us far more control.  Additionally we can call an aggregation without the use of a groupby:"
   ]
  },
  {
   "cell_type": "code",
   "execution_count": 57,
   "id": "df39c0ca",
   "metadata": {},
   "outputs": [
    {
     "data": {
      "text/plain": [
       "average_income    51.15382\n",
       "dtype: float64"
      ]
     },
     "execution_count": 57,
     "metadata": {},
     "output_type": "execute_result"
    }
   ],
   "source": [
    "df.agg({\"average_income\": \"mean\"})"
   ]
  },
  {
   "cell_type": "markdown",
   "id": "f1007369",
   "metadata": {},
   "source": [
    "We can also supply a function, however this means we must transform across the entire axis:"
   ]
  },
  {
   "cell_type": "code",
   "execution_count": 58,
   "id": "95751dcb",
   "metadata": {},
   "outputs": [
    {
     "name": "stderr",
     "output_type": "stream",
     "text": [
      "/Library/Frameworks/Python.framework/Versions/3.9/lib/python3.9/site-packages/pandas/core/apply.py:169: FutureWarning: Dropping of nuisance columns in DataFrame reductions (with 'numeric_only=None') is deprecated; in a future version this will raise TypeError.  Select only valid columns before calling the reduction.\n",
      "  return getattr(obj, f)()\n"
     ]
    },
    {
     "data": {
      "text/plain": [
       "average_income    51.15382\n",
       "age               51.64458\n",
       "dtype: float64"
      ]
     },
     "execution_count": 58,
     "metadata": {},
     "output_type": "execute_result"
    }
   ],
   "source": [
    "df.agg(np.mean, axis=0)"
   ]
  },
  {
   "cell_type": "code",
   "execution_count": null,
   "id": "e34ebb59",
   "metadata": {},
   "outputs": [],
   "source": []
  }
 ],
 "metadata": {
  "kernelspec": {
   "display_name": "Python 3",
   "language": "python",
   "name": "python3"
  },
  "language_info": {
   "codemirror_mode": {
    "name": "ipython",
    "version": 3
   },
   "file_extension": ".py",
   "mimetype": "text/x-python",
   "name": "python",
   "nbconvert_exporter": "python",
   "pygments_lexer": "ipython3",
   "version": "3.9.5"
  }
 },
 "nbformat": 4,
 "nbformat_minor": 5
}
