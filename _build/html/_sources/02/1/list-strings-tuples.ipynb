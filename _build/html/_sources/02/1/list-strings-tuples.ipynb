{
 "cells": [
  {
   "cell_type": "markdown",
   "id": "64ef0588",
   "metadata": {},
   "source": [
    "# Lists Strings Tuples\n",
    "\n",
    "In this section we'll take a deeper look at iterables.\n",
    "\n",
    "## Sections\n",
    "\n",
    "* Lists Revisited\n",
    "    * slicing\n",
    "    * list comprehensions\n",
    "    * searching and counting\n",
    "    * sorting\n",
    "* Strings Revisited\n",
    "* Tuples\n",
    "* Lists of Lists\n",
    "\n",
    "The three many data structures we are going to see in this section are called iterable data structures.  That means, like we saw at the end of the last chapter, we can iterate over them.\n",
    "\n",
    "For instance:"
   ]
  },
  {
   "cell_type": "code",
   "execution_count": 6,
   "id": "3c9eb737",
   "metadata": {},
   "outputs": [
    {
     "name": "stdout",
     "output_type": "stream",
     "text": [
      "0\n",
      "1\n",
      "2\n",
      "3\n",
      "4\n",
      "5\n",
      "6\n",
      "7\n",
      "8\n",
      "9\n"
     ]
    }
   ],
   "source": [
    "listing = list(range(10))\n",
    "for elem in listing:\n",
    "    print(elem)"
   ]
  },
  {
   "cell_type": "markdown",
   "id": "808353d2",
   "metadata": {},
   "source": [
    "Works because a list is _iterable_.  In Python that means we have what's called a `__iter__` method available to tell Python what to do.  In order to check for the `__iter__` method we'll need a special Python function called `dir` which allows us to see what's implemented along with a data structure, object, or type.\n",
    "\n",
    "Let's call `dir` on our above `listing` variable to confirm `__iter__` exists:"
   ]
  },
  {
   "cell_type": "code",
   "execution_count": 4,
   "id": "046d12fe",
   "metadata": {
    "scrolled": true
   },
   "outputs": [
    {
     "data": {
      "text/plain": [
       "['__add__',\n",
       " '__class__',\n",
       " '__class_getitem__',\n",
       " '__contains__',\n",
       " '__delattr__',\n",
       " '__delitem__',\n",
       " '__dir__',\n",
       " '__doc__',\n",
       " '__eq__',\n",
       " '__format__',\n",
       " '__ge__',\n",
       " '__getattribute__',\n",
       " '__getitem__',\n",
       " '__gt__',\n",
       " '__hash__',\n",
       " '__iadd__',\n",
       " '__imul__',\n",
       " '__init__',\n",
       " '__init_subclass__',\n",
       " '__iter__',\n",
       " '__le__',\n",
       " '__len__',\n",
       " '__lt__',\n",
       " '__mul__',\n",
       " '__ne__',\n",
       " '__new__',\n",
       " '__reduce__',\n",
       " '__reduce_ex__',\n",
       " '__repr__',\n",
       " '__reversed__',\n",
       " '__rmul__',\n",
       " '__setattr__',\n",
       " '__setitem__',\n",
       " '__sizeof__',\n",
       " '__str__',\n",
       " '__subclasshook__',\n",
       " 'append',\n",
       " 'clear',\n",
       " 'copy',\n",
       " 'count',\n",
       " 'extend',\n",
       " 'index',\n",
       " 'insert',\n",
       " 'pop',\n",
       " 'remove',\n",
       " 'reverse',\n",
       " 'sort']"
      ]
     },
     "execution_count": 4,
     "metadata": {},
     "output_type": "execute_result"
    }
   ],
   "source": [
    "dir(listing)"
   ]
  },
  {
   "cell_type": "markdown",
   "id": "ef7c4889",
   "metadata": {},
   "source": [
    "It might be hard to scan the list of methods to find `__iter__`, so let's use a loop to confirm it's location:"
   ]
  },
  {
   "cell_type": "code",
   "execution_count": 3,
   "id": "01ec9b79",
   "metadata": {},
   "outputs": [
    {
     "name": "stdout",
     "output_type": "stream",
     "text": [
      "found\n"
     ]
    }
   ],
   "source": [
    "for elem in dir(listing):\n",
    "    if elem == '__iter__':\n",
    "        print(\"found\")"
   ]
  },
  {
   "cell_type": "markdown",
   "id": "1887805b",
   "metadata": {},
   "source": [
    "As seen in other sections, we can think of the methods above as functions associated with specific data structures.  So if we want to grow our list variable `listing` we would use the `append` method as:"
   ]
  },
  {
   "cell_type": "code",
   "execution_count": 7,
   "id": "71139014",
   "metadata": {},
   "outputs": [
    {
     "name": "stdout",
     "output_type": "stream",
     "text": [
      "[0, 1, 2, 3, 4, 5, 6, 7, 8, 9]\n"
     ]
    },
    {
     "data": {
      "text/plain": [
       "[0, 1, 2, 3, 4, 5, 6, 7, 8, 9, 11]"
      ]
     },
     "execution_count": 7,
     "metadata": {},
     "output_type": "execute_result"
    }
   ],
   "source": [
    "print(listing)\n",
    "listing.append(11)\n",
    "listing"
   ]
  },
  {
   "cell_type": "markdown",
   "id": "e9080d75",
   "metadata": {},
   "source": [
    "Notice that the `append` method is available in the list of methods associated with our `listing` variable:"
   ]
  },
  {
   "cell_type": "code",
   "execution_count": 8,
   "id": "1a928d2b",
   "metadata": {},
   "outputs": [
    {
     "name": "stdout",
     "output_type": "stream",
     "text": [
      "found\n"
     ]
    }
   ],
   "source": [
    "for elem in dir(listing):\n",
    "    if \"append\" == elem:\n",
    "        print(\"found\")"
   ]
  },
  {
   "cell_type": "markdown",
   "id": "624cf40d",
   "metadata": {},
   "source": [
    "As an aside, the power of Python is these little component tools and functions that come equipped with any object, so you can always figure out what your objects can, cannot and should not be able to do.\n",
    "\n",
    "In general the methods with `__` called a double underscore are called dunder methods, and allow for the builtin behaviors we saw in chapter 1 like indexing into specific elements of a list.  Or iteration, like we saw above.\n",
    "\n",
    "Next let's look at another powerful tool and it's associated dunder method, slicing.\n",
    "\n",
    "## Slicing\n",
    "\n",
    "The ability to slice a list means, that we can select a subset of it's elements just by specifying it's start and end indices.  Let's look at an example:"
   ]
  },
  {
   "cell_type": "code",
   "execution_count": 9,
   "id": "a5a784cd",
   "metadata": {},
   "outputs": [
    {
     "name": "stdout",
     "output_type": "stream",
     "text": [
      "[0, 1, 2, 3, 4, 5, 6, 7, 8, 9]\n"
     ]
    },
    {
     "data": {
      "text/plain": [
       "[0, 1, 2, 3, 4]"
      ]
     },
     "execution_count": 9,
     "metadata": {},
     "output_type": "execute_result"
    }
   ],
   "source": [
    "listing = list(range(10))\n",
    "\n",
    "print(listing)\n",
    "listing[0:5]"
   ]
  },
  {
   "cell_type": "markdown",
   "id": "2cee9c7f",
   "metadata": {},
   "source": [
    "In the above example we select only the first 5 elements of the list, that is from the first index up to, but not including the second.\n",
    "\n",
    "In mathematics this would be written as:\n",
    "\n",
    "![](clopen_sets.png)\n",
    "\n",
    "In general this is called a half open, or clopen set - because half of the interval is closed and includes the end point, whereas the other half is open and does not include the end point.  These clopen sets are used in all slices.  This is because we index starting at zero - so the last element of the list is not included.  To do otherwise, would mean we include one extra element - and thus our slices would include 6 elements when we went from elements 0 to 5, which feels contradictory - when we add zero of a thing, we ought to not increase it.  So when we go from 0 to 5, we add 5 things, which meets intuition for many programmers.\n",
    "\n",
    "We should be clear here - this was a choice.  If you feel that it was a bad one, please make your own language.  If it takes off, then you can use that forever more.  That is one of the beauties of software engineering - there are some rules, but much of what gets used, outside of the mathematics, is your choice or the choice of others.  So there isn't always something deeper.  But I digress. \n",
    "\n",
    "Something we didn't discuss last time is how to get the last element of a list, no matter it's size:"
   ]
  },
  {
   "cell_type": "code",
   "execution_count": 10,
   "id": "3188969e",
   "metadata": {},
   "outputs": [
    {
     "name": "stdout",
     "output_type": "stream",
     "text": [
      "[0, 1, 2, 3, 4, 5, 6, 7, 8, 9]\n"
     ]
    },
    {
     "data": {
      "text/plain": [
       "9"
      ]
     },
     "execution_count": 10,
     "metadata": {},
     "output_type": "execute_result"
    }
   ],
   "source": [
    "listing = list(range(10))\n",
    "\n",
    "print(listing)\n",
    "listing[-1]"
   ]
  },
  {
   "cell_type": "markdown",
   "id": "7de3b136",
   "metadata": {},
   "source": [
    "If we specify a negative number as the index, we start from the back of the list.  The smallest negative number is one, so it gets us the last index of the list.  If our list is sorted in ascending order, this means we will get the largest number in our list.\n",
    "\n",
    "We can also specify slices which include negative numbers:"
   ]
  },
  {
   "cell_type": "code",
   "execution_count": 11,
   "id": "90f53429",
   "metadata": {},
   "outputs": [
    {
     "name": "stdout",
     "output_type": "stream",
     "text": [
      "[0, 1, 2, 3, 4, 5, 6, 7, 8, 9, 10, 11, 12, 13, 14]\n"
     ]
    },
    {
     "data": {
      "text/plain": [
       "[3, 4, 5, 6, 7, 8, 9, 10, 11, 12]"
      ]
     },
     "execution_count": 11,
     "metadata": {},
     "output_type": "execute_result"
    }
   ],
   "source": [
    "listing = list(range(15))\n",
    "\n",
    "print(listing)\n",
    "listing[3:-2]"
   ]
  },
  {
   "cell_type": "markdown",
   "id": "59ffe82b",
   "metadata": {},
   "source": [
    "This asks us for the sublist starting at the 4th element and going to the third to last element. If we wanted everything up to the last element we would do:"
   ]
  },
  {
   "cell_type": "code",
   "execution_count": 12,
   "id": "e6583d59",
   "metadata": {},
   "outputs": [
    {
     "data": {
      "text/plain": [
       "[0, 1, 2, 3, 4, 5, 6, 7, 8, 9, 10, 11, 12, 13]"
      ]
     },
     "execution_count": 12,
     "metadata": {},
     "output_type": "execute_result"
    }
   ],
   "source": [
    "listing[:-1]"
   ]
  },
  {
   "cell_type": "markdown",
   "id": "8765bed7",
   "metadata": {},
   "source": [
    "Notice we didn't specify a starting element - this is no accident.  Python slices are smart enough to know what you mean.  So if you don't specify a first element, then we either start at the beginning or go to the end of the list, depending on which index we don't specify.  What will happen if don't specify any indices?"
   ]
  },
  {
   "cell_type": "code",
   "execution_count": 13,
   "id": "0a1c037d",
   "metadata": {},
   "outputs": [
    {
     "name": "stdout",
     "output_type": "stream",
     "text": [
      "[0, 1, 2, 3, 4, 5, 6, 7, 8, 9, 10, 11, 12, 13, 14]\n"
     ]
    },
    {
     "data": {
      "text/plain": [
       "[0, 1, 2, 3, 4, 5, 6, 7, 8, 9, 10, 11, 12, 13, 14]"
      ]
     },
     "execution_count": 13,
     "metadata": {},
     "output_type": "execute_result"
    }
   ],
   "source": [
    "print(listing)\n",
    "listing[:]"
   ]
  },
  {
   "cell_type": "markdown",
   "id": "6f7bd533",
   "metadata": {},
   "source": [
    "That's right!  We just get back the original list.  But more importantly, we get back a _copy_ of our original list, rather than the list itself.  We'll see more of this later on, but that's going to be very important when we talk about functions.\n",
    "\n",
    "For now let's confirm this is infact a different list:"
   ]
  },
  {
   "cell_type": "code",
   "execution_count": 14,
   "id": "662467ff",
   "metadata": {},
   "outputs": [
    {
     "data": {
      "text/plain": [
       "False"
      ]
     },
     "execution_count": 14,
     "metadata": {},
     "output_type": "execute_result"
    }
   ],
   "source": [
    "listing is listing[:]"
   ]
  },
  {
   "cell_type": "markdown",
   "id": "ed7d8609",
   "metadata": {},
   "source": [
    "Here we used the `is` operator to ask if the two things _are the exact same_.  Not if they contain the same elements, for that we use `==`:"
   ]
  },
  {
   "cell_type": "code",
   "execution_count": 15,
   "id": "9658a29f",
   "metadata": {},
   "outputs": [
    {
     "data": {
      "text/plain": [
       "True"
      ]
     },
     "execution_count": 15,
     "metadata": {},
     "output_type": "execute_result"
    }
   ],
   "source": [
    "listing == listing[:]"
   ]
  },
  {
   "cell_type": "markdown",
   "id": "58f08a49",
   "metadata": {},
   "source": [
    "`is` asks a deeper question.  Do the two things _point_ to the same place in memory.  Again don't worry about the details here, we'll discuss it later.  But for now, we can just say that `is` is the strongest possible equivalence that Python can make.  And it goes deeper to than just data.  It's about where that data is _stored_ in the running Python program.  For instance we could do this:"
   ]
  },
  {
   "cell_type": "code",
   "execution_count": 16,
   "id": "0c9e53d5",
   "metadata": {},
   "outputs": [
    {
     "data": {
      "text/plain": [
       "True"
      ]
     },
     "execution_count": 16,
     "metadata": {},
     "output_type": "execute_result"
    }
   ],
   "source": [
    "new_list = listing\n",
    "\n",
    "new_list is listing"
   ]
  },
  {
   "cell_type": "markdown",
   "id": "75319d31",
   "metadata": {},
   "source": [
    "The reason this works is because of how assignment works.  Again, we'll see more of this later.  So if it doesn't make complete sense, no big deal!  Just to close out the section, here is the generic syntax for slicing:\n",
    "\n",
    "`SOME_LIST[START_INDEX : END_INDEX]`\n",
    "\n",
    "### List Comprehensions\n",
    "\n",
    "As we saw last time, we have something called a for loop, which is just a fancy while loop, since we can do this:"
   ]
  },
  {
   "cell_type": "code",
   "execution_count": 17,
   "id": "08cffec3",
   "metadata": {},
   "outputs": [
    {
     "name": "stdout",
     "output_type": "stream",
     "text": [
      "0\n",
      "1\n",
      "2\n",
      "3\n",
      "4\n"
     ]
    }
   ],
   "source": [
    "index = 0\n",
    "listing = list(range(5))\n",
    "while index < len(listing):\n",
    "    print(listing[index])\n",
    "    index += 1"
   ]
  },
  {
   "cell_type": "markdown",
   "id": "860433e5",
   "metadata": {},
   "source": [
    "And it's the same as this:"
   ]
  },
  {
   "cell_type": "code",
   "execution_count": 18,
   "id": "3bcbe37f",
   "metadata": {},
   "outputs": [
    {
     "name": "stdout",
     "output_type": "stream",
     "text": [
      "0\n",
      "1\n",
      "2\n",
      "3\n",
      "4\n"
     ]
    }
   ],
   "source": [
    "for elem in listing:\n",
    "    print(elem)"
   ]
  },
  {
   "cell_type": "markdown",
   "id": "d84ed5c8",
   "metadata": {},
   "source": [
    "All we did, was get rid of the need to specify the terminal condition are set up an index, but basically we are doing the same thing.  Well, what if we wanted to mutate the values of some list, and store them in a new list, how easy is that to do?  Say we wanted the squares for the first 30 natural numbers:"
   ]
  },
  {
   "cell_type": "code",
   "execution_count": 20,
   "id": "440d2214",
   "metadata": {
    "scrolled": true
   },
   "outputs": [
    {
     "data": {
      "text/plain": [
       "[625, 676, 729, 784, 841]"
      ]
     },
     "execution_count": 20,
     "metadata": {},
     "output_type": "execute_result"
    }
   ],
   "source": [
    "listing = list(range(30))\n",
    "squares = []\n",
    "for elem in listing:\n",
    "    squares.append(elem*elem)\n",
    "squares[25:]"
   ]
  },
  {
   "cell_type": "markdown",
   "id": "9693711a",
   "metadata": {},
   "source": [
    "Turns out there is a nice short hand for transformations on a list called the list comprehension.  The syntax is a little weird at first so we'll show some psuedocode:\n",
    "\n",
    "`[transformation(element) for element in LIST]`]\n",
    "\n",
    "So if we wanted to get just the first 30 numbers we could do:"
   ]
  },
  {
   "cell_type": "code",
   "execution_count": 21,
   "id": "d683b820",
   "metadata": {},
   "outputs": [
    {
     "name": "stdout",
     "output_type": "stream",
     "text": [
      "[25, 26, 27, 28, 29]\n"
     ]
    }
   ],
   "source": [
    "listing = [elem for elem in range(30)]\n",
    "print(listing[25:])"
   ]
  },
  {
   "cell_type": "markdown",
   "id": "bff67531",
   "metadata": {},
   "source": [
    "Here the transformation is the identity function, which maps an element to itself.  Or the no action function.  So we don't do anything.  But we could get the square of the first 30 numbers pretty easily too:"
   ]
  },
  {
   "cell_type": "code",
   "execution_count": 23,
   "id": "40af9516",
   "metadata": {},
   "outputs": [
    {
     "name": "stdout",
     "output_type": "stream",
     "text": [
      "[625, 676, 729, 784, 841]\n"
     ]
    }
   ],
   "source": [
    "squared = [elem * elem for elem in range(30)]\n",
    "print(squared[25:])"
   ]
  },
  {
   "cell_type": "markdown",
   "id": "49ec3cc3",
   "metadata": {},
   "source": [
    "As you can see, by comparing the two pieces of code, for quick little transformations, the list comprehension is _much_ easier to write.  And honestly, kind of beautiful.  That said, for long complicated pieces of logic it's not appropriate.  If you want to use a list comprehension for long complicated code, it's best to break it up into smaller transforms for a bunch of intermediate steps.  This can increase the space useage of your program, so make sure to do so with care!  Both space and number of operations can slow down your program - sometimes substantially.\n",
    "\n",
    "Let's look at a few more examples of list comprehension transformations.  We can also get the decreasing sequence of fractions, easily with list comprehensions:"
   ]
  },
  {
   "cell_type": "code",
   "execution_count": 26,
   "id": "7d87599a",
   "metadata": {},
   "outputs": [
    {
     "data": {
      "text/plain": [
       "[0.038461538461538464,\n",
       " 0.037037037037037035,\n",
       " 0.03571428571428571,\n",
       " 0.034482758620689655]"
      ]
     },
     "execution_count": 26,
     "metadata": {},
     "output_type": "execute_result"
    }
   ],
   "source": [
    "fractions = [1/elem for elem in range(1, 30)]\n",
    "fractions[25:]"
   ]
  },
  {
   "cell_type": "markdown",
   "id": "5c0569af",
   "metadata": {},
   "source": [
    "Likewise, combining transformations is pretty easy too:"
   ]
  },
  {
   "cell_type": "code",
   "execution_count": 27,
   "id": "8910392e",
   "metadata": {},
   "outputs": [
    {
     "data": {
      "text/plain": [
       "[0.0014792899408284023,\n",
       " 0.0013717421124828531,\n",
       " 0.0012755102040816326,\n",
       " 0.0011890606420927466]"
      ]
     },
     "execution_count": 27,
     "metadata": {},
     "output_type": "execute_result"
    }
   ],
   "source": [
    "fractions_squared = [1/(elem * elem) for elem in range(1, 30)]\n",
    "fractions_squared[25:]"
   ]
  },
  {
   "cell_type": "markdown",
   "id": "4d823059",
   "metadata": {},
   "source": [
    "Notice that when the denominator gets bigger the whole number gets smaller.  So any sequence like this is strictly decreasing.\n",
    "\n",
    "### Searching and Counting\n",
    "\n",
    "In addition to being able to append elements, we also have methods for telling us about the contents of our list.  Two important ones are searching and counting.\n",
    "\n",
    "With searching we can figure out if certain elements are in our list.  And with counting, we can figure out how many occurrences of a given item are in our list.\n",
    "\n",
    "Let's look at an example.  \n",
    "\n",
    "Here we are going to try to figure out when we reach a terminal value.  When we do, we want to stop iterating.\n",
    "\n",
    "For this we are going to use the Collatz conjecture that was introduced in class."
   ]
  },
  {
   "cell_type": "code",
   "execution_count": 30,
   "id": "bc6669b5",
   "metadata": {},
   "outputs": [
    {
     "name": "stdout",
     "output_type": "stream",
     "text": [
      "Found terminal value for number 19 with sequence length 20\n"
     ]
    }
   ],
   "source": [
    "sequence = []\n",
    "start = 19\n",
    "num = start\n",
    "while True:\n",
    "    if num % 2 == 0:\n",
    "        num //= 2\n",
    "    else:\n",
    "        num = 3*num + 1\n",
    "    sequence.append(num)\n",
    "    if 1 in sequence:\n",
    "        break\n",
    "print(f\"Found terminal value for number {start} with sequence length {len(sequence)}\")"
   ]
  },
  {
   "cell_type": "markdown",
   "id": "346cd182",
   "metadata": {},
   "source": [
    "Here we are using `in` to search our list.  The `in` function checks if a given element is in our list.  If it is, it returns `True`.  If it's not it returns `False`.\n",
    "\n",
    "So for instance:"
   ]
  },
  {
   "cell_type": "code",
   "execution_count": 32,
   "id": "451c8a6a",
   "metadata": {},
   "outputs": [
    {
     "data": {
      "text/plain": [
       "False"
      ]
     },
     "execution_count": 32,
     "metadata": {},
     "output_type": "execute_result"
    }
   ],
   "source": [
    "listing = list(range(10))\n",
    "\n",
    "12 in listing "
   ]
  },
  {
   "cell_type": "markdown",
   "id": "1e969ebe",
   "metadata": {},
   "source": [
    "However:"
   ]
  },
  {
   "cell_type": "code",
   "execution_count": 33,
   "id": "3b834111",
   "metadata": {},
   "outputs": [
    {
     "data": {
      "text/plain": [
       "True"
      ]
     },
     "execution_count": 33,
     "metadata": {},
     "output_type": "execute_result"
    }
   ],
   "source": [
    "9 in listing"
   ]
  },
  {
   "cell_type": "markdown",
   "id": "0e24e06c",
   "metadata": {},
   "source": [
    "The `in` function is typically all we need when searching a list for an element.  However, sometimes we don't just need to know if an element is in a list, but where it occurs.  For that we need index:"
   ]
  },
  {
   "cell_type": "code",
   "execution_count": 36,
   "id": "9910e8a1",
   "metadata": {},
   "outputs": [
    {
     "name": "stdout",
     "output_type": "stream",
     "text": [
      "9\n"
     ]
    },
    {
     "data": {
      "text/plain": [
       "9"
      ]
     },
     "execution_count": 36,
     "metadata": {},
     "output_type": "execute_result"
    }
   ],
   "source": [
    "index_of_9 = listing.index(9)\n",
    "print(index_of_9)\n",
    "listing[index_of_9]"
   ]
  },
  {
   "cell_type": "markdown",
   "id": "6e4a833c",
   "metadata": {},
   "source": [
    "We can also use these tools in conjunction:"
   ]
  },
  {
   "cell_type": "code",
   "execution_count": 37,
   "id": "48603854",
   "metadata": {},
   "outputs": [
    {
     "name": "stdout",
     "output_type": "stream",
     "text": [
      "0\n"
     ]
    }
   ],
   "source": [
    "import random\n",
    "listing = [random.randint(0, 10) for _ in range(100)]\n",
    "\n",
    "if 7 in listing:\n",
    "    print(listing.index(7))"
   ]
  },
  {
   "cell_type": "markdown",
   "id": "739d1a13",
   "metadata": {},
   "source": [
    "In addition to being able to sort we can also count the number of occurrences.  Suppose we were playing a game, where if we get a certain number of trivia questions wrong, we lose the game.  We could count the number of times we get a wrong answer with a -1.\n",
    "\n",
    "Let's see that:"
   ]
  },
  {
   "cell_type": "code",
   "execution_count": 40,
   "id": "07feeac7",
   "metadata": {},
   "outputs": [
    {
     "name": "stdout",
     "output_type": "stream",
     "text": [
      "What is 6967 + 98? 12\n",
      "What is 2962 + 572? 10\n",
      "What is 7053 + 304? 19\n",
      "game over\n"
     ]
    }
   ],
   "source": [
    "import random\n",
    "\n",
    "guesses = []\n",
    "while True:\n",
    "    number_one = random.randint(0, 10000)\n",
    "    number_two = random.randint(0, 1000)\n",
    "    guess = int(input(\n",
    "        f\"What is {number_one} + {number_two}? \"\n",
    "    ))\n",
    "    if guess == number_one + number_two:\n",
    "        guesses.append(1)\n",
    "    else:\n",
    "        guesses.append(-1)\n",
    "    \n",
    "    if guesses.count(-1) >= 3:\n",
    "        print(\"game over\")\n",
    "        break"
   ]
  },
  {
   "cell_type": "markdown",
   "id": "e95f5a0c",
   "metadata": {},
   "source": [
    "You can try this 'game' yourself.  Remember, you need three wrong answers or it will keep asking you for guesses!\n",
    "\n",
    "## Sorting\n",
    "\n",
    "We talked about sorting a little bit in indexing, but now we'll go deeper into this topic.  Sorting is a fundamental operation in computer science.  This is in part because we've figured out how to make sorting pretty fast, so it's a good candidate problem to teach a bunch of nifty techniques.  But also because it's super useful.\n",
    "\n",
    "One of the things with a sorted list is get the biggest thing in the list.  Or we can get the smallest thing in the list.  Or we can get the middle number in the list.  \n",
    "\n",
    "All of these things are going to be _very_ important when we start talking about describing data.  Which we will get to later in the class.  So let's get our feet wet now!\n",
    "\n",
    "A simple example - getting the biggest number from a random list of elements:"
   ]
  },
  {
   "cell_type": "code",
   "execution_count": 41,
   "id": "323b1073",
   "metadata": {},
   "outputs": [
    {
     "data": {
      "text/plain": [
       "10"
      ]
     },
     "execution_count": 41,
     "metadata": {},
     "output_type": "execute_result"
    }
   ],
   "source": [
    "listing = [random.randint(0, 10) for _ in range(100)]\n",
    "listing.sort()\n",
    "listing[-1]"
   ]
  },
  {
   "cell_type": "markdown",
   "id": "01c6a533",
   "metadata": {},
   "source": [
    "Notice that we use `_` here to indicate that we don't care about our index.  Since we don't use it later.  \n",
    "\n",
    "Next, notice that to sort, we can just call `listing.sort()` on our list in order to get it sorted.  And we can then get the largest number of our list, by simply getting the last element in the list.\n",
    "\n",
    "We can also count the number of occurrences of the largest element:"
   ]
  },
  {
   "cell_type": "code",
   "execution_count": 42,
   "id": "9dffe3dd",
   "metadata": {},
   "outputs": [
    {
     "data": {
      "text/plain": [
       "9"
      ]
     },
     "execution_count": 42,
     "metadata": {},
     "output_type": "execute_result"
    }
   ],
   "source": [
    "listing.count(10)"
   ]
  },
  {
   "cell_type": "markdown",
   "id": "f37335a5",
   "metadata": {},
   "source": [
    "Since our list is sorted, these 9 occurrences of 10 should occur contiguously, which is just a fancy way of say, together:"
   ]
  },
  {
   "cell_type": "code",
   "execution_count": 44,
   "id": "06b0554a",
   "metadata": {},
   "outputs": [
    {
     "data": {
      "text/plain": [
       "[10, 10, 10, 10, 10, 10, 10, 10, 10]"
      ]
     },
     "execution_count": 44,
     "metadata": {},
     "output_type": "execute_result"
    }
   ],
   "source": [
    "listing[-9:]"
   ]
  },
  {
   "cell_type": "markdown",
   "id": "46ade9ab",
   "metadata": {},
   "source": [
    "And indeed they do!  Here the `-9` means we start from the 9th number from the end.\n",
    "\n",
    "Python also comes with a builtin `max` function, that will give us the maximum element in any list:"
   ]
  },
  {
   "cell_type": "code",
   "execution_count": 45,
   "id": "b61b2401",
   "metadata": {},
   "outputs": [
    {
     "data": {
      "text/plain": [
       "10"
      ]
     },
     "execution_count": 45,
     "metadata": {},
     "output_type": "execute_result"
    }
   ],
   "source": [
    "max(listing)"
   ]
  },
  {
   "cell_type": "markdown",
   "id": "baae3411",
   "metadata": {},
   "source": [
    "I'm not sure why, but the max seems to perform about as fast on sorted versus unsorted lists.  That seems like a worthy research project for an ambituos student!  Luckily all the source code for Python is open.  You can go read it [here](https://github.com/python).\n",
    "\n",
    "Let's just confirm this:"
   ]
  },
  {
   "cell_type": "code",
   "execution_count": 54,
   "id": "8bda480e",
   "metadata": {},
   "outputs": [],
   "source": [
    "listing = [random.randint(0, 100000) for _ in range(10000)]\n",
    "listing.sort()"
   ]
  },
  {
   "cell_type": "code",
   "execution_count": 55,
   "id": "6a7ef9fa",
   "metadata": {},
   "outputs": [
    {
     "name": "stdout",
     "output_type": "stream",
     "text": [
      "168 µs ± 645 ns per loop (mean ± std. dev. of 7 runs, 10000 loops each)\n"
     ]
    }
   ],
   "source": [
    "%timeit max(listing)"
   ]
  },
  {
   "cell_type": "code",
   "execution_count": 56,
   "id": "822672fc",
   "metadata": {},
   "outputs": [],
   "source": [
    "new_list = [random.randint(0, 100000) for _ in range(10000)]"
   ]
  },
  {
   "cell_type": "code",
   "execution_count": 57,
   "id": "be0854be",
   "metadata": {},
   "outputs": [
    {
     "name": "stdout",
     "output_type": "stream",
     "text": [
      "162 µs ± 2.88 µs per loop (mean ± std. dev. of 7 runs, 10000 loops each)\n"
     ]
    }
   ],
   "source": [
    "%timeit max(new_list)"
   ]
  },
  {
   "cell_type": "markdown",
   "id": "ba8a9d79",
   "metadata": {},
   "source": [
    "We can also easily recover the smallest number of a list, if it's sorted:"
   ]
  },
  {
   "cell_type": "code",
   "execution_count": 59,
   "id": "88ebb7c4",
   "metadata": {},
   "outputs": [
    {
     "data": {
      "text/plain": [
       "0"
      ]
     },
     "execution_count": 59,
     "metadata": {},
     "output_type": "execute_result"
    }
   ],
   "source": [
    "listing = [random.randint(0, 10) for _ in range(100)]\n",
    "listing.sort()\n",
    "\n",
    "listing[0]"
   ]
  },
  {
   "cell_type": "markdown",
   "id": "db5e8eeb",
   "metadata": {},
   "source": [
    "Just like the `max` function, there is also a `min` function:"
   ]
  },
  {
   "cell_type": "code",
   "execution_count": 60,
   "id": "1c6776be",
   "metadata": {},
   "outputs": [
    {
     "data": {
      "text/plain": [
       "0"
      ]
     },
     "execution_count": 60,
     "metadata": {},
     "output_type": "execute_result"
    }
   ],
   "source": [
    "min(listing)"
   ]
  },
  {
   "cell_type": "markdown",
   "id": "eca2a3ff",
   "metadata": {},
   "source": [
    "We can also get the _middle_ number of a sorted list pretty easily too:"
   ]
  },
  {
   "cell_type": "code",
   "execution_count": 61,
   "id": "32ed5eb4",
   "metadata": {},
   "outputs": [
    {
     "data": {
      "text/plain": [
       "5"
      ]
     },
     "execution_count": 61,
     "metadata": {},
     "output_type": "execute_result"
    }
   ],
   "source": [
    "listing = [random.randint(0, 10) for _ in range(100)]\n",
    "listing.sort()\n",
    "\n",
    "listing[len(listing)//2]"
   ]
  },
  {
   "cell_type": "markdown",
   "id": "c0dbee23",
   "metadata": {},
   "source": [
    "Keep in mind, while all we need is the half way point of the list - aka `len(listing)//2` to get the 'middle' number.  This may not be the middle 'value'.  For that we need to consider the following:\n",
    "\n",
    "What if the list is even and no value repeats.  What would be the middle number then?  In this case, there are technically two middle numbers.\n",
    "\n",
    "Let's look at an example:"
   ]
  },
  {
   "cell_type": "code",
   "execution_count": 62,
   "id": "d1ebb02c",
   "metadata": {},
   "outputs": [
    {
     "data": {
      "text/plain": [
       "3"
      ]
     },
     "execution_count": 62,
     "metadata": {},
     "output_type": "execute_result"
    }
   ],
   "source": [
    "listing = [1, 2, 3, 4]\n",
    "\n",
    "mid_index = len(listing)//2\n",
    "listing[mid_index]"
   ]
  },
  {
   "cell_type": "markdown",
   "id": "4906beef",
   "metadata": {},
   "source": [
    "Here the middle number is 3, but is that the middle value?  In this case it's not.  That's because 3 is not _half way_ between 1 and 4.  In fact, the half way point between 1 and 4 is _2.5_.\n",
    "\n",
    "But that's not in our list!  How are we supposed to deal with that?  Well luckily there is a straight forward way to deal with that:\n",
    "\n",
    "Just take the mean of the two numbers in the middle -\n",
    "\n",
    "In this case, it's 2 and 3:"
   ]
  },
  {
   "cell_type": "code",
   "execution_count": 63,
   "id": "5d69b3f9",
   "metadata": {},
   "outputs": [
    {
     "data": {
      "text/plain": [
       "2.5"
      ]
     },
     "execution_count": 63,
     "metadata": {},
     "output_type": "execute_result"
    }
   ],
   "source": [
    "(2 + 3)/2"
   ]
  },
  {
   "cell_type": "markdown",
   "id": "d4d87afc",
   "metadata": {},
   "source": [
    "Now we get 2.5!  So everything is right in the world.  If we want the middle value, called the median we can write some code to do this:"
   ]
  },
  {
   "cell_type": "code",
   "execution_count": 77,
   "id": "4eeeaa0f",
   "metadata": {},
   "outputs": [
    {
     "data": {
      "text/plain": [
       "7766.5"
      ]
     },
     "execution_count": 77,
     "metadata": {},
     "output_type": "execute_result"
    }
   ],
   "source": [
    "data = [random.randint(0, 10000) for _ in range(10)]\n",
    "data.sort()\n",
    "\n",
    "n = len(data)\n",
    "if n % 2 == 1:\n",
    "    middle_index = n//2\n",
    "    median = data[middle_index]\n",
    "else:\n",
    "    lower_middle_index = n//2\n",
    "    higher_middle_index = n//2 + 1\n",
    "    median = data[lower_middle_index] + data[higher_middle_index]\n",
    "    median /= 2\n",
    "median"
   ]
  },
  {
   "cell_type": "code",
   "execution_count": 78,
   "id": "8b01ec85",
   "metadata": {},
   "outputs": [
    {
     "data": {
      "text/plain": [
       "[222, 335, 2578, 4219, 5041, 7207, 8326, 8342, 9432, 9790]"
      ]
     },
     "execution_count": 78,
     "metadata": {},
     "output_type": "execute_result"
    }
   ],
   "source": [
    "data"
   ]
  },
  {
   "cell_type": "markdown",
   "id": "7bd95d4f",
   "metadata": {},
   "source": [
    "The last descriptive statistic we will look at is called the mode.  The mode is the most frequently occurring number in a sequence of numbers.  When we calculate the mode, we assume that our sequence has values that occur more than once.\n",
    "\n",
    "Let's make use of the count function to write a procedure for the mode:"
   ]
  },
  {
   "cell_type": "code",
   "execution_count": 84,
   "id": "8e2ea1c3",
   "metadata": {},
   "outputs": [
    {
     "name": "stdout",
     "output_type": "stream",
     "text": [
      "3 121\n"
     ]
    }
   ],
   "source": [
    "data = [random.randint(0, 9) for _ in range(1000)]\n",
    "\n",
    "mode = data[0]\n",
    "mode_count = data.count(mode)\n",
    "for elem in data:\n",
    "    freq_count = data.count(elem)\n",
    "    if freq_count > mode_count:\n",
    "        mode = elem\n",
    "        mode_count = freq_count\n",
    "        \n",
    "print(mode, mode_count)"
   ]
  },
  {
   "cell_type": "markdown",
   "id": "eb281f77",
   "metadata": {},
   "source": [
    "As you can see, 3 is the most frequent number and occurs 121 times!  That's more than a 10th of the list.  Since we only have only 10 numbers, and way more observations.  We should assume that all 10 numbers occur pretty frequently.  In general the percentage of each number should head towards 1/10.  Which is the probability of getting any one of those numbers.  We can confirm this by drawing a much larger number of samples and then looking at the relative occurrences of each value:"
   ]
  },
  {
   "cell_type": "code",
   "execution_count": 85,
   "id": "88082ac7",
   "metadata": {},
   "outputs": [
    {
     "name": "stdout",
     "output_type": "stream",
     "text": [
      "Pr(0) = 0.1001388\n",
      "Pr(1) = 0.1001388\n",
      "Pr(2) = 0.0998518\n",
      "Pr(3) = 0.0998235\n",
      "Pr(4) = 0.100139\n",
      "Pr(5) = 0.0999499\n",
      "Pr(6) = 0.0999459\n",
      "Pr(7) = 0.1001451\n",
      "Pr(8) = 0.0999229\n",
      "Pr(9) = 0.0999443\n"
     ]
    }
   ],
   "source": [
    "data = [random.randint(0, 9) for _ in range(10000000)]\n",
    "\n",
    "for i in range(0, 10):\n",
    "    print(f\"Pr({i}) = {data.count(i)/len(data)}\")"
   ]
  },
  {
   "cell_type": "markdown",
   "id": "1f9daf9b",
   "metadata": {},
   "source": [
    "As you can see, the probabilities get remarkably close to their theoretical limit.  \n",
    "\n",
    "## Strings\n",
    "\n",
    "Now that we've talked about a number of properties of lists, lets move onto a _very_ special list that we've been using a lot - a string.\n",
    "\n",
    "That's right!  A string is just a list.  And to prove it, we can index into a string:"
   ]
  },
  {
   "cell_type": "code",
   "execution_count": 86,
   "id": "586cc8a2",
   "metadata": {},
   "outputs": [
    {
     "data": {
      "text/plain": [
       "'H'"
      ]
     },
     "execution_count": 86,
     "metadata": {},
     "output_type": "execute_result"
    }
   ],
   "source": [
    "\"Hello there\"[0]"
   ]
  },
  {
   "cell_type": "markdown",
   "id": "0833f018",
   "metadata": {},
   "source": [
    "We can also slice a string:"
   ]
  },
  {
   "cell_type": "code",
   "execution_count": 87,
   "id": "4fb46370",
   "metadata": {},
   "outputs": [
    {
     "data": {
      "text/plain": [
       "'Hello'"
      ]
     },
     "execution_count": 87,
     "metadata": {},
     "output_type": "execute_result"
    }
   ],
   "source": [
    "\"Hello there\"[:5]"
   ]
  },
  {
   "cell_type": "markdown",
   "id": "69290448",
   "metadata": {},
   "source": [
    "We can even iterate over the elements of a string:"
   ]
  },
  {
   "cell_type": "code",
   "execution_count": 88,
   "id": "2ce07638",
   "metadata": {},
   "outputs": [
    {
     "name": "stdout",
     "output_type": "stream",
     "text": [
      "h\n",
      "e\n",
      "l\n",
      "l\n",
      "o\n"
     ]
    }
   ],
   "source": [
    "for char in \"hello\":\n",
    "    print(char)"
   ]
  },
  {
   "cell_type": "markdown",
   "id": "f4199d6d",
   "metadata": {},
   "source": [
    "But can we change the elements of a string?"
   ]
  },
  {
   "cell_type": "code",
   "execution_count": 89,
   "id": "cb4742bd",
   "metadata": {},
   "outputs": [
    {
     "ename": "TypeError",
     "evalue": "'str' object does not support item assignment",
     "output_type": "error",
     "traceback": [
      "\u001b[0;31m---------------------------------------------------------------------------\u001b[0m",
      "\u001b[0;31mTypeError\u001b[0m                                 Traceback (most recent call last)",
      "\u001b[0;32m<ipython-input-89-b6ae513267fb>\u001b[0m in \u001b[0;36m<module>\u001b[0;34m\u001b[0m\n\u001b[1;32m      1\u001b[0m \u001b[0mstring\u001b[0m \u001b[0;34m=\u001b[0m \u001b[0;34m\"hello\"\u001b[0m\u001b[0;34m\u001b[0m\u001b[0;34m\u001b[0m\u001b[0m\n\u001b[0;32m----> 2\u001b[0;31m \u001b[0mstring\u001b[0m\u001b[0;34m[\u001b[0m\u001b[0;36m0\u001b[0m\u001b[0;34m]\u001b[0m \u001b[0;34m=\u001b[0m \u001b[0;34m\"b\"\u001b[0m\u001b[0;34m\u001b[0m\u001b[0;34m\u001b[0m\u001b[0m\n\u001b[0m",
      "\u001b[0;31mTypeError\u001b[0m: 'str' object does not support item assignment"
     ]
    }
   ],
   "source": [
    "string = \"hello\"\n",
    "string[0] = \"b\""
   ]
  },
  {
   "cell_type": "markdown",
   "id": "d1b6f892",
   "metadata": {},
   "source": [
    "What's going on here?!  We can certainly do that with a list:"
   ]
  },
  {
   "cell_type": "code",
   "execution_count": 90,
   "id": "2a046f38",
   "metadata": {},
   "outputs": [
    {
     "name": "stdout",
     "output_type": "stream",
     "text": [
      "[0, 1, 2, 3, 4, 5, 6, 7, 8, 9]\n"
     ]
    },
    {
     "data": {
      "text/plain": [
       "[29, 1, 2, 3, 4, 5, 6, 7, 8, 9]"
      ]
     },
     "execution_count": 90,
     "metadata": {},
     "output_type": "execute_result"
    }
   ],
   "source": [
    "listing = list(range(10))\n",
    "print(listing)\n",
    "listing[0] = 29\n",
    "listing"
   ]
  },
  {
   "cell_type": "markdown",
   "id": "e26870b5",
   "metadata": {},
   "source": [
    "The reason we can't do that with a string is something called _mutability_.  If a data structure is _mutable_ then that means we can change the elements of the structure directly.  Lists are mutable, which has consequences, and is the reason _memory_ location matters.  But with strings, we have an _immutable_ data structure, so we can't directly change the elements of a string.  We can replace, the elements, but doing so means, we create a new string with some subset of old elements and some new:"
   ]
  },
  {
   "cell_type": "code",
   "execution_count": 91,
   "id": "a4c96268",
   "metadata": {},
   "outputs": [
    {
     "data": {
      "text/plain": [
       "'thing'"
      ]
     },
     "execution_count": 91,
     "metadata": {},
     "output_type": "execute_result"
    }
   ],
   "source": [
    "\"things\".replace(\"s\", '')"
   ]
  },
  {
   "cell_type": "markdown",
   "id": "23c3c934",
   "metadata": {},
   "source": [
    "In addition to being able to replace this way, we can also use a format string to 'inject' the values from code.  We've been using this for a while, so now let's be explicit about how it works:\n",
    "\n",
    "`f'SOME STUFF GOES HERE {VARIABLE OR CODE GOES HERE}'`\n",
    "\n",
    "Let's look at some examples.  For instance if we left off the f at the beginning of the string we'd get:"
   ]
  },
  {
   "cell_type": "code",
   "execution_count": 98,
   "id": "f86420fd",
   "metadata": {},
   "outputs": [
    {
     "data": {
      "text/plain": [
       "'thing {whatever}'"
      ]
     },
     "execution_count": 98,
     "metadata": {},
     "output_type": "execute_result"
    }
   ],
   "source": [
    "whatever = 7\n",
    "'thing {whatever}'"
   ]
  },
  {
   "cell_type": "markdown",
   "id": "5fbdc0ca",
   "metadata": {},
   "source": [
    "But if we add the f to the above code we get:"
   ]
  },
  {
   "cell_type": "code",
   "execution_count": 99,
   "id": "7e9cf9d3",
   "metadata": {},
   "outputs": [
    {
     "data": {
      "text/plain": [
       "'thing 7'"
      ]
     },
     "execution_count": 99,
     "metadata": {},
     "output_type": "execute_result"
    }
   ],
   "source": [
    "whatever = 7\n",
    "\n",
    "f'thing {whatever}'"
   ]
  },
  {
   "cell_type": "markdown",
   "id": "bd53f388",
   "metadata": {},
   "source": [
    "Now the string interpolates the thing inside the `{}`.  Which is another way of saying, executes it!\n",
    "\n",
    "We can execute variables, or pieces of code:"
   ]
  },
  {
   "cell_type": "code",
   "execution_count": 101,
   "id": "0fbbafb2",
   "metadata": {},
   "outputs": [
    {
     "data": {
      "text/plain": [
       "'thing 3'"
      ]
     },
     "execution_count": 101,
     "metadata": {},
     "output_type": "execute_result"
    }
   ],
   "source": [
    "whatever = 7\n",
    "\n",
    "f'thing {whatever//2}'"
   ]
  },
  {
   "cell_type": "markdown",
   "id": "91548c2f",
   "metadata": {},
   "source": [
    "We can _even_ make function calls inside of format strings:"
   ]
  },
  {
   "cell_type": "code",
   "execution_count": 102,
   "id": "487355da",
   "metadata": {},
   "outputs": [
    {
     "data": {
      "text/plain": [
       "'The above string has a min of 0 a max of 9'"
      ]
     },
     "execution_count": 102,
     "metadata": {},
     "output_type": "execute_result"
    }
   ],
   "source": [
    "listing = [random.randint(0, 9) for _ in range(30)]\n",
    "f'The above string has a min of {min(listing)} a max of {max(listing)}'"
   ]
  },
  {
   "cell_type": "markdown",
   "id": "e25025ce",
   "metadata": {},
   "source": [
    "The nice thing about format strings is we can be explicit about what we are putting in the string to anyone reading our code.  We don't have to guess what the format string is going to inject.  \n",
    "\n",
    "It's just _super_ useful.\n",
    "\n",
    "Now let's look at one of the special methods on strings: `split`.\n",
    "\n",
    "The split method is incredibly helpful.  It let's you create a list from a string.  So we could have something like:"
   ]
  },
  {
   "cell_type": "code",
   "execution_count": 103,
   "id": "2ef4cfe8",
   "metadata": {},
   "outputs": [],
   "source": [
    "string = \"Hello there friends, how are you?\""
   ]
  },
  {
   "cell_type": "markdown",
   "id": "c3b0fa59",
   "metadata": {},
   "source": [
    "If we wanted to count the number of words in the string we could do:"
   ]
  },
  {
   "cell_type": "code",
   "execution_count": 105,
   "id": "cea8e24b",
   "metadata": {},
   "outputs": [
    {
     "name": "stdout",
     "output_type": "stream",
     "text": [
      "['Hello', 'there', 'friends,', 'how', 'are', 'you?']\n"
     ]
    },
    {
     "data": {
      "text/plain": [
       "6"
      ]
     },
     "execution_count": 105,
     "metadata": {},
     "output_type": "execute_result"
    }
   ],
   "source": [
    "listing = string.split()\n",
    "print(listing)\n",
    "len(listing)"
   ]
  },
  {
   "cell_type": "markdown",
   "id": "3a62a559",
   "metadata": {},
   "source": [
    "Pretty neat right?!  We can also glue strings together with the _inverse_ of a split - a join:"
   ]
  },
  {
   "cell_type": "code",
   "execution_count": 107,
   "id": "21e2159f",
   "metadata": {},
   "outputs": [
    {
     "name": "stdout",
     "output_type": "stream",
     "text": [
      "Hello there friends, how are you?\n"
     ]
    },
    {
     "data": {
      "text/plain": [
       "True"
      ]
     },
     "execution_count": 107,
     "metadata": {},
     "output_type": "execute_result"
    }
   ],
   "source": [
    "print(\" \".join(listing))\n",
    "string == \" \".join(listing)"
   ]
  },
  {
   "cell_type": "markdown",
   "id": "135b9443",
   "metadata": {},
   "source": [
    "## Tuples\n",
    "\n",
    "Next let's look at another _immutable_ data structure, except this one is _list-like_.  The tuple!\n",
    "\n",
    "A tuple is a list that you can't grow or change:"
   ]
  },
  {
   "cell_type": "code",
   "execution_count": 108,
   "id": "83370297",
   "metadata": {},
   "outputs": [
    {
     "ename": "TypeError",
     "evalue": "'tuple' object does not support item assignment",
     "output_type": "error",
     "traceback": [
      "\u001b[0;31m---------------------------------------------------------------------------\u001b[0m",
      "\u001b[0;31mTypeError\u001b[0m                                 Traceback (most recent call last)",
      "\u001b[0;32m<ipython-input-108-a08bd9145aac>\u001b[0m in \u001b[0;36m<module>\u001b[0;34m\u001b[0m\n\u001b[1;32m      1\u001b[0m \u001b[0mt\u001b[0m \u001b[0;34m=\u001b[0m \u001b[0;34m(\u001b[0m\u001b[0;36m1\u001b[0m\u001b[0;34m,\u001b[0m\u001b[0;36m2\u001b[0m\u001b[0;34m,\u001b[0m\u001b[0;36m3\u001b[0m\u001b[0;34m,\u001b[0m\u001b[0;36m4\u001b[0m\u001b[0;34m)\u001b[0m\u001b[0;34m\u001b[0m\u001b[0;34m\u001b[0m\u001b[0m\n\u001b[0;32m----> 2\u001b[0;31m \u001b[0mt\u001b[0m\u001b[0;34m[\u001b[0m\u001b[0;36m0\u001b[0m\u001b[0;34m]\u001b[0m \u001b[0;34m=\u001b[0m \u001b[0;36m6\u001b[0m\u001b[0;34m\u001b[0m\u001b[0;34m\u001b[0m\u001b[0m\n\u001b[0m\u001b[1;32m      3\u001b[0m \u001b[0mt\u001b[0m\u001b[0;34m\u001b[0m\u001b[0;34m\u001b[0m\u001b[0m\n",
      "\u001b[0;31mTypeError\u001b[0m: 'tuple' object does not support item assignment"
     ]
    }
   ],
   "source": [
    "t = (1,2,3,4)\n",
    "t[0] = 6\n",
    "t"
   ]
  },
  {
   "cell_type": "code",
   "execution_count": 109,
   "id": "ff41a327",
   "metadata": {},
   "outputs": [
    {
     "ename": "AttributeError",
     "evalue": "'tuple' object has no attribute 'append'",
     "output_type": "error",
     "traceback": [
      "\u001b[0;31m---------------------------------------------------------------------------\u001b[0m",
      "\u001b[0;31mAttributeError\u001b[0m                            Traceback (most recent call last)",
      "\u001b[0;32m<ipython-input-109-91f1b43b8697>\u001b[0m in \u001b[0;36m<module>\u001b[0;34m\u001b[0m\n\u001b[0;32m----> 1\u001b[0;31m \u001b[0mt\u001b[0m\u001b[0;34m.\u001b[0m\u001b[0mappend\u001b[0m\u001b[0;34m(\u001b[0m\u001b[0;36m7\u001b[0m\u001b[0;34m)\u001b[0m\u001b[0;34m\u001b[0m\u001b[0;34m\u001b[0m\u001b[0m\n\u001b[0m",
      "\u001b[0;31mAttributeError\u001b[0m: 'tuple' object has no attribute 'append'"
     ]
    }
   ],
   "source": [
    "t.append(7)"
   ]
  },
  {
   "cell_type": "markdown",
   "id": "f694f0da",
   "metadata": {},
   "source": [
    "We can see what we _can_ do with tuples with `dir`:"
   ]
  },
  {
   "cell_type": "code",
   "execution_count": 110,
   "id": "a88c4140",
   "metadata": {},
   "outputs": [
    {
     "data": {
      "text/plain": [
       "['__add__',\n",
       " '__class__',\n",
       " '__class_getitem__',\n",
       " '__contains__',\n",
       " '__delattr__',\n",
       " '__dir__',\n",
       " '__doc__',\n",
       " '__eq__',\n",
       " '__format__',\n",
       " '__ge__',\n",
       " '__getattribute__',\n",
       " '__getitem__',\n",
       " '__getnewargs__',\n",
       " '__gt__',\n",
       " '__hash__',\n",
       " '__init__',\n",
       " '__init_subclass__',\n",
       " '__iter__',\n",
       " '__le__',\n",
       " '__len__',\n",
       " '__lt__',\n",
       " '__mul__',\n",
       " '__ne__',\n",
       " '__new__',\n",
       " '__reduce__',\n",
       " '__reduce_ex__',\n",
       " '__repr__',\n",
       " '__rmul__',\n",
       " '__setattr__',\n",
       " '__sizeof__',\n",
       " '__str__',\n",
       " '__subclasshook__',\n",
       " 'count',\n",
       " 'index']"
      ]
     },
     "execution_count": 110,
     "metadata": {},
     "output_type": "execute_result"
    }
   ],
   "source": [
    "dir(t)"
   ]
  },
  {
   "cell_type": "markdown",
   "id": "e95dcf9f",
   "metadata": {},
   "source": [
    "The answer is - not much.  Just searching basically.  We can also iterate over the elements of a tuple.  But that's it.  So why would we want a tuple?  We for starters:\n",
    "\n",
    "Since tuples can't change that makes them great for storing things together inside a list.\n",
    "\n",
    "Here is an example - let's return to our game example from before:"
   ]
  },
  {
   "cell_type": "code",
   "execution_count": 113,
   "id": "bc962c59",
   "metadata": {},
   "outputs": [
    {
     "name": "stdout",
     "output_type": "stream",
     "text": [
      "What is 8 + 2? 10\n",
      "What is 7 + 3? 10\n",
      "What is 4 + 1? 5\n",
      "What is 3 + 7? 19\n",
      "What is 10 + 10? 12\n",
      "What is 4 + 1? 4\n",
      "game over\n",
      "You got 3 correct\n",
      "You got 3 wrong\n",
      "Here are all the guesses you got right:\n",
      "\n",
      "first number: 8\n",
      "second number: 2\n",
      "sum 10\n",
      "first number: 7\n",
      "second number: 3\n",
      "sum 10\n",
      "first number: 4\n",
      "second number: 1\n",
      "sum 5\n",
      "\n",
      "\n",
      "Here are all the guesses you got wrong:\n",
      "\n",
      "first number: 3\n",
      "second number: 7\n",
      "sum 10\n",
      "first number: 10\n",
      "second number: 10\n",
      "sum 20\n",
      "first number: 4\n",
      "second number: 1\n",
      "sum 5\n"
     ]
    }
   ],
   "source": [
    "import random\n",
    "\n",
    "guesses = []\n",
    "correct_guesses = []\n",
    "wrong_guesses = []\n",
    "while True:\n",
    "    number_one = random.randint(0, 10)\n",
    "    number_two = random.randint(0, 10)\n",
    "    guess = int(input(\n",
    "        f\"What is {number_one} + {number_two}? \"\n",
    "    ))\n",
    "    if guess == number_one + number_two:\n",
    "        guesses.append(1)\n",
    "        correct_guesses.append(\n",
    "            (number_one, number_two, number_one + number_two)\n",
    "        )\n",
    "    else:\n",
    "        guesses.append(-1)\n",
    "        wrong_guesses.append(\n",
    "            (number_one, number_two, number_one + number_two)\n",
    "        )\n",
    "    \n",
    "    if guesses.count(-1) >= 3:\n",
    "        print(\"game over\")\n",
    "        break\n",
    "        \n",
    "print(f\"You got {len(correct_guesses)} correct\")\n",
    "print(f\"You got {len(wrong_guesses)} wrong\")\n",
    "\n",
    "print(\"Here are all the guesses you got right:\")\n",
    "print()\n",
    "for elem in correct_guesses:\n",
    "    print(\"first number:\", elem[0])\n",
    "    print(\"second number:\", elem[1])\n",
    "    print(\"sum\", elem[2])\n",
    "    \n",
    "print()\n",
    "print()\n",
    "print(\"Here are all the guesses you got wrong:\")\n",
    "print()\n",
    "for elem in wrong_guesses:\n",
    "    print(\"first number:\", elem[0])\n",
    "    print(\"second number:\", elem[1])\n",
    "    print(\"sum\", elem[2])"
   ]
  },
  {
   "cell_type": "markdown",
   "id": "1c93a559",
   "metadata": {},
   "source": [
    "Since we are dealing with data that we don't want someone else to change - it's really useful to store our results in a list, but also to store each set of values in a _tuple_.\n",
    "\n",
    "Tuples are great for storage inside of lists, because they are compact, immutable and we can reference individual elements easily.  \n",
    "\n",
    "Another place tuples get used a lot is with coordinate systems.  We can think of the elements of a tuple as the coordinates of a space.  For instance $\\mathbb{R}^{3}$ can be represented by tuples with 3 elements:"
   ]
  },
  {
   "cell_type": "code",
   "execution_count": 114,
   "id": "5beeab18",
   "metadata": {},
   "outputs": [
    {
     "data": {
      "text/plain": [
       "(1, 0, 8)"
      ]
     },
     "execution_count": 114,
     "metadata": {},
     "output_type": "execute_result"
    }
   ],
   "source": [
    "import random\n",
    "\n",
    "(random.randint(0, 10), random.randint(0, 10), random.randint(0, 10))"
   ]
  },
  {
   "cell_type": "markdown",
   "id": "e2e806be",
   "metadata": {},
   "source": [
    "And we could get a list of coordinates in $\\mathbb{R}^{3}$ with:"
   ]
  },
  {
   "cell_type": "code",
   "execution_count": 115,
   "id": "2c58570d",
   "metadata": {},
   "outputs": [],
   "source": [
    "coordinates_in_r3 = [\n",
    "    (random.randint(0, 10), \n",
    "     random.randint(0, 10), \n",
    "     random.randint(0, 10))\n",
    "    for _ in range(50)\n",
    "]"
   ]
  },
  {
   "cell_type": "code",
   "execution_count": 117,
   "id": "1ace43d6",
   "metadata": {},
   "outputs": [
    {
     "data": {
      "text/plain": [
       "[(10, 5, 6), (2, 4, 2), (5, 1, 6), (8, 8, 8)]"
      ]
     },
     "execution_count": 117,
     "metadata": {},
     "output_type": "execute_result"
    }
   ],
   "source": [
    "coordinates_in_r3[:4]"
   ]
  },
  {
   "cell_type": "markdown",
   "id": "7577fc04",
   "metadata": {},
   "source": [
    "We can even get the distance between every pair of coordinates:"
   ]
  },
  {
   "cell_type": "code",
   "execution_count": 122,
   "id": "64849971",
   "metadata": {},
   "outputs": [
    {
     "name": "stdout",
     "output_type": "stream",
     "text": [
      "The closest pair is 0.0 and the furthest pair is 14.352700094407323\n"
     ]
    }
   ],
   "source": [
    "import math\n",
    "distances = []\n",
    "for index_i, elem_i in enumerate(coordinates_in_r3):\n",
    "    for index_j, elem_j in enumerate(coordinates_in_r3):\n",
    "        if index_i == index_j:\n",
    "            continue\n",
    "        differences = [\n",
    "            elem_i[k] - elem_j[k] \n",
    "            for k in range(3)\n",
    "        ]\n",
    "        squared_diffs = [math.pow(elem, 2) for elem in differences]\n",
    "        summed_squared_diffs = sum(squared_diffs)\n",
    "        distances.append(\n",
    "           math.sqrt(summed_squared_diffs)\n",
    "        )\n",
    "\n",
    "print(f\"The closest pair is {min(distances)} and the furthest pair is {max(distances)}\")"
   ]
  },
  {
   "cell_type": "markdown",
   "id": "d01c8e29",
   "metadata": {},
   "source": [
    "## Lists of Lists\n",
    "\n",
    "The final topic in this section is lists of lists.  We've sort of already seen this with the last section -\n",
    "\n",
    "Instead of having lists of tuples, we'll just use lists instead.  Other than that there isn't really much new here conceptually.  Let's look at an example:"
   ]
  },
  {
   "cell_type": "code",
   "execution_count": 124,
   "id": "0ee0da68",
   "metadata": {},
   "outputs": [
    {
     "name": "stdout",
     "output_type": "stream",
     "text": [
      "[0, 1, 2, 3, 4, 5, 6, 7, 8, 9]\n",
      "[0, 1, 2, 3, 4, 5, 6, 7, 8, 9]\n",
      "[0, 1, 2, 3, 4, 5, 6, 7, 8, 9]\n",
      "[0, 1, 2, 3, 4, 5, 6, 7, 8, 9]\n",
      "[0, 1, 2, 3, 4, 5, 6, 7, 8, 9]\n",
      "[0, 1, 2, 3, 4, 5, 6, 7, 8, 9]\n",
      "[0, 1, 2, 3, 4, 5, 6, 7, 8, 9]\n",
      "[0, 1, 2, 3, 4, 5, 6, 7, 8, 9]\n",
      "[0, 1, 2, 3, 4, 5, 6, 7, 8, 9]\n",
      "[0, 1, 2, 3, 4, 5, 6, 7, 8, 9]\n"
     ]
    }
   ],
   "source": [
    "list_of_lists = []\n",
    "for elem_i in range(10):\n",
    "    tmp = []\n",
    "    for elem_j in range(10):\n",
    "        tmp.append(elem_j)\n",
    "    list_of_lists.append(tmp)\n",
    "    \n",
    "for elem in list_of_lists:\n",
    "    print(elem)"
   ]
  },
  {
   "cell_type": "markdown",
   "id": "2fa9c8b6",
   "metadata": {},
   "source": [
    "As you can see - our iteration changed.  We have to use a for loop _inside_ our for loop to populate the inner list.  We could of course replace that with a list comprehension:"
   ]
  },
  {
   "cell_type": "code",
   "execution_count": 125,
   "id": "3dd87384",
   "metadata": {},
   "outputs": [
    {
     "name": "stdout",
     "output_type": "stream",
     "text": [
      "[0, 1, 2, 3, 4, 5, 6, 7, 8, 9]\n",
      "[0, 1, 2, 3, 4, 5, 6, 7, 8, 9]\n",
      "[0, 1, 2, 3, 4, 5, 6, 7, 8, 9]\n",
      "[0, 1, 2, 3, 4, 5, 6, 7, 8, 9]\n",
      "[0, 1, 2, 3, 4, 5, 6, 7, 8, 9]\n",
      "[0, 1, 2, 3, 4, 5, 6, 7, 8, 9]\n",
      "[0, 1, 2, 3, 4, 5, 6, 7, 8, 9]\n",
      "[0, 1, 2, 3, 4, 5, 6, 7, 8, 9]\n",
      "[0, 1, 2, 3, 4, 5, 6, 7, 8, 9]\n",
      "[0, 1, 2, 3, 4, 5, 6, 7, 8, 9]\n"
     ]
    }
   ],
   "source": [
    "list_of_lists = []\n",
    "for elem_i in range(10):\n",
    "    list_of_lists.append(\n",
    "        [elem_j for elem_j in range(10)]\n",
    "    )\n",
    "\n",
    "for elem in list_of_lists:\n",
    "    print(elem)"
   ]
  },
  {
   "cell_type": "markdown",
   "id": "5ad33e5a",
   "metadata": {},
   "source": [
    "We could also treat our list of lists as a matrix.  A matrix is like a list of lists, in that it has multiple indices.  However, there is an important difference - a matrix is a _mathematical object_.  That means we can do algebra over the entries of our matrix.\n",
    "\n",
    "In particular, we can do addition:"
   ]
  },
  {
   "cell_type": "code",
   "execution_count": 127,
   "id": "82912e4a",
   "metadata": {},
   "outputs": [
    {
     "name": "stdout",
     "output_type": "stream",
     "text": [
      "matrix one:\n",
      "[0, 1, 2, 3, 4, 5, 6, 7, 8, 9]\n",
      "[0, 1, 2, 3, 4, 5, 6, 7, 8, 9]\n",
      "[0, 1, 2, 3, 4, 5, 6, 7, 8, 9]\n",
      "[0, 1, 2, 3, 4, 5, 6, 7, 8, 9]\n",
      "[0, 1, 2, 3, 4, 5, 6, 7, 8, 9]\n",
      "[0, 1, 2, 3, 4, 5, 6, 7, 8, 9]\n",
      "[0, 1, 2, 3, 4, 5, 6, 7, 8, 9]\n",
      "[0, 1, 2, 3, 4, 5, 6, 7, 8, 9]\n",
      "[0, 1, 2, 3, 4, 5, 6, 7, 8, 9]\n",
      "[0, 1, 2, 3, 4, 5, 6, 7, 8, 9]\n",
      "matrix two:\n",
      "[0, 1, 2, 3, 4, 5, 6, 7, 8, 9]\n",
      "[0, 1, 2, 3, 4, 5, 6, 7, 8, 9]\n",
      "[0, 1, 2, 3, 4, 5, 6, 7, 8, 9]\n",
      "[0, 1, 2, 3, 4, 5, 6, 7, 8, 9]\n",
      "[0, 1, 2, 3, 4, 5, 6, 7, 8, 9]\n",
      "[0, 1, 2, 3, 4, 5, 6, 7, 8, 9]\n",
      "[0, 1, 2, 3, 4, 5, 6, 7, 8, 9]\n",
      "[0, 1, 2, 3, 4, 5, 6, 7, 8, 9]\n",
      "[0, 1, 2, 3, 4, 5, 6, 7, 8, 9]\n",
      "[0, 1, 2, 3, 4, 5, 6, 7, 8, 9]\n",
      "matrix three:\n",
      "[0, 2, 4, 6, 8, 10, 12, 14, 16, 18]\n",
      "[0, 2, 4, 6, 8, 10, 12, 14, 16, 18]\n",
      "[0, 2, 4, 6, 8, 10, 12, 14, 16, 18]\n",
      "[0, 2, 4, 6, 8, 10, 12, 14, 16, 18]\n",
      "[0, 2, 4, 6, 8, 10, 12, 14, 16, 18]\n",
      "[0, 2, 4, 6, 8, 10, 12, 14, 16, 18]\n",
      "[0, 2, 4, 6, 8, 10, 12, 14, 16, 18]\n",
      "[0, 2, 4, 6, 8, 10, 12, 14, 16, 18]\n",
      "[0, 2, 4, 6, 8, 10, 12, 14, 16, 18]\n",
      "[0, 2, 4, 6, 8, 10, 12, 14, 16, 18]\n"
     ]
    }
   ],
   "source": [
    "matrix_one = []\n",
    "for elem_i in range(10):\n",
    "    matrix_one.append(\n",
    "        [elem_j for elem_j in range(10)]\n",
    "    )\n",
    "matrix_two = []\n",
    "for elem_i in range(10):\n",
    "    matrix_two.append(\n",
    "        [elem_j for elem_j in range(10)]\n",
    "    )\n",
    "\n",
    "matrix_three = []\n",
    "for index_i in range(10):\n",
    "    matrix_three.append([\n",
    "        matrix_one[index_i][index_j] + matrix_two[index_i][index_j]\n",
    "        for index_j in range(10)\n",
    "    ])\n",
    "print(\"matrix one:\")\n",
    "for elem in matrix_one:\n",
    "    print(elem)\n",
    "print(\"matrix two:\")\n",
    "for elem in matrix_two:\n",
    "    print(elem)\n",
    "print(\"matrix three:\")\n",
    "for elem in matrix_three:\n",
    "    print(elem)\n"
   ]
  },
  {
   "cell_type": "markdown",
   "id": "096260a8",
   "metadata": {},
   "source": [
    "Or subtraction:"
   ]
  },
  {
   "cell_type": "code",
   "execution_count": 128,
   "id": "07bbde22",
   "metadata": {},
   "outputs": [
    {
     "name": "stdout",
     "output_type": "stream",
     "text": [
      "matrix one:\n",
      "[0, 1, 2, 3, 4, 5, 6, 7, 8, 9]\n",
      "[0, 1, 2, 3, 4, 5, 6, 7, 8, 9]\n",
      "[0, 1, 2, 3, 4, 5, 6, 7, 8, 9]\n",
      "[0, 1, 2, 3, 4, 5, 6, 7, 8, 9]\n",
      "[0, 1, 2, 3, 4, 5, 6, 7, 8, 9]\n",
      "[0, 1, 2, 3, 4, 5, 6, 7, 8, 9]\n",
      "[0, 1, 2, 3, 4, 5, 6, 7, 8, 9]\n",
      "[0, 1, 2, 3, 4, 5, 6, 7, 8, 9]\n",
      "[0, 1, 2, 3, 4, 5, 6, 7, 8, 9]\n",
      "[0, 1, 2, 3, 4, 5, 6, 7, 8, 9]\n",
      "matrix two:\n",
      "[0, 1, 2, 3, 4, 5, 6, 7, 8, 9]\n",
      "[0, 1, 2, 3, 4, 5, 6, 7, 8, 9]\n",
      "[0, 1, 2, 3, 4, 5, 6, 7, 8, 9]\n",
      "[0, 1, 2, 3, 4, 5, 6, 7, 8, 9]\n",
      "[0, 1, 2, 3, 4, 5, 6, 7, 8, 9]\n",
      "[0, 1, 2, 3, 4, 5, 6, 7, 8, 9]\n",
      "[0, 1, 2, 3, 4, 5, 6, 7, 8, 9]\n",
      "[0, 1, 2, 3, 4, 5, 6, 7, 8, 9]\n",
      "[0, 1, 2, 3, 4, 5, 6, 7, 8, 9]\n",
      "[0, 1, 2, 3, 4, 5, 6, 7, 8, 9]\n",
      "matrix three:\n",
      "[0, 0, 0, 0, 0, 0, 0, 0, 0, 0]\n",
      "[0, 0, 0, 0, 0, 0, 0, 0, 0, 0]\n",
      "[0, 0, 0, 0, 0, 0, 0, 0, 0, 0]\n",
      "[0, 0, 0, 0, 0, 0, 0, 0, 0, 0]\n",
      "[0, 0, 0, 0, 0, 0, 0, 0, 0, 0]\n",
      "[0, 0, 0, 0, 0, 0, 0, 0, 0, 0]\n",
      "[0, 0, 0, 0, 0, 0, 0, 0, 0, 0]\n",
      "[0, 0, 0, 0, 0, 0, 0, 0, 0, 0]\n",
      "[0, 0, 0, 0, 0, 0, 0, 0, 0, 0]\n",
      "[0, 0, 0, 0, 0, 0, 0, 0, 0, 0]\n"
     ]
    }
   ],
   "source": [
    "matrix_one = []\n",
    "for elem_i in range(10):\n",
    "    matrix_one.append(\n",
    "        [elem_j for elem_j in range(10)]\n",
    "    )\n",
    "matrix_two = []\n",
    "for elem_i in range(10):\n",
    "    matrix_two.append(\n",
    "        [elem_j for elem_j in range(10)]\n",
    "    )\n",
    "\n",
    "matrix_three = []\n",
    "for index_i in range(10):\n",
    "    matrix_three.append([\n",
    "        matrix_one[index_i][index_j] - matrix_two[index_i][index_j]\n",
    "        for index_j in range(10)\n",
    "    ])\n",
    "print(\"matrix one:\")\n",
    "for elem in matrix_one:\n",
    "    print(elem)\n",
    "print(\"matrix two:\")\n",
    "for elem in matrix_two:\n",
    "    print(elem)\n",
    "print(\"matrix three:\")\n",
    "for elem in matrix_three:\n",
    "    print(elem)\n"
   ]
  },
  {
   "cell_type": "markdown",
   "id": "4bcd0855",
   "metadata": {},
   "source": [
    "However, multiplication presents a challenge (in that it requires extra intuition and steps) so we won't show that here."
   ]
  },
  {
   "cell_type": "code",
   "execution_count": null,
   "id": "d29c2709",
   "metadata": {},
   "outputs": [],
   "source": []
  }
 ],
 "metadata": {
  "kernelspec": {
   "display_name": "Python 3",
   "language": "python",
   "name": "python3"
  },
  "language_info": {
   "codemirror_mode": {
    "name": "ipython",
    "version": 3
   },
   "file_extension": ".py",
   "mimetype": "text/x-python",
   "name": "python",
   "nbconvert_exporter": "python",
   "pygments_lexer": "ipython3",
   "version": "3.9.5"
  }
 },
 "nbformat": 4,
 "nbformat_minor": 5
}
