{
 "cells": [
  {
   "cell_type": "markdown",
   "id": "64a14d3e",
   "metadata": {},
   "source": [
    "# Dictionaries, Visualization and Basic Descriptive Statistics\n",
    "\n",
    "## Dictionaries\n",
    "\n",
    "While lists are always indexed by the natural numbers, we can also create collections indexed by whatever we want.  These are called dictionaries in Python, but they go by other names in other languages.  So if you are talking to programmers who work in other languages, don't be fooled if they call it something else.\n",
    "\n",
    "They work as follows:"
   ]
  },
  {
   "cell_type": "code",
   "execution_count": 1,
   "id": "11e6e635",
   "metadata": {},
   "outputs": [
    {
     "name": "stdout",
     "output_type": "stream",
     "text": [
      "{0: 1, 1: 2, 3: 4, 4: 5}\n"
     ]
    }
   ],
   "source": [
    "dictionary = {0:1, 1:2, 3:4, 4:5}\n",
    "\n",
    "print(dictionary)"
   ]
  },
  {
   "cell_type": "markdown",
   "id": "e62d0a1a",
   "metadata": {},
   "source": [
    "Here the first value of each \"pair\" is the key, or index of the dictionary and the second value is just called the \"value\".  \n",
    "\n",
    "Here is how we get to specific elements:"
   ]
  },
  {
   "cell_type": "code",
   "execution_count": 2,
   "id": "e40bcf15",
   "metadata": {},
   "outputs": [
    {
     "data": {
      "text/plain": [
       "1"
      ]
     },
     "execution_count": 2,
     "metadata": {},
     "output_type": "execute_result"
    }
   ],
   "source": [
    "dictionary[0]"
   ]
  },
  {
   "cell_type": "markdown",
   "id": "6c9a634e",
   "metadata": {},
   "source": [
    "Notice that I decided to use the same index that we might find in a list.  With a dictionary we can also do this:"
   ]
  },
  {
   "cell_type": "code",
   "execution_count": 3,
   "id": "67fab65c",
   "metadata": {},
   "outputs": [
    {
     "name": "stdout",
     "output_type": "stream",
     "text": [
      "{0: 1, 1: 2, 3: 4, 4: 5, 'narf': 6}\n",
      "\n",
      "6\n"
     ]
    }
   ],
   "source": [
    "dictionary[\"narf\"] = 6\n",
    "\n",
    "print(dictionary)\n",
    "print()\n",
    "print(dictionary[\"narf\"])"
   ]
  },
  {
   "cell_type": "markdown",
   "id": "a9b5dfb9",
   "metadata": {},
   "source": [
    "As you can see, the index for a dictionary can be any of our primitives _as well as other things_.  We'll get to those later.\n",
    "\n",
    "Additionally we can see all the keys of a dictionary at once:"
   ]
  },
  {
   "cell_type": "code",
   "execution_count": 5,
   "id": "c683bbb8",
   "metadata": {},
   "outputs": [
    {
     "data": {
      "text/plain": [
       "dict_keys([0, 1, 3, 4, 'narf'])"
      ]
     },
     "execution_count": 5,
     "metadata": {},
     "output_type": "execute_result"
    }
   ],
   "source": [
    "dictionary.keys()"
   ]
  },
  {
   "cell_type": "markdown",
   "id": "3ff75c7d",
   "metadata": {},
   "source": [
    "or all of the values:"
   ]
  },
  {
   "cell_type": "code",
   "execution_count": 6,
   "id": "d2279568",
   "metadata": {},
   "outputs": [
    {
     "data": {
      "text/plain": [
       "dict_values([1, 2, 4, 5, 6])"
      ]
     },
     "execution_count": 6,
     "metadata": {},
     "output_type": "execute_result"
    }
   ],
   "source": [
    "dictionary.values()"
   ]
  },
  {
   "cell_type": "markdown",
   "id": "c30f8f4c",
   "metadata": {},
   "source": [
    "One of the other differences between lists and dictionaries is how we add elements to each:"
   ]
  },
  {
   "cell_type": "code",
   "execution_count": 7,
   "id": "5d84df7c",
   "metadata": {},
   "outputs": [
    {
     "data": {
      "text/plain": [
       "([1], {0: 1})"
      ]
     },
     "execution_count": 7,
     "metadata": {},
     "output_type": "execute_result"
    }
   ],
   "source": [
    "listing = []\n",
    "\n",
    "dictionary = {}\n",
    "\n",
    "listing.append(1)\n",
    "dictionary[0] = 1\n",
    "\n",
    "listing, dictionary"
   ]
  },
  {
   "cell_type": "markdown",
   "id": "19ab0aa7",
   "metadata": {},
   "source": [
    "For the list we had to use something called \"dot notation\" to call a \"method\".  Whereas with a dictionary we can just update directly as part of the \"syntax\" of a dictionary.  We can _technically_ do this with a list as well, although it's not used as often:"
   ]
  },
  {
   "cell_type": "code",
   "execution_count": 8,
   "id": "3cb491f9",
   "metadata": {},
   "outputs": [
    {
     "data": {
      "text/plain": [
       "[1, 2]"
      ]
     },
     "execution_count": 8,
     "metadata": {},
     "output_type": "execute_result"
    }
   ],
   "source": [
    "listing += [2]\n",
    "\n",
    "listing"
   ]
  },
  {
   "cell_type": "markdown",
   "id": "346df94d",
   "metadata": {},
   "source": [
    "Here the list is updated via concatenation.  Next let's look at an application of dictionaries - word counting."
   ]
  },
  {
   "cell_type": "code",
   "execution_count": 9,
   "id": "c782a78c",
   "metadata": {},
   "outputs": [],
   "source": [
    "with open(\"return_of_sherlock_holmes.txt\", \"r\") as f:\n",
    "    text = f.read()\n",
    "    \n",
    "words = text.split()\n",
    "unique_words = list(set(words))\n",
    "\n",
    "word_counts = {}.fromkeys(unique_words, 0)\n",
    "for word in unique_words:\n",
    "    word_counts[word] = words.count(word)"
   ]
  },
  {
   "cell_type": "code",
   "execution_count": 17,
   "id": "25b3f4c1",
   "metadata": {},
   "outputs": [
    {
     "name": "stdout",
     "output_type": "stream",
     "text": [
      "lives 9\n",
      "eyes 75\n",
      "affection 1\n",
      "harassed, 1\n",
      "landsmen 1\n"
     ]
    }
   ],
   "source": [
    "counter = 0\n",
    "for word in word_counts:\n",
    "    print(word, word_counts[word])\n",
    "    counter += 1\n",
    "    if counter == 5:\n",
    "        break"
   ]
  },
  {
   "cell_type": "markdown",
   "id": "a7af0943",
   "metadata": {},
   "source": [
    "There are a few pieces that we need to explain:"
   ]
  },
  {
   "cell_type": "code",
   "execution_count": null,
   "id": "dc5cfc93",
   "metadata": {},
   "outputs": [],
   "source": [
    "with open(\"return_of_sherlock_holmes.txt\", \"r\") as f:\n",
    "    text = f.read()"
   ]
  },
  {
   "cell_type": "markdown",
   "id": "e0d48133",
   "metadata": {},
   "source": [
    "First we use the open function with the `\"r\"` for read, to read the text.  The `with` means that after we leave the context the file closes.  The `f.read` reads the full text into memory.\n",
    "\n",
    "Next let's go over set:"
   ]
  },
  {
   "cell_type": "code",
   "execution_count": null,
   "id": "b79a01ff",
   "metadata": {},
   "outputs": [],
   "source": [
    "unique_words = list(set(words))"
   ]
  },
  {
   "cell_type": "markdown",
   "id": "594aa520",
   "metadata": {},
   "source": [
    "The `set` object gets all the unique occurrences in a list for example:"
   ]
  },
  {
   "cell_type": "code",
   "execution_count": 12,
   "id": "3ba569c6",
   "metadata": {},
   "outputs": [
    {
     "data": {
      "text/plain": [
       "{1}"
      ]
     },
     "execution_count": 12,
     "metadata": {},
     "output_type": "execute_result"
    }
   ],
   "source": [
    "set([1,1,1,1,1])"
   ]
  },
  {
   "cell_type": "markdown",
   "id": "8ad907e8",
   "metadata": {},
   "source": [
    "Finally, let's look at the last piece of new code:"
   ]
  },
  {
   "cell_type": "code",
   "execution_count": null,
   "id": "08b467a3",
   "metadata": {},
   "outputs": [],
   "source": [
    "word_counts = {}.fromkeys(unique_words, 0)"
   ]
  },
  {
   "cell_type": "markdown",
   "id": "67c5a883",
   "metadata": {},
   "source": [
    "The dictionary comes equipped with `fromkeys` which automatically populates the dictionary keys with the list and the values with the second parameter - in our case zero.  For instance:"
   ]
  },
  {
   "cell_type": "code",
   "execution_count": 13,
   "id": "022c0b7e",
   "metadata": {},
   "outputs": [
    {
     "data": {
      "text/plain": [
       "{1: 1, 2: 1, 3: 1, 4: 1, 5: 1}"
      ]
     },
     "execution_count": 13,
     "metadata": {},
     "output_type": "execute_result"
    }
   ],
   "source": [
    "listing = [1,2,3,4,5]\n",
    "{}.fromkeys(listing, 1)"
   ]
  },
  {
   "cell_type": "markdown",
   "id": "33562c01",
   "metadata": {},
   "source": [
    "## Visualization\n",
    "\n",
    "We begin our visualization journey by looking at one of the classical visualization techniques the histogram.  We'll use the word count above to show the data:"
   ]
  },
  {
   "cell_type": "code",
   "execution_count": 16,
   "id": "df13598e",
   "metadata": {},
   "outputs": [
    {
     "data": {
      "text/plain": [
       "<BarContainer object of 5 artists>"
      ]
     },
     "execution_count": 16,
     "metadata": {},
     "output_type": "execute_result"
    },
    {
     "data": {
      "image/png": "[encoded data removed]",
      "text/plain": [
       "<Figure size 432x288 with 1 Axes>"
      ]
     },
     "metadata": {
      "needs_background": "light"
     },
     "output_type": "display_data"
    }
   ],
   "source": [
    "import matplotlib.pyplot as plt\n",
    "\n",
    "counter = 0\n",
    "x = []\n",
    "y = []\n",
    "for word in word_counts:\n",
    "    x.append(word)\n",
    "    y.append(word_counts[word])\n",
    "    counter += 1\n",
    "    if counter == 5:\n",
    "        break\n",
    "plt.bar(x, y)"
   ]
  },
  {
   "cell_type": "markdown",
   "id": "1831759b",
   "metadata": {},
   "source": [
    "The histogram breaks down into types:\n",
    "\n",
    "* plt.bar for categorical keys like strings\n",
    "* plt.hist for numerical keys like integers and floats\n",
    "\n",
    "While we can use a histogram to visualization two dimensional data, we can also use it to get a sense of 1 dimensional data, like an array:"
   ]
  },
  {
   "cell_type": "code",
   "execution_count": 23,
   "id": "3edb09f7",
   "metadata": {},
   "outputs": [
    {
     "data": {
      "text/plain": [
       "(array([2., 1., 0., 1., 2., 0., 1., 0., 2., 1.]),\n",
       " array([17., 25., 33., 41., 49., 57., 65., 73., 81., 89., 97.]),\n",
       " <BarContainer object of 10 artists>)"
      ]
     },
     "execution_count": 23,
     "metadata": {},
     "output_type": "execute_result"
    },
    {
     "data": {
      "image/png": "[encoded data removed]",
      "text/plain": [
       "<Figure size 432x288 with 1 Axes>"
      ]
     },
     "metadata": {
      "needs_background": "light"
     },
     "output_type": "display_data"
    }
   ],
   "source": [
    "import numpy as np\n",
    "\n",
    "data = np.random.randint(0, 100, size=10)\n",
    "\n",
    "plt.hist(data)"
   ]
  },
  {
   "cell_type": "markdown",
   "id": "cc6c62dc",
   "metadata": {},
   "source": [
    "## Descriptive Statistics\n",
    "\n",
    "We've informally mentioned descriptive statistics up until this point, but now we'll take a more careful look at them.\n",
    "\n",
    "We'll need the notion of a distribution.  In the real world, some experimental data - that is data that comes from a process or experiment, can follow a distribution.  In otherwords, it may be similar to a distribution.  One such distribution that data may follow is the _normal_ distribution.  If we know a process follows the normal distribution, we can simulate experiments using this distribution, instead of carrying out experiments in the real world.  For example:"
   ]
  },
  {
   "cell_type": "code",
   "execution_count": 25,
   "id": "3967035a",
   "metadata": {},
   "outputs": [
    {
     "data": {
      "image/png": "[encoded data removed]",
      "text/plain": [
       "<Figure size 432x288 with 1 Axes>"
      ]
     },
     "metadata": {
      "needs_background": "light"
     },
     "output_type": "display_data"
    }
   ],
   "source": [
    "import numpy as np\n",
    "import matplotlib.pyplot as plt\n",
    "\n",
    "data = np.random.normal(0, 10, size=1000)\n",
    "\n",
    "plt.hist(data);"
   ]
  },
  {
   "cell_type": "markdown",
   "id": "3ace5777",
   "metadata": {},
   "source": [
    "In order to get some information about our distribution of data, we usually start with figuring out the center of our each column in our dataset.  The central tendency of each column of our dataset has a relationship to the \"expected value\" of the data.  If our data is representative of the underlying population, then the central tendency is a good approxmation of what we can expect of our data over many repeated experiments from the underlying process that generated our dataset."
   ]
  },
  {
   "cell_type": "code",
   "execution_count": 26,
   "id": "c70c6aa8",
   "metadata": {},
   "outputs": [
    {
     "data": {
      "text/plain": [
       "-3.457367060708985"
      ]
     },
     "execution_count": 26,
     "metadata": {},
     "output_type": "execute_result"
    }
   ],
   "source": [
    "import numpy as np\n",
    "\n",
    "arr = np.random.normal(0, 10, size=10)\n",
    "arr.mean()"
   ]
  },
  {
   "cell_type": "markdown",
   "id": "e90b8bad",
   "metadata": {},
   "source": [
    "The above gives us the average of ten repeated experiments.  Here the underlying data generation process is assumed to admit \"normally\" distributed data.  If we want the expected value we need to see how the average converges over many repeated samples from the distribution."
   ]
  },
  {
   "cell_type": "code",
   "execution_count": 27,
   "id": "730f9444",
   "metadata": {},
   "outputs": [
    {
     "data": {
      "text/plain": [
       "-0.00010651267715025289"
      ]
     },
     "execution_count": 27,
     "metadata": {},
     "output_type": "execute_result"
    }
   ],
   "source": [
    "arr = np.random.normal(0, 10, size=100000000)\n",
    "arr.mean()"
   ]
  },
  {
   "cell_type": "markdown",
   "id": "feb2bf62",
   "metadata": {},
   "source": [
    "Notice that we use the same method to determined the expected value as we use to determine the average.  Unfortunately, the algorithm for the average used here only works with normally distributed data.  We'll need a broader notion of centrality to capture the expected value of any random variable.\n",
    "\n",
    "In order to get more information about our distribution we'll ask about how spread out the data is.  This gives us a sense of the scale of the distribution of the data.  The scale or spread of the data can tell us how to compare a given data point against the entire distribution and how typical a given point is.  If a point is far away from the central tendency or expectation then it is likely atypical for the distribution.  If a point is nearby the center, it is likely much more expected."
   ]
  },
  {
   "cell_type": "code",
   "execution_count": 28,
   "id": "83d0d154",
   "metadata": {},
   "outputs": [
    {
     "data": {
      "text/plain": [
       "9.987633895501794"
      ]
     },
     "execution_count": 28,
     "metadata": {},
     "output_type": "execute_result"
    }
   ],
   "source": [
    "arr = np.random.normal(0, 10, size=100000)\n",
    "arr.std()"
   ]
  },
  {
   "cell_type": "markdown",
   "id": "c40f3f2f",
   "metadata": {},
   "source": [
    "As we can see standard deviation also known as the spread for this random variable is around 10.  What does this mean?  Well we can start to ask questions of our data, like - how likely is it that we get a data point of 10000, given that our data is normally distributed with a mean of 0 and standard deviation of 10 and 100000 data points?\n",
    "\n",
    "We can start by answering the question visually."
   ]
  },
  {
   "cell_type": "code",
   "execution_count": 29,
   "id": "3f030750",
   "metadata": {},
   "outputs": [
    {
     "data": {
      "text/plain": [
       "(array([0.00113125, 0.        , 0.        , ..., 0.        , 0.        ,\n",
       "        0.00113125]),\n",
       " array([-40.34387964, -40.33503984, -40.32620004, ...,  48.03646242,\n",
       "         48.04530222,  48.05414202]),\n",
       " <BarContainer object of 10000 artists>)"
      ]
     },
     "execution_count": 29,
     "metadata": {},
     "output_type": "execute_result"
    },
    {
     "data": {
      "image/png": "[encoded data removed]",
      "text/plain": [
       "<Figure size 432x288 with 1 Axes>"
      ]
     },
     "metadata": {
      "needs_background": "light"
     },
     "output_type": "display_data"
    }
   ],
   "source": [
    "import matplotlib.pyplot as plt\n",
    "%matplotlib inline\n",
    "\n",
    "plt.hist(arr, bins=10000, density=True)"
   ]
  },
  {
   "cell_type": "markdown",
   "id": "b575ba0d",
   "metadata": {},
   "source": [
    "Given the scale of the distribution - which we can see on the x-axis, clearly the data point of 10000 is well outside what we'd expect for a data point, given this distribution of data.  \n",
    "\n",
    "## Dealing with data that isn't normally distributed\n",
    "\n",
    "What happens when our data isn't perfectly normally distributed?  Here's an example dataset that isn't exactly normally distributed:"
   ]
  },
  {
   "cell_type": "code",
   "execution_count": 30,
   "id": "b6701ac2",
   "metadata": {},
   "outputs": [],
   "source": [
    "from scipy.stats import skewnorm\n",
    "\n",
    "skew_magnitude = 4\n",
    "arr = skewnorm.rvs(skew_magnitude, loc=0, scale=1000, size=100000)"
   ]
  },
  {
   "cell_type": "markdown",
   "id": "767dfd9b",
   "metadata": {},
   "source": [
    "To generate the above dataset we use a skew normal random variable, one that allows us to pass the third moment of the normal distribution directly.  Because the skew is positive, the tail of our distribution will be on the right."
   ]
  },
  {
   "cell_type": "code",
   "execution_count": 31,
   "id": "919847e8",
   "metadata": {},
   "outputs": [
    {
     "data": {
      "image/png": "[encoded data removed]",
      "text/plain": [
       "<Figure size 432x288 with 1 Axes>"
      ]
     },
     "metadata": {
      "needs_background": "light"
     },
     "output_type": "display_data"
    }
   ],
   "source": [
    "plt.hist(arr, bins=100, density=True)\n",
    "plt.show()"
   ]
  },
  {
   "cell_type": "markdown",
   "id": "dab277cf",
   "metadata": {},
   "source": [
    "How might we get a measure of center for a dataset that isn't perfectly normal?  The simple average might give us an approximation of the center:"
   ]
  },
  {
   "cell_type": "code",
   "execution_count": 32,
   "id": "53f4cf78",
   "metadata": {},
   "outputs": [
    {
     "data": {
      "text/plain": [
       "774.606367090484"
      ]
     },
     "execution_count": 32,
     "metadata": {},
     "output_type": "execute_result"
    }
   ],
   "source": [
    "arr.mean()"
   ]
  },
  {
   "cell_type": "markdown",
   "id": "2cb5ac88",
   "metadata": {},
   "source": [
    "Let's compare this with what the median produces:"
   ]
  },
  {
   "cell_type": "code",
   "execution_count": 33,
   "id": "0ba1abfe",
   "metadata": {},
   "outputs": [
    {
     "data": {
      "text/plain": [
       "674.0781850048184"
      ]
     },
     "execution_count": 33,
     "metadata": {},
     "output_type": "execute_result"
    }
   ],
   "source": [
    "import statistics as st\n",
    "\n",
    "st.median(arr)"
   ]
  },
  {
   "cell_type": "code",
   "execution_count": 34,
   "id": "c1d945eb",
   "metadata": {},
   "outputs": [],
   "source": [
    "skew_magnitude = -4\n",
    "arr2 = skewnorm.rvs(skew_magnitude, loc=0, scale=1000, size=100000)"
   ]
  },
  {
   "cell_type": "code",
   "execution_count": 35,
   "id": "9eb510d2",
   "metadata": {},
   "outputs": [
    {
     "data": {
      "image/png": "[encoded data removed]",
      "text/plain": [
       "<Figure size 432x288 with 1 Axes>"
      ]
     },
     "metadata": {
      "needs_background": "light"
     },
     "output_type": "display_data"
    }
   ],
   "source": [
    "plt.hist(arr2, bins=100, density=False)\n",
    "plt.show()"
   ]
  },
  {
   "cell_type": "code",
   "execution_count": 36,
   "id": "185e80c7",
   "metadata": {},
   "outputs": [
    {
     "data": {
      "text/plain": [
       "-772.6917694772354"
      ]
     },
     "execution_count": 36,
     "metadata": {},
     "output_type": "execute_result"
    }
   ],
   "source": [
    "arr2.mean()"
   ]
  },
  {
   "cell_type": "code",
   "execution_count": 37,
   "id": "4c06a14f",
   "metadata": {},
   "outputs": [
    {
     "data": {
      "text/plain": [
       "-671.4001320180662"
      ]
     },
     "execution_count": 37,
     "metadata": {},
     "output_type": "execute_result"
    }
   ],
   "source": [
    "st.median(arr2)"
   ]
  },
  {
   "cell_type": "markdown",
   "id": "155013d8",
   "metadata": {},
   "source": [
    "As you can see here, the mean overstates the central tendency of the dataset by quite a bit!  So this tells us when our assumptions are violated we will need to make use of descriptive statistics which are robust to our assumptions needing to be relaxed\n"
   ]
  },
  {
   "cell_type": "markdown",
   "id": "c11985c8",
   "metadata": {},
   "source": [
    "\n",
    "The major reason that the arithemtic mean overstates the average in this case is because of how it treats large values.  Recall the formula for the arithmetic mean:\n",
    "\n",
    "$$ 1/N \\sum_{i=0}^{i=N} X[i] $$\n",
    "\n",
    "Where X is a list of numbers.\n",
    "\n"
   ]
  },
  {
   "cell_type": "markdown",
   "id": "eaac639b",
   "metadata": {},
   "source": [
    "Because the sum treats all values equally, if you have one large number the average can shift by a lot.  \n",
    "\n",
    "The way that robust descriptive statistics like the median get around this is by looking at the rank of the data.  Here's how this works:\n",
    "\n",
    "First the data is sorted into ascending order and then different sorted elements are used as alternative measures for centrality and spread.  While not perfectly robust, they do well with a lot of different distributions that are approximately normal but exhibiting some non-normal tendencies either by a non zero skew or a non zero kurtosis."
   ]
  },
  {
   "cell_type": "code",
   "execution_count": 38,
   "id": "51bdb3cd",
   "metadata": {},
   "outputs": [
    {
     "name": "stdout",
     "output_type": "stream",
     "text": [
      "Median 674.0781850048184\n",
      "Interquartile Range 847.6924433308365\n",
      "Mean 774.606367090484\n",
      "Standard Deviation 635.6782246402964\n"
     ]
    }
   ],
   "source": [
    "def interquartile_range(arr):\n",
    "    q1 = np.percentile(arr, 25)\n",
    "    q3 = np.percentile(arr, 75)\n",
    "    return q3 - q1\n",
    "\n",
    "print(\"Median\", np.percentile(arr, 50))\n",
    "print(\"Interquartile Range\", interquartile_range(arr))\n",
    "print(\"Mean\", arr.mean())\n",
    "print(\"Standard Deviation\", arr.std())"
   ]
  },
  {
   "cell_type": "markdown",
   "id": "3394b08c",
   "metadata": {},
   "source": [
    "As you can see, the above robust statistics capture the same information - the center and the spread of the distribution, except because these are rank order statistics, they won't capture any information from the outliers.  This is because they only look at sorted order, these statistics are unaware of bias via outliers.\n",
    "\n",
    "Another important robust descriptive statistic is the [trimean](https://en.wikipedia.org/wiki/Trimean)."
   ]
  },
  {
   "cell_type": "code",
   "execution_count": 39,
   "id": "434228af",
   "metadata": {},
   "outputs": [
    {
     "name": "stdout",
     "output_type": "stream",
     "text": [
      "Trimean 701.5362669021401\n"
     ]
    }
   ],
   "source": [
    "def trimean(arr):\n",
    "    q1 = np.percentile(arr, 25)\n",
    "    q3 = np.percentile(arr, 75)\n",
    "    median = np.percentile(arr, 50)\n",
    "    return (q1 + 2*median + q3)/4\n",
    "\n",
    "print(\"Trimean\", trimean(arr))"
   ]
  },
  {
   "cell_type": "markdown",
   "id": "7a7d676f",
   "metadata": {},
   "source": [
    "\"An advantage of the trimean as a measure of the center (of a distribution) is that it combines the median's emphasis on center values with the midhinge's attention to the extremes.\"\n",
    "\n",
    "— Herbert F. Weisberg, Central Tendency and Variability"
   ]
  },
  {
   "cell_type": "code",
   "execution_count": null,
   "id": "64f71cba",
   "metadata": {},
   "outputs": [],
   "source": []
  }
 ],
 "metadata": {
  "kernelspec": {
   "display_name": "Python 3",
   "language": "python",
   "name": "python3"
  },
  "language_info": {
   "codemirror_mode": {
    "name": "ipython",
    "version": 3
   },
   "file_extension": ".py",
   "mimetype": "text/x-python",
   "name": "python",
   "nbconvert_exporter": "python",
   "pygments_lexer": "ipython3",
   "version": "3.9.5"
  }
 },
 "nbformat": 4,
 "nbformat_minor": 5
}
