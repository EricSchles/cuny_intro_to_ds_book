{
 "cells": [
  {
   "cell_type": "markdown",
   "id": "2b848de9",
   "metadata": {},
   "source": [
    "# Chapter 2 - More Python!\n",
    "\n",
    "In this chapter we will take a deeper dive into the Python language.  We'll be looking at Python strings and data structures in more depth.  We'll look at numpy arrays and some other bits and pieces.  The biggest thing we'll see in this chapter is functions.\n",
    "\n",
    "## Sections\n",
    "\n",
    "* lists, strings, tuples\n",
    "* numpy intro\n",
    "* functions\n",
    "* string processing"
   ]
  },
  {
   "cell_type": "code",
   "execution_count": null,
   "id": "1c9b17b9",
   "metadata": {},
   "outputs": [],
   "source": []
  }
 ],
 "metadata": {
  "kernelspec": {
   "display_name": "Python 3",
   "language": "python",
   "name": "python3"
  },
  "language_info": {
   "codemirror_mode": {
    "name": "ipython",
    "version": 3
   },
   "file_extension": ".py",
   "mimetype": "text/x-python",
   "name": "python",
   "nbconvert_exporter": "python",
   "pygments_lexer": "ipython3",
   "version": "3.9.5"
  }
 },
 "nbformat": 4,
 "nbformat_minor": 5
}
