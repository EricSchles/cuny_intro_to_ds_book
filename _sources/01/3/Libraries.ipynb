{
 "cells": [
  {
   "cell_type": "markdown",
   "id": "9074a4b7",
   "metadata": {},
   "source": [
    "# Some Libraries\n",
    "\n",
    "* Some Libraries\n",
    "    * math\n",
    "    * random\n",
    "\n",
    "## Some libraries\n",
    "\n",
    "Up until now we've been looking at the core of Python.  In some very specific instances we made use of libraries, but didn't really explain what they were, or why we could do such things.  In general the power of Python comes from a couple of places:\n",
    "\n",
    "* The core of the language provides structure for how code should look, but it doesn't provide that much functionality\n",
    "* The standard libraries provide significantly more functionality and power\n",
    "* External third party libraries developed by businesses and the open source community provide a truly awesome amount of functionality\n",
    "\n",
    "Today we'll be looking at some of the standard libraries in Python.  These don't require any extra installation and should work the same in this notebook as they do in your local machine.\n",
    "\n",
    "One thing to note though - it's important that you are using Python 3.6+.  If you are using an older version of Python on your machine, there is no guarantee that things will work the same way.  For this course, it's expected that you are using a 'current' Python version.  So if you don't have one, you can download it for free from: [python.org](https://www.python.org/)\n",
    "\n",
    "First let's look at how to use a library.  For this, we'll need to learn about import statements.\n",
    "\n",
    "An import statement, or colloquially, just an import, is how you bring libraries into your program.  In addition to bringing a whole library into your program, you can bring in just a part of a library or just a single function or piece of data into scope.  Some libraries are _very_ big so it's best to import what you need.  In other cases, importing the library won't work and you'll need import specific subsections of the library.  \n",
    "\n",
    "Let's start with a simple but very useful library - `math`."
   ]
  },
  {
   "cell_type": "code",
   "execution_count": 2,
   "id": "62695314",
   "metadata": {},
   "outputs": [
    {
     "name": "stdout",
     "output_type": "stream",
     "text": [
      "<module 'math' from '/Library/Frameworks/Python.framework/Versions/3.9/lib/python3.9/lib-dynload/math.cpython-39-darwin.so'>\n"
     ]
    }
   ],
   "source": [
    "import math\n",
    "\n",
    "print(math)"
   ]
  },
  {
   "cell_type": "markdown",
   "id": "4b1dceec",
   "metadata": {},
   "source": [
    "As you can see, we've 'imported' the `math` library.  To do this, we simply say `import` and then the name of the library, like so:\n",
    "\n",
    "`import [NAME OF SOME LIBRARY]`\n",
    "\n",
    "This is the simplest possible import statement.  There are plenty of variants of import statements.  For instance, if we just want access to all the functions in the `math` library we can do:"
   ]
  },
  {
   "cell_type": "code",
   "execution_count": 3,
   "id": "5cc18ff3",
   "metadata": {},
   "outputs": [],
   "source": [
    "from math import *"
   ]
  },
  {
   "cell_type": "markdown",
   "id": "60ccf264",
   "metadata": {},
   "source": [
    "The `from [LIBRARY] import *` is generally frowned upon as it's not obvious which functions we are importing.  So typically people will explicitly write all the functions we want from a given library.  \n",
    "\n",
    "In order to figure this out, we'll need to introduce something new - the `dir` function.  This comes builtin to Python and is generally super useful.  The `dir` function shows us all the functions associated with a library, amongst other things:"
   ]
  },
  {
   "cell_type": "code",
   "execution_count": 4,
   "id": "a4c48e24",
   "metadata": {
    "scrolled": true
   },
   "outputs": [
    {
     "data": {
      "text/plain": [
       "['__doc__',\n",
       " '__file__',\n",
       " '__loader__',\n",
       " '__name__',\n",
       " '__package__',\n",
       " '__spec__',\n",
       " 'acos',\n",
       " 'acosh',\n",
       " 'asin',\n",
       " 'asinh',\n",
       " 'atan',\n",
       " 'atan2',\n",
       " 'atanh',\n",
       " 'ceil',\n",
       " 'comb',\n",
       " 'copysign',\n",
       " 'cos',\n",
       " 'cosh',\n",
       " 'degrees',\n",
       " 'dist',\n",
       " 'e',\n",
       " 'erf',\n",
       " 'erfc',\n",
       " 'exp',\n",
       " 'expm1',\n",
       " 'fabs',\n",
       " 'factorial',\n",
       " 'floor',\n",
       " 'fmod',\n",
       " 'frexp',\n",
       " 'fsum',\n",
       " 'gamma',\n",
       " 'gcd',\n",
       " 'hypot',\n",
       " 'inf',\n",
       " 'isclose',\n",
       " 'isfinite',\n",
       " 'isinf',\n",
       " 'isnan',\n",
       " 'isqrt',\n",
       " 'lcm',\n",
       " 'ldexp',\n",
       " 'lgamma',\n",
       " 'log',\n",
       " 'log10',\n",
       " 'log1p',\n",
       " 'log2',\n",
       " 'modf',\n",
       " 'nan',\n",
       " 'nextafter',\n",
       " 'perm',\n",
       " 'pi',\n",
       " 'pow',\n",
       " 'prod',\n",
       " 'radians',\n",
       " 'remainder',\n",
       " 'sin',\n",
       " 'sinh',\n",
       " 'sqrt',\n",
       " 'tan',\n",
       " 'tanh',\n",
       " 'tau',\n",
       " 'trunc',\n",
       " 'ulp']"
      ]
     },
     "execution_count": 4,
     "metadata": {},
     "output_type": "execute_result"
    }
   ],
   "source": [
    "dir(math)"
   ]
  },
  {
   "cell_type": "markdown",
   "id": "fdceab42",
   "metadata": {},
   "source": [
    "Don't worry about the things with the `__` for now.  They'll be important in later chapters though!  Anyway, so now we can import specific functions from the library with an `from [LIBRARY] import function` statement:"
   ]
  },
  {
   "cell_type": "code",
   "execution_count": 5,
   "id": "e95e1a48",
   "metadata": {},
   "outputs": [],
   "source": [
    "from math import sqrt"
   ]
  },
  {
   "cell_type": "markdown",
   "id": "fce17b47",
   "metadata": {},
   "source": [
    "This imports `sqrt` which is the square root function, which is, as we know, very useful for lots of formulas.  If you aren't sure what a given function does, you can always look at the documentation.\n",
    "\n",
    "In Python this is done with the `help` function:"
   ]
  },
  {
   "cell_type": "code",
   "execution_count": 6,
   "id": "aa3e789c",
   "metadata": {},
   "outputs": [
    {
     "name": "stdout",
     "output_type": "stream",
     "text": [
      "Help on built-in function sqrt in module math:\n",
      "\n",
      "sqrt(x, /)\n",
      "    Return the square root of x.\n",
      "\n"
     ]
    }
   ],
   "source": [
    "help(sqrt)"
   ]
  },
  {
   "cell_type": "markdown",
   "id": "f2d974ea",
   "metadata": {},
   "source": [
    "Any good function will come with documentation, and all of the functions in the standard libraries in Python come with pretty good documentation, or docs for short.  \n",
    "\n",
    "Now that we've seen what this does, let's go through an example using it:"
   ]
  },
  {
   "cell_type": "code",
   "execution_count": 7,
   "id": "6926d593",
   "metadata": {},
   "outputs": [
    {
     "data": {
      "text/plain": [
       "2.0"
      ]
     },
     "execution_count": 7,
     "metadata": {},
     "output_type": "execute_result"
    }
   ],
   "source": [
    "sqrt(4)"
   ]
  },
  {
   "cell_type": "markdown",
   "id": "381adb09",
   "metadata": {},
   "source": [
    "The above should look pretty familiar - if it doesn't, the sqrt function takes the root of a square.  You see, you can actually represent numbers as something called a _number shape_.  This is how Pythagoras thought about numbers:\n",
    "\n",
    "![four as square](four_square.png \"four_square\")"
   ]
  },
  {
   "cell_type": "markdown",
   "id": "30b93042",
   "metadata": {},
   "source": [
    "As you can see, the number 4 is a perfect square.  That's because when we stack the dots together we end up with a square - each row has the same number of dots, and the number of dots in a row is equal to the number of rows.\n",
    "\n",
    "Let's look at another example:\n",
    "\n",
    "![nine as square](nine_square.png \"nine_square\")"
   ]
  },
  {
   "cell_type": "markdown",
   "id": "5c9f92bf",
   "metadata": {},
   "source": [
    "Okay - so how do we get the square root, or said another way, the root of the square?  Well, we just isolate a row and count the number of dots - that's the 'root' of the square!\n",
    "\n",
    "![four as square root](four_square_root.png \"four_square_root\")"
   ]
  },
  {
   "cell_type": "markdown",
   "id": "f950165d",
   "metadata": {},
   "source": [
    "For completeness, let's look at the square root picture for 9:\n",
    "\n",
    "![nine as square root](nine_square_root.png \"nine_square_root\")"
   ]
  },
  {
   "cell_type": "markdown",
   "id": "bce7b77f",
   "metadata": {},
   "source": [
    "The `sqrt` function in Python does the same thing as we just did above - it finds the 'root' of the square.  We can also also figure out the square root for numbers that don't have integer square roots - but we can't represent this graphically in a simple way with number shapes.  So we'll just show some examples:"
   ]
  },
  {
   "cell_type": "code",
   "execution_count": 8,
   "id": "d57da1ca",
   "metadata": {},
   "outputs": [
    {
     "data": {
      "text/plain": [
       "5.196152422706632"
      ]
     },
     "execution_count": 8,
     "metadata": {},
     "output_type": "execute_result"
    }
   ],
   "source": [
    "sqrt(27)"
   ]
  },
  {
   "cell_type": "code",
   "execution_count": 9,
   "id": "dece9220",
   "metadata": {},
   "outputs": [
    {
     "data": {
      "text/plain": [
       "7.3484692283495345"
      ]
     },
     "execution_count": 9,
     "metadata": {},
     "output_type": "execute_result"
    }
   ],
   "source": [
    "sqrt(54)"
   ]
  },
  {
   "cell_type": "markdown",
   "id": "f3c776d0",
   "metadata": {},
   "source": [
    "Not sure if you noticed - but in the list of math functions there was something called `pi` - this isn't a function.  This is Python attempting to represent the number `pi` as a float.  Ofcourse, we can never _actually_ do it because `pi` is irrational, and therefore is infinitely big, so computers can't represent it with infinite precision.  But we can get a useful subset of `pi` and use it for some mathematical calculations:"
   ]
  },
  {
   "cell_type": "code",
   "execution_count": 11,
   "id": "66346a12",
   "metadata": {},
   "outputs": [
    {
     "name": "stdout",
     "output_type": "stream",
     "text": [
      "3.141592653589793 1.7724538509055159\n"
     ]
    }
   ],
   "source": [
    "from math import pi\n",
    "\n",
    "print(pi, sqrt(pi))"
   ]
  },
  {
   "cell_type": "markdown",
   "id": "7037a92c",
   "metadata": {},
   "source": [
    "As you can see, we can see `sqrt` of `pi`!  But I digress.  There are a bunch more functions in math, like the trigonometric functions:\n",
    "\n",
    "* acos\n",
    "* acosh\n",
    "* asin\n",
    "* asinh\n",
    "* atan\n",
    "* atan2\n",
    "* atanh\n",
    "* cos\n",
    "* cosh\n",
    "* sin\n",
    "* sinh\n",
    "* tan\n",
    "* tanh\n",
    "\n",
    "Which we won't go over here, but you should generally be aware of!  \n",
    "\n",
    "Next we are going to look at the `random` library:\n",
    "\n",
    "Generally speaking `random` let's us generate random values.  This is going to be of huge importance for later chapters, so please play around with this library a lot!\n",
    "\n",
    "All of the standard libraries come with online documentation.  Here are [the docs for random](https://docs.python.org/3/library/random.html)\n",
    "\n",
    "Let's dive in within some functions in random:"
   ]
  },
  {
   "cell_type": "code",
   "execution_count": 14,
   "id": "9affb304",
   "metadata": {},
   "outputs": [
    {
     "name": "stdout",
     "output_type": "stream",
     "text": [
      "Help on method randint in module random:\n",
      "\n",
      "randint(a, b) method of random.Random instance\n",
      "    Return random integer in range [a, b], including both end points.\n",
      "\n"
     ]
    }
   ],
   "source": [
    "from random import randint\n",
    "\n",
    "help(randint)"
   ]
  },
  {
   "cell_type": "markdown",
   "id": "a484da5c",
   "metadata": {},
   "source": [
    "As we can see from the docs, randint let's us set a lower bound and an upper bound for the random integers that we generate:"
   ]
  },
  {
   "cell_type": "code",
   "execution_count": 15,
   "id": "e23be42d",
   "metadata": {},
   "outputs": [
    {
     "data": {
      "text/plain": [
       "9"
      ]
     },
     "execution_count": 15,
     "metadata": {},
     "output_type": "execute_result"
    }
   ],
   "source": [
    "randint(0, 10)"
   ]
  },
  {
   "cell_type": "markdown",
   "id": "90da4727",
   "metadata": {},
   "source": [
    "You should try running the above cell a bunch of times to see how the numbers change.\n",
    "\n",
    "Next I want to talk about something a little more high level: \n",
    "\n",
    "using `.` (dot) notation.  With dot notation, we reference the function of a library from the _namespace_ of the library.  That is the name of the library, followed by a dot, followed by the function:"
   ]
  },
  {
   "cell_type": "code",
   "execution_count": 17,
   "id": "fc2851e3",
   "metadata": {},
   "outputs": [
    {
     "data": {
      "text/plain": [
       "9"
      ]
     },
     "execution_count": 17,
     "metadata": {},
     "output_type": "execute_result"
    }
   ],
   "source": [
    "import random\n",
    "\n",
    "random.randint(0, 10)"
   ]
  },
  {
   "cell_type": "markdown",
   "id": "c8df12ee",
   "metadata": {},
   "source": [
    "The above code is the same as in the previous code cell, but the difference is, now we don't need to explicitly import each function, we can just call any of the functions from the library!  This isn't always preferred and it honestly really depends.  Some of this is a matter of choice, some of this is a matter of convention.  But it all depends on _how_ you want to call your functions.  \n",
    "\n",
    "Another piece of syntax associated with imports - `as`\n",
    "\n",
    "In addition to being able to import a library, you can also give it a different name than the name of the library:"
   ]
  },
  {
   "cell_type": "code",
   "execution_count": 20,
   "id": "24b74b95",
   "metadata": {},
   "outputs": [
    {
     "data": {
      "text/plain": [
       "True"
      ]
     },
     "execution_count": 20,
     "metadata": {},
     "output_type": "execute_result"
    }
   ],
   "source": [
    "import random as ran\n",
    "import random\n",
    "\n",
    "random is ran"
   ]
  },
  {
   "cell_type": "markdown",
   "id": "87d6fd5d",
   "metadata": {},
   "source": [
    "As you can see, the choice of giving the library a different name with `import [LIBRARY NAME] as [DIFFERENT NAME]` doesn't change any of it's functionality.  And may be a useful convention in certain cases.  The popular third party library - pandas - which we will use heavily later in this course often has an abbreviated name:"
   ]
  },
  {
   "cell_type": "code",
   "execution_count": 21,
   "id": "3520421c",
   "metadata": {},
   "outputs": [],
   "source": [
    "import pandas as pd"
   ]
  },
  {
   "cell_type": "markdown",
   "id": "dcd94494",
   "metadata": {},
   "source": [
    "You'll see this textbook use the above convention, basically always.  So best to get used to it now.  This is the convention followed wide and large in industry as well as open source projects, as well as the personal and professional projects of both the authors of this text."
   ]
  },
  {
   "cell_type": "code",
   "execution_count": null,
   "id": "a57cf32b",
   "metadata": {},
   "outputs": [],
   "source": []
  }
 ],
 "metadata": {
  "kernelspec": {
   "display_name": "Python 3",
   "language": "python",
   "name": "python3"
  },
  "language_info": {
   "codemirror_mode": {
    "name": "ipython",
    "version": 3
   },
   "file_extension": ".py",
   "mimetype": "text/x-python",
   "name": "python",
   "nbconvert_exporter": "python",
   "pygments_lexer": "ipython3",
   "version": "3.9.5"
  }
 },
 "nbformat": 4,
 "nbformat_minor": 5
}
