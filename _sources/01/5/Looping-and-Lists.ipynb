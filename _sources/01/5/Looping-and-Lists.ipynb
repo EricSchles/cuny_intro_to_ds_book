{
 "cells": [
  {
   "cell_type": "markdown",
   "id": "3617385b",
   "metadata": {},
   "source": [
    "# Iteration, The True Power Of Programming\n",
    "\n",
    "In general, when programming, the main thing we are concerned about is something called efficiency.  This specifically refers to how 'fast' in general our code is.  \n",
    "\n",
    "Well the reason why programs efficiency matters, is because we are going to do things a bunch of times. And when I say a bunch of times, I some times mean trillions of times.\n",
    "\n",
    "In order to do this, we use a technique called \"iteration\". This allows us to carry out an activity many, many times.\n",
    "\n",
    "Let's look at an example:"
   ]
  },
  {
   "cell_type": "code",
   "execution_count": 1,
   "id": "83008f4d",
   "metadata": {},
   "outputs": [
    {
     "name": "stdout",
     "output_type": "stream",
     "text": [
      "0\n",
      "1\n",
      "2\n",
      "3\n",
      "4\n",
      "5\n",
      "6\n",
      "7\n",
      "8\n",
      "9\n"
     ]
    }
   ],
   "source": [
    "index = 0\n",
    "\n",
    "while index < 10:\n",
    "    print(index)\n",
    "    index += 1"
   ]
  },
  {
   "cell_type": "markdown",
   "id": "1d74d5b6",
   "metadata": {},
   "source": [
    "The above simple example accomplishes a fairly trival task, it enumerates all the numbers between 0 and 9.  This is the basis for interation.  Iteration is _always_ indexed by the natural numbers.  That's why we name the variable we are \"iterating over\" the index.  As the index increases, we get closer and closer to the terminal statement.\n",
    "\n",
    "Here the terminal statement is inside a \"while\" loop.\n",
    "\n",
    "A while statement works somewhat like an if statement.  In an if statement, we check a condition and if the condition is True, then we execute a set of steps.  In a while loop, we check if a condition is True, the same way as before.  The difference being, we keep executing the statement, _until_ the statement is False.  This means any while loop has the potential to go on forever, without stopping.  \n",
    "\n",
    "The way we get around this generally is with something called a for loop, which will get to in a little while.\n",
    "\n",
    "Now that we have a means of iterating, let's go back to some of the examples we've looked at and add some iteration _spice_!\n",
    "\n",
    "First let's look at some stuff with random numbers.  Specifically, we'll see how often a random number is even or odd:"
   ]
  },
  {
   "cell_type": "code",
   "execution_count": 13,
   "id": "1805f983",
   "metadata": {},
   "outputs": [
    {
     "name": "stdout",
     "output_type": "stream",
     "text": [
      "Evens percentage: 0.4\n",
      "Odds percentage: 0.6\n"
     ]
    }
   ],
   "source": [
    "import random\n",
    "\n",
    "evens = 0\n",
    "odds = 0\n",
    "num_samples = 5\n",
    "i = 0\n",
    "while i < num_samples:\n",
    "    random_number = random.randint(0, 1000000)\n",
    "    if random_number % 2 == 0:\n",
    "        evens += 1\n",
    "    else:\n",
    "        odds += 1\n",
    "    i += 1\n",
    "        \n",
    "print(\"Evens percentage:\", evens/num_samples)\n",
    "print(\"Odds percentage:\", odds/num_samples)"
   ]
  },
  {
   "cell_type": "markdown",
   "id": "47d3b72e",
   "metadata": {},
   "source": [
    "Let's see what happens if we increase the sample size?  Do we get closer to 50/50 or further away?"
   ]
  },
  {
   "cell_type": "code",
   "execution_count": 14,
   "id": "1fda3f93",
   "metadata": {},
   "outputs": [
    {
     "name": "stdout",
     "output_type": "stream",
     "text": [
      "Evens percentage: 0.526\n",
      "Odds percentage: 0.474\n"
     ]
    }
   ],
   "source": [
    "import random\n",
    "\n",
    "evens = 0\n",
    "odds = 0\n",
    "num_samples = 500\n",
    "i = 0\n",
    "while i < num_samples:\n",
    "    random_number = random.randint(0, 1000000)\n",
    "    if random_number % 2 == 0:\n",
    "        evens += 1\n",
    "    else:\n",
    "        odds += 1\n",
    "    i += 1\n",
    "        \n",
    "print(\"Evens percentage:\", evens/num_samples)\n",
    "print(\"Odds percentage:\", odds/num_samples)"
   ]
  },
  {
   "cell_type": "markdown",
   "id": "cde303c8",
   "metadata": {},
   "source": [
    "Looks like we are getting closer, how many do we need to get to pretty much exactly 50/50?"
   ]
  },
  {
   "cell_type": "code",
   "execution_count": 15,
   "id": "154c7131",
   "metadata": {},
   "outputs": [
    {
     "name": "stdout",
     "output_type": "stream",
     "text": [
      "Evens percentage: 0.50208\n",
      "Odds percentage: 0.49792\n"
     ]
    }
   ],
   "source": [
    "import random\n",
    "\n",
    "evens = 0\n",
    "odds = 0\n",
    "num_samples = 50000\n",
    "i = 0\n",
    "while i < num_samples:\n",
    "    random_number = random.randint(0, 1000000)\n",
    "    if random_number % 2 == 0:\n",
    "        evens += 1\n",
    "    else:\n",
    "        odds += 1\n",
    "    i += 1\n",
    "        \n",
    "print(\"Evens percentage:\", evens/num_samples)\n",
    "print(\"Odds percentage:\", odds/num_samples)"
   ]
  },
  {
   "cell_type": "markdown",
   "id": "53bb1b67",
   "metadata": {},
   "source": [
    "Looks like we've gotten pretty close!  Let's do one more:"
   ]
  },
  {
   "cell_type": "code",
   "execution_count": 16,
   "id": "33457e7b",
   "metadata": {},
   "outputs": [
    {
     "name": "stdout",
     "output_type": "stream",
     "text": [
      "Evens percentage: 0.498772\n",
      "Odds percentage: 0.501228\n"
     ]
    }
   ],
   "source": [
    "import random\n",
    "\n",
    "evens = 0\n",
    "odds = 0\n",
    "num_samples = 500000\n",
    "i = 0\n",
    "while i < num_samples:\n",
    "    random_number = random.randint(0, 1000000)\n",
    "    if random_number % 2 == 0:\n",
    "        evens += 1\n",
    "    else:\n",
    "        odds += 1\n",
    "    i += 1\n",
    "        \n",
    "print(\"Evens percentage:\", evens/num_samples)\n",
    "print(\"Odds percentage:\", odds/num_samples)"
   ]
  },
  {
   "cell_type": "markdown",
   "id": "a7d23448",
   "metadata": {},
   "source": [
    "Looks like we got super close!  In general, the above example illustrates something called _asymptotic_ behavior.  This is the behavior that a system exhibits in the long run.  \n",
    "\n",
    "In this case - we know that the probability that a given natural number is even or odd is 50%.  However, getting to this experimentally isn't always obvious.  Important questions include:\n",
    "\n",
    "* How many samples do we need to draw before we get close to our theoretical value?\n",
    "* How do we define close?\n",
    "* Are we sure we are capturing the entire space of possible samples?  In otherwords, are there any 'rare' cases we need to look out for?"
   ]
  },
  {
   "cell_type": "markdown",
   "id": "a6d4e460",
   "metadata": {},
   "source": [
    "Next let's look at a modification of FizzBuzz:\n",
    "\n",
    "For integers 1 to N, print “Fizz” if an integer is divisible by 3, “Buzz” if an integer is divisible by 5, and “FizzBuzz” if an integer is divisible by both 3 and 5, otherwise print the integer.\n",
    "\n",
    "Notice the difference - now we'll iterate through a bunch of numbers, rather than some random number:"
   ]
  },
  {
   "cell_type": "code",
   "execution_count": 19,
   "id": "10cb1340",
   "metadata": {},
   "outputs": [
    {
     "name": "stdout",
     "output_type": "stream",
     "text": [
      "FizzBuzz\n",
      "1\n",
      "2\n",
      "Fizz\n",
      "4\n",
      "Buzz\n",
      "Fizz\n",
      "7\n",
      "8\n",
      "Fizz\n",
      "Buzz\n",
      "11\n",
      "Fizz\n",
      "13\n",
      "14\n",
      "FizzBuzz\n",
      "16\n",
      "17\n",
      "Fizz\n",
      "19\n"
     ]
    }
   ],
   "source": [
    "integer = 0\n",
    "while integer < 20:\n",
    "    if integer % 3 == 0 and integer % 5 == 0:\n",
    "        print(\"FizzBuzz\")\n",
    "    elif integer % 3 == 0:\n",
    "        print(\"Fizz\")\n",
    "    elif integer % 5 == 0:\n",
    "        print(\"Buzz\")\n",
    "    else:\n",
    "        print(integer)\n",
    "    integer += 1"
   ]
  },
  {
   "cell_type": "markdown",
   "id": "34cc59b9",
   "metadata": {},
   "source": [
    "## Lists\n",
    "\n",
    "Now that we've gotten through how to represent data and iteration, the next thing to do is learn to represent \"collections\" of variables.  For this will need something called a list:"
   ]
  },
  {
   "cell_type": "code",
   "execution_count": 2,
   "id": "c172d0de",
   "metadata": {},
   "outputs": [
    {
     "name": "stdout",
     "output_type": "stream",
     "text": [
      "[1, 2, 3, 4, 5]\n"
     ]
    }
   ],
   "source": [
    "listing = [1,2,3,4,5]\n",
    "\n",
    "print(listing)"
   ]
  },
  {
   "cell_type": "markdown",
   "id": "5731492f",
   "metadata": {},
   "source": [
    "Lists are different than the other variables we've seen thus far, in that in addition to being able to print the _entire_ collection, we can also print specific elements:"
   ]
  },
  {
   "cell_type": "code",
   "execution_count": 3,
   "id": "39376f16",
   "metadata": {},
   "outputs": [
    {
     "name": "stdout",
     "output_type": "stream",
     "text": [
      "1\n",
      "5\n"
     ]
    }
   ],
   "source": [
    "print(listing[0])\n",
    "print(listing[4])"
   ]
  },
  {
   "cell_type": "markdown",
   "id": "cce0f805",
   "metadata": {},
   "source": [
    "Notice that lists are \"zero-indexed\", so if there are \"N\" elements in our list, then the last number is in the \"N\"-1st position.  That's why, when we access the fourth index, we are actually getting the 5th element.\n",
    "\n",
    "Let's look at how to iterate over a list using a while loop:"
   ]
  },
  {
   "cell_type": "code",
   "execution_count": 4,
   "id": "a5edb4a8",
   "metadata": {},
   "outputs": [
    {
     "name": "stdout",
     "output_type": "stream",
     "text": [
      "1\n",
      "2\n",
      "3\n",
      "4\n",
      "5\n"
     ]
    }
   ],
   "source": [
    "listing = [1,2,3,4,5]\n",
    "\n",
    "index = 0\n",
    "while index < len(listing):\n",
    "    print(listing[index])\n",
    "    index += 1"
   ]
  },
  {
   "cell_type": "markdown",
   "id": "7f1b40ab",
   "metadata": {},
   "source": [
    "There is actually a short hand for above, the for loop that we talked about earlier:"
   ]
  },
  {
   "cell_type": "code",
   "execution_count": 5,
   "id": "223cef08",
   "metadata": {},
   "outputs": [
    {
     "name": "stdout",
     "output_type": "stream",
     "text": [
      "2\n",
      "3\n",
      "4\n",
      "5\n",
      "6\n"
     ]
    }
   ],
   "source": [
    "listing = [2,3,4,5,6]\n",
    "\n",
    "for element in listing:\n",
    "    print(element)"
   ]
  },
  {
   "cell_type": "markdown",
   "id": "01bccf60",
   "metadata": {},
   "source": [
    "I started this list at 2 just to make it clear that we iterate _over the elements_ of the list, not an index.\n",
    "\n",
    "And if we'd like to print the index _and_ the elements we can do so as follows:"
   ]
  },
  {
   "cell_type": "code",
   "execution_count": 6,
   "id": "37180888",
   "metadata": {},
   "outputs": [
    {
     "name": "stdout",
     "output_type": "stream",
     "text": [
      "The element is 1 at index 0\n",
      "The element is 2 at index 1\n",
      "The element is 3 at index 2\n",
      "The element is 4 at index 3\n",
      "The element is 5 at index 4\n"
     ]
    }
   ],
   "source": [
    "listing = [1,2,3,4,5]\n",
    "\n",
    "for index, element in enumerate(listing):\n",
    "    print(\"The element is\",element,\"at index\",index)"
   ]
  },
  {
   "cell_type": "markdown",
   "id": "c72f4ebe",
   "metadata": {},
   "source": [
    "Notice that we concatenated the element, index variables with the string by using `,`'s.  This will only work inside of a print statement.  If python sees a string and an integer then this won't work in general, so we cannot do the following:"
   ]
  },
  {
   "cell_type": "code",
   "execution_count": 7,
   "id": "556b2688",
   "metadata": {},
   "outputs": [
    {
     "ename": "TypeError",
     "evalue": "can only concatenate str (not \"int\") to str",
     "output_type": "error",
     "traceback": [
      "\u001b[0;31m---------------------------------------------------------------------------\u001b[0m",
      "\u001b[0;31mTypeError\u001b[0m                                 Traceback (most recent call last)",
      "\u001b[0;32m<ipython-input-7-29631da85a7a>\u001b[0m in \u001b[0;36m<module>\u001b[0;34m\u001b[0m\n\u001b[0;32m----> 1\u001b[0;31m \u001b[0;34m\"thing \"\u001b[0m \u001b[0;34m+\u001b[0m \u001b[0;36m5\u001b[0m\u001b[0;34m\u001b[0m\u001b[0;34m\u001b[0m\u001b[0m\n\u001b[0m",
      "\u001b[0;31mTypeError\u001b[0m: can only concatenate str (not \"int\") to str"
     ]
    }
   ],
   "source": [
    "\"thing \" + 5"
   ]
  },
  {
   "cell_type": "code",
   "execution_count": null,
   "id": "32420772",
   "metadata": {},
   "outputs": [],
   "source": []
  }
 ],
 "metadata": {
  "kernelspec": {
   "display_name": "Python 3",
   "language": "python",
   "name": "python3"
  },
  "language_info": {
   "codemirror_mode": {
    "name": "ipython",
    "version": 3
   },
   "file_extension": ".py",
   "mimetype": "text/x-python",
   "name": "python",
   "nbconvert_exporter": "python",
   "pygments_lexer": "ipython3",
   "version": "3.9.5"
  }
 },
 "nbformat": 4,
 "nbformat_minor": 5
}
