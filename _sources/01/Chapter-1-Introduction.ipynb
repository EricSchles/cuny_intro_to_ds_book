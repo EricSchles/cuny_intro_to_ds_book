{
 "cells": [
  {
   "cell_type": "markdown",
   "id": "ed862f1e",
   "metadata": {},
   "source": [
    "# Chapter 1 Introduction\n",
    "\n",
    "In this introductory chapter we will provide a whirlwind tour of all the wonderful things you can do with computer science and data science.  There is no expectation that you understand what's going on technically.  Instead, you should use this chapter as an explicit introduction to the material, while seeing how to apply programming and data science to solve problems in science and engineering.\n",
    "\n",
    "## Sections\n",
    "\n",
    "* Basics - 1\n",
    "    * Computation\n",
    "    * Python Programming Language\n",
    "    * Precision In Detail\n",
    "    * Floats\n",
    "    * Trading System Example\n",
    "* Going Deeper on Basics - 2\n",
    "    * Types in Detail \n",
    "        * ints\n",
    "        * floats\n",
    "        * strings\n",
    "        * booleans\n",
    "        * converting between types\n",
    "        * operators\n",
    "    * imports\n",
    "        * re\n",
    "        * math\n",
    "        * random\n",
    "        * statistics\n",
    "        * datetime\n",
    "        * shutil\n",
    "        * os\n",
    "        * pickle\n",
    "        * json\n",
    "        * time\n",
    "        * sys\n",
    "* Flow of control\n",
    "    * indenting in Python\n",
    "    * if/elif/else\n",
    "    * fizzbuzz\n",
    "    * evens and odds\n",
    "* iteration\n",
    "    * while loops\n",
    "    * lists\n",
    "        * indexing\n",
    "        * slicing\n",
    "        * size\n",
    "    * for loops\n",
    "    \n",
    "start here: https://github.com/EricSchles/datascience_book/blob/master/intro_to_python/engineering_basics/Introduction%20To%20Python.ipynb"
   ]
  },
  {
   "cell_type": "code",
   "execution_count": null,
   "id": "e3c5c300",
   "metadata": {},
   "outputs": [],
   "source": []
  }
 ],
 "metadata": {
  "kernelspec": {
   "display_name": "Python 3",
   "language": "python",
   "name": "python3"
  },
  "language_info": {
   "codemirror_mode": {
    "name": "ipython",
    "version": 3
   },
   "file_extension": ".py",
   "mimetype": "text/x-python",
   "name": "python",
   "nbconvert_exporter": "python",
   "pygments_lexer": "ipython3",
   "version": "3.9.5"
  }
 },
 "nbformat": 4,
 "nbformat_minor": 5
}
