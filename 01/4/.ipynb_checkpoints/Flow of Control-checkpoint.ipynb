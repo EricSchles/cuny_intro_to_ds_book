{
 "cells": [
  {
   "cell_type": "markdown",
   "id": "cee6a985",
   "metadata": {},
   "source": [
    "# Flow of Control\n",
    "\n",
    "* Flow of control\n",
    "    * indenting in Python\n",
    "    * if/elif/else\n",
    "    * fizzbuzz\n",
    "    * evens and odds\n",
    "    \n",
    "## Flow Of Control\n",
    "\n",
    "Now that we've looked at libraries and basic python types, it's time to start learning the power of computer science!  Basically everything we've done up until this point is just using a programming language as a _very_ fancy calculator, that is automating mathematics.  \n",
    "\n",
    "But now we'll explore the first thing we can't _really_ do with a calculator - flow of control. Flow of control centers around one basic notion - that if we can tell whether or not something is True, then we can draw conclusions from the truth of that statement.  \n",
    "\n",
    "Let's look at an example:\n",
    "\n",
    "Suppose you want to make sure, that no matter what random number you pick, it's always even.  How might you ensure that?\n",
    "\n",
    "Well, we can observe that all odd numbers are of the form: \n",
    "\n",
    "$$ 2k + 1 \\text{ s.t. } k \\in \\mathbb{N} $$\n",
    "\n",
    "If you aren't used to the above notation, the $ \\in $ stands for 'in' and the s.t. stands for 'such that'.\n",
    "\n",
    "So, knowing that all odd numbers are just an even number $+1$, we can simply add or subtract `1` to get another even number.\n",
    "\n",
    "There is one more piece of syntax before we can create our code - the modulo operator: `%`.\n",
    "\n",
    "The modulo operator gets the remainder from integer division instead of the quotient.  The way this works is by observing this fact:\n",
    "\n",
    "$$m = aq + r \\text{ s.t. } m,a,q,r \\in \\mathbb{N}$$\n",
    "\n",
    "That is - for any numbers, m and a such that:\n",
    "\n",
    "$m$ is divided by $a$ we get the above formula.\n",
    "\n",
    "Let's look at some examples to verify this:"
   ]
  },
  {
   "cell_type": "code",
   "execution_count": 5,
   "id": "991f5001",
   "metadata": {},
   "outputs": [
    {
     "name": "stdout",
     "output_type": "stream",
     "text": [
      "Quotient of 17/12 is 1\n",
      "Remainder of 17/12 is 5\n"
     ]
    }
   ],
   "source": [
    "m = 17\n",
    "a = 12\n",
    "\n",
    "print(f\"Quotient of {m}/{a} is\", m//a)\n",
    "print(f\"Remainder of {m}/{a} is\", m % a)"
   ]
  },
  {
   "cell_type": "markdown",
   "id": "aa5238af",
   "metadata": {},
   "source": [
    "What this says is: \n",
    "\n",
    "$$ 17 = (12*1) + 5 $$\n",
    "\n",
    "That seems right.  Will this always work?!  Yes!  Let's pick some random numbers:"
   ]
  },
  {
   "cell_type": "code",
   "execution_count": 7,
   "id": "cd9bca44",
   "metadata": {},
   "outputs": [
    {
     "name": "stdout",
     "output_type": "stream",
     "text": [
      "Quotient of 110895/75 is 1478\n",
      "Remainder of 110895/75 is 45\n"
     ]
    }
   ],
   "source": [
    "import random\n",
    "\n",
    "m = random.randint(101, 1000000)\n",
    "a = random.randint(0, 100)\n",
    "\n",
    "print(f\"Quotient of {m}/{a} is\", m//a)\n",
    "print(f\"Remainder of {m}/{a} is\", m % a)"
   ]
  },
  {
   "cell_type": "markdown",
   "id": "db7a5f3a",
   "metadata": {},
   "source": [
    "You can verify this works yourself by running the above code a bunch of times (it will always work)."
   ]
  },
  {
   "cell_type": "markdown",
   "id": "74379613",
   "metadata": {},
   "source": [
    "Now we are ready for our flow of control example:"
   ]
  },
  {
   "cell_type": "code",
   "execution_count": 8,
   "id": "3a387c35",
   "metadata": {},
   "outputs": [
    {
     "data": {
      "text/plain": [
       "762700"
      ]
     },
     "execution_count": 8,
     "metadata": {},
     "output_type": "execute_result"
    }
   ],
   "source": [
    "import random\n",
    "\n",
    "random_number = random.randint(0, 1000000)\n",
    "\n",
    "if random_number % 2 == 1:\n",
    "    random_number += 1\n",
    "\n",
    "random_number    "
   ]
  },
  {
   "cell_type": "markdown",
   "id": "fa28e784",
   "metadata": {},
   "source": [
    "As you can see, we always get an even number.  You can verify this too by running the above code as many times as you want.  It will always produce an even number.\n",
    "\n",
    "Now let's go over the flow of control syntax in a bit more detail:\n",
    "\n",
    "```\n",
    "if [STATEMENT THAT RESOLVES TO TRUE OR FALSE]:\n",
    "    [SOME CODE GOES HERE]\n",
    "``` \n",
    "\n",
    "First let's talk about the statement that resolves to true or false - this is just a variable of type boolean, as we've seen in previous sections.  That is, any statement that goes into the `if` statement just needs to resolve to one of the binary values `True` or `False`.\n",
    "\n",
    "Notice there is _some_ new syntax here:\n",
    "\n",
    "First, the `if` keyword - we always state any flow of control with an `if`, specifically this is saying \"if this statement is `True` then do the following.\n",
    "\n",
    "Next we have a `:` at the end of the boolean statement.  This indicates that we are about to go into what's called a new scope - that's code that may not _always_ run in every version of the program.  It's code that might only run sometimes.  \n",
    "\n",
    "Finally, our code is indented to indicate a change in scope.  This means it goes on a new line and is either tabbed in or whitespaced in.\n",
    "\n",
    "This final point can feel very conceptual, but once you get used to reading code this way, it appears elegant and useful.\n",
    "\n",
    "Intuitively the way I think of scoping rules is as the same as a to do list.  Let's look at an example for context:\n",
    "\n",
    "Things I need to do today:\n",
    "* brush my teeth\n",
    "* study a lot\n",
    "* learn some statistics\n",
    "* eat breakfast\n",
    "* eat lunch\n",
    "* eat dinner\n",
    "    \n",
    "As you can see the above list, the individual items are _tabbed_ in, so each item is implied to be within the _scope_ of the list, things I need to do today.\n",
    "\n",
    "Now let's talk about some consequences of changing scope - optionally created variables.  Best to look at an example for this:"
   ]
  },
  {
   "cell_type": "code",
   "execution_count": 2,
   "id": "e9cf84eb",
   "metadata": {},
   "outputs": [
    {
     "name": "stdout",
     "output_type": "stream",
     "text": [
      "16\n"
     ]
    }
   ],
   "source": [
    "x = 7\n",
    "\n",
    "if x == 7:\n",
    "    y = 9\n",
    "    x += y\n",
    "else:\n",
    "    z = 29\n",
    "    x += z\n",
    "    \n",
    "print(x)"
   ]
  },
  {
   "cell_type": "markdown",
   "id": "b60ad045",
   "metadata": {},
   "source": [
    "The above code introduces two new pieces of syntax - the first being the `else` statement, which works with the 'if' statement above - specifically the joint statement is:\n",
    "\n",
    "if x equals 7, create a variable y and add it to x, otherwise, create a variable z and it to x.\n",
    "\n",
    "We can sort of think of the else as the opposite of the if statement.  So if x equals anything _but_ 7 then do that.\n",
    "\n",
    "The next thing that's new is variables created in _local scope_.  So if x equals 7, then we create y, _but_ if it doesn't then y never get's created.  Likewise, if x equals 7, then z is _never_ created.  Let's verify this by trying to add `x + z`:"
   ]
  },
  {
   "cell_type": "code",
   "execution_count": 3,
   "id": "5b4aa512",
   "metadata": {},
   "outputs": [
    {
     "ename": "NameError",
     "evalue": "name 'z' is not defined",
     "output_type": "error",
     "traceback": [
      "\u001b[0;31m---------------------------------------------------------------------------\u001b[0m",
      "\u001b[0;31mNameError\u001b[0m                                 Traceback (most recent call last)",
      "\u001b[0;32m<ipython-input-3-2d5f8479e2db>\u001b[0m in \u001b[0;36m<module>\u001b[0;34m\u001b[0m\n\u001b[0;32m----> 1\u001b[0;31m \u001b[0mx\u001b[0m \u001b[0;34m+\u001b[0m \u001b[0mz\u001b[0m\u001b[0;34m\u001b[0m\u001b[0;34m\u001b[0m\u001b[0m\n\u001b[0m",
      "\u001b[0;31mNameError\u001b[0m: name 'z' is not defined"
     ]
    }
   ],
   "source": [
    "x + z"
   ]
  },
  {
   "cell_type": "markdown",
   "id": "32d6d0e9",
   "metadata": {},
   "source": [
    "As you can see, the scope for z was never entered, so the variable is number created.  That's why we get a `NameError`.  Before we move onto another topic there was one last piece of syntax we need to cover:\n",
    "\n",
    "`elif`\n",
    "\n",
    "The `elif` statement stands for else if, and executes only if the `if` statement is false.  Additionally the boolean in the `elif` statement needs to be true.  Let's look at an example using `elif`:"
   ]
  },
  {
   "cell_type": "code",
   "execution_count": 5,
   "id": "b986b707",
   "metadata": {},
   "outputs": [
    {
     "name": "stdout",
     "output_type": "stream",
     "text": [
      "12\n"
     ]
    }
   ],
   "source": [
    "x = 14\n",
    "\n",
    "if x == 12:\n",
    "    w = 1\n",
    "    x += w\n",
    "elif x == 14:\n",
    "    q = 2\n",
    "    x -= q\n",
    "\n",
    "print(x)"
   ]
  },
  {
   "cell_type": "markdown",
   "id": "22f14e04",
   "metadata": {},
   "source": [
    "As you can see, the elif statement executes because the if statement was false.  But what happens if both statements are true?"
   ]
  },
  {
   "cell_type": "code",
   "execution_count": 6,
   "id": "3edc5cfc",
   "metadata": {},
   "outputs": [
    {
     "name": "stdout",
     "output_type": "stream",
     "text": [
      "there are vowels here!\n"
     ]
    }
   ],
   "source": [
    "string = \"Hello there friends!\"\n",
    "\n",
    "if \"e\" in string:\n",
    "    print(\"there are vowels here!\")\n",
    "elif \"!\" in string:\n",
    "    print(\"this string has no alphabet characters\")\n",
    "else:\n",
    "    print(\"no e or ! here\")"
   ]
  },
  {
   "cell_type": "markdown",
   "id": "5886a5c9",
   "metadata": {},
   "source": [
    "As you can see, because the first condition was true, it executed, this happened _even though_ the condition in the `elif` was true.\n",
    "\n",
    "Also note, we introduced an `else` condition here - in this case, the code in the `else` block will only execute if neither the `if`, nor the `elif` statement happen to be true.\n",
    "\n",
    "Before we leave this topic, let's look at one more bit of functionality - multiple `elif`'s:"
   ]
  },
  {
   "cell_type": "code",
   "execution_count": 8,
   "id": "c97d87e8",
   "metadata": {},
   "outputs": [
    {
     "name": "stdout",
     "output_type": "stream",
     "text": [
      "there is a substring that spells 'the'\n"
     ]
    }
   ],
   "source": [
    "string = \"Hello there\"\n",
    "\n",
    "if \"z\" in string:\n",
    "    print(\"there is a 'z' here!\")\n",
    "elif \"!\" in string:\n",
    "    print(\"this string has no alphabet characters\")\n",
    "elif \"the\" in string:\n",
    "    print(\"there is a substring that spells 'the'\")\n",
    "else:\n",
    "    print(\"no e or ! here\")"
   ]
  },
  {
   "cell_type": "markdown",
   "id": "a912cf54",
   "metadata": {},
   "source": [
    "In this example there are _two_ elif statements. We execute the second one because the `if` _and_ the first `elif` are both `False`.  As an aside, in some cases, where you might have many `elif` statements, it might make more sense to combine some of these using boolean operators like `and` or `or`.  It all depends!\n",
    "\n",
    "Finally, let's look at a problem that is often asked on computer science interviews for junior developers - fizzbuzz.\n",
    "\n",
    "The fizzbuzz problem is written as follows:\n",
    "\n",
    "For a random integer, but print “Fizz” if an integer is divisible by 3, “Buzz” if an integer is divisible by 5, and “FizzBuzz” if an integer is divisible by both 3 and 5, otherwise print the integer.\n",
    "\n",
    "Before you see the answer - try implementing this yourself on a `.py` file.  It's good practice and likely to come up again on an interview.  \n",
    "\n",
    "Answer:"
   ]
  },
  {
   "cell_type": "code",
   "execution_count": 16,
   "id": "442e4a51",
   "metadata": {},
   "outputs": [
    {
     "name": "stdout",
     "output_type": "stream",
     "text": [
      "9618121\n"
     ]
    }
   ],
   "source": [
    "import random\n",
    "\n",
    "integer = random.randint(0, 10000000)\n",
    "\n",
    "if integer % 3 == 0 and integer % 5 == 0:\n",
    "    print(\"FizzBuzz\")\n",
    "elif integer % 3 == 0:\n",
    "    print(\"Fizz\")\n",
    "elif integer % 5 == 0:\n",
    "    print(\"Buzz\")\n",
    "else:\n",
    "    print(integer)"
   ]
  },
  {
   "cell_type": "markdown",
   "id": "b6ebde69",
   "metadata": {},
   "source": [
    "We check if the integer is divisible by 3 and by 5 first, because of the order of execution of the control statements -\n",
    "\n",
    "If we checked for divisability of 3 or 5 alone first, if the number was in fact divisible by both, we would never know.  So we _need_ to check for 3 and 5 first.  After that, the ordering doesn't matter.  Finally, we enter the else condition - simply printing the integer assuming it is neither divisible by 3 or 5.\n",
    "\n",
    "Before we leave this section - a note on divisability - can you figure out why if a number % 3 == 0 implies it's divisible by that number?\n",
    "\n",
    "Simply recall our division algorithm from earlier:\n",
    "\n",
    "$$ m = aq + r $$\n",
    "\n",
    "If $r=0$ this implies there is no remainder when we divide $\\frac{m}{a}$ this is why if $r=0$ then that's the same thing as _divisability_."
   ]
  },
  {
   "cell_type": "code",
   "execution_count": null,
   "id": "99469e52",
   "metadata": {},
   "outputs": [],
   "source": []
  }
 ],
 "metadata": {
  "kernelspec": {
   "display_name": "Python 3",
   "language": "python",
   "name": "python3"
  },
  "language_info": {
   "codemirror_mode": {
    "name": "ipython",
    "version": 3
   },
   "file_extension": ".py",
   "mimetype": "text/x-python",
   "name": "python",
   "nbconvert_exporter": "python",
   "pygments_lexer": "ipython3",
   "version": "3.9.5"
  }
 },
 "nbformat": 4,
 "nbformat_minor": 5
}
