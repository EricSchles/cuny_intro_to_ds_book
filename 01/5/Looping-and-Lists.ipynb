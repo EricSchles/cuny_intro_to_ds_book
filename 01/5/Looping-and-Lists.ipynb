{
 "cells": [
  {
   "cell_type": "markdown",
   "id": "3617385b",
   "metadata": {},
   "source": [
    "# Iteration, The True Power Of Programming\n",
    "\n",
    "In general, when programming, the main thing we are concerned about is something called efficiency.  This specifically refers to how 'fast' in general our code is.  \n",
    "\n",
    "Well the reason why programs efficiency matters, is because we are going to do things a bunch of times. And when I say a bunch of times, I some times mean trillions of times.\n",
    "\n",
    "In order to do this, we use a technique called \"iteration\". This allows us to carry out an activity many, many times.\n",
    "\n",
    "Let's look at an example:"
   ]
  },
  {
   "cell_type": "code",
   "execution_count": 1,
   "id": "83008f4d",
   "metadata": {},
   "outputs": [
    {
     "name": "stdout",
     "output_type": "stream",
     "text": [
      "0\n",
      "1\n",
      "2\n",
      "3\n",
      "4\n",
      "5\n",
      "6\n",
      "7\n",
      "8\n",
      "9\n"
     ]
    }
   ],
   "source": [
    "index = 0\n",
    "\n",
    "while index < 10:\n",
    "    print(index)\n",
    "    index += 1"
   ]
  },
  {
   "cell_type": "markdown",
   "id": "1d74d5b6",
   "metadata": {},
   "source": [
    "The above simple example accomplishes a fairly trival task, it enumerates all the numbers between 0 and 9.  This is the basis for interation.  Iteration is _always_ indexed by the natural numbers.  That's why we name the variable we are \"iterating over\" the index.  As the index increases, we get closer and closer to the terminal statement.\n",
    "\n",
    "Here the terminal statement is inside a \"while\" loop.\n",
    "\n",
    "A while statement works somewhat like an if statement.  In an if statement, we check a condition and if the condition is True, then we execute a set of steps.  In a while loop, we check if a condition is True, the same way as before.  The difference being, we keep executing the statement, _until_ the statement is False.  This means any while loop has the potential to go on forever, without stopping.  \n",
    "\n",
    "The way we get around this generally is with something called a for loop, which will get to in a little while.\n",
    "\n",
    "Now that we have a means of iterating, let's go back to some of the examples we've looked at and add some iteration _spice_!\n",
    "\n",
    "First let's look at some stuff with random numbers.  Specifically, we'll see how often a random number is even or odd:"
   ]
  },
  {
   "cell_type": "code",
   "execution_count": 13,
   "id": "1805f983",
   "metadata": {},
   "outputs": [
    {
     "name": "stdout",
     "output_type": "stream",
     "text": [
      "Evens percentage: 0.4\n",
      "Odds percentage: 0.6\n"
     ]
    }
   ],
   "source": [
    "import random\n",
    "\n",
    "evens = 0\n",
    "odds = 0\n",
    "num_samples = 5\n",
    "i = 0\n",
    "while i < num_samples:\n",
    "    random_number = random.randint(0, 1000000)\n",
    "    if random_number % 2 == 0:\n",
    "        evens += 1\n",
    "    else:\n",
    "        odds += 1\n",
    "    i += 1\n",
    "        \n",
    "print(\"Evens percentage:\", evens/num_samples)\n",
    "print(\"Odds percentage:\", odds/num_samples)"
   ]
  },
  {
   "cell_type": "markdown",
   "id": "47d3b72e",
   "metadata": {},
   "source": [
    "Let's see what happens if we increase the sample size?  Do we get closer to 50/50 or further away?"
   ]
  },
  {
   "cell_type": "code",
   "execution_count": 14,
   "id": "1fda3f93",
   "metadata": {},
   "outputs": [
    {
     "name": "stdout",
     "output_type": "stream",
     "text": [
      "Evens percentage: 0.526\n",
      "Odds percentage: 0.474\n"
     ]
    }
   ],
   "source": [
    "import random\n",
    "\n",
    "evens = 0\n",
    "odds = 0\n",
    "num_samples = 500\n",
    "i = 0\n",
    "while i < num_samples:\n",
    "    random_number = random.randint(0, 1000000)\n",
    "    if random_number % 2 == 0:\n",
    "        evens += 1\n",
    "    else:\n",
    "        odds += 1\n",
    "    i += 1\n",
    "        \n",
    "print(\"Evens percentage:\", evens/num_samples)\n",
    "print(\"Odds percentage:\", odds/num_samples)"
   ]
  },
  {
   "cell_type": "markdown",
   "id": "cde303c8",
   "metadata": {},
   "source": [
    "Looks like we are getting closer, how many do we need to get to pretty much exactly 50/50?"
   ]
  },
  {
   "cell_type": "code",
   "execution_count": 15,
   "id": "154c7131",
   "metadata": {},
   "outputs": [
    {
     "name": "stdout",
     "output_type": "stream",
     "text": [
      "Evens percentage: 0.50208\n",
      "Odds percentage: 0.49792\n"
     ]
    }
   ],
   "source": [
    "import random\n",
    "\n",
    "evens = 0\n",
    "odds = 0\n",
    "num_samples = 50000\n",
    "i = 0\n",
    "while i < num_samples:\n",
    "    random_number = random.randint(0, 1000000)\n",
    "    if random_number % 2 == 0:\n",
    "        evens += 1\n",
    "    else:\n",
    "        odds += 1\n",
    "    i += 1\n",
    "        \n",
    "print(\"Evens percentage:\", evens/num_samples)\n",
    "print(\"Odds percentage:\", odds/num_samples)"
   ]
  },
  {
   "cell_type": "markdown",
   "id": "53bb1b67",
   "metadata": {},
   "source": [
    "Looks like we've gotten pretty close!  Let's do one more:"
   ]
  },
  {
   "cell_type": "code",
   "execution_count": 16,
   "id": "33457e7b",
   "metadata": {},
   "outputs": [
    {
     "name": "stdout",
     "output_type": "stream",
     "text": [
      "Evens percentage: 0.498772\n",
      "Odds percentage: 0.501228\n"
     ]
    }
   ],
   "source": [
    "import random\n",
    "\n",
    "evens = 0\n",
    "odds = 0\n",
    "num_samples = 500000\n",
    "i = 0\n",
    "while i < num_samples:\n",
    "    random_number = random.randint(0, 1000000)\n",
    "    if random_number % 2 == 0:\n",
    "        evens += 1\n",
    "    else:\n",
    "        odds += 1\n",
    "    i += 1\n",
    "        \n",
    "print(\"Evens percentage:\", evens/num_samples)\n",
    "print(\"Odds percentage:\", odds/num_samples)"
   ]
  },
  {
   "cell_type": "markdown",
   "id": "a7d23448",
   "metadata": {},
   "source": [
    "Looks like we got super close!  In general, the above example illustrates something called _asymptotic_ behavior.  This is the behavior that a system exhibits in the long run.  \n",
    "\n",
    "In this case - we know that the probability that a given natural number is even or odd is 50%.  However, getting to this experimentally isn't always obvious.  Important questions include:\n",
    "\n",
    "* How many samples do we need to draw before we get close to our theoretical value?\n",
    "* How do we define close?\n",
    "* Are we sure we are capturing the entire space of possible samples?  In otherwords, are there any 'rare' cases we need to look out for?"
   ]
  },
  {
   "cell_type": "markdown",
   "id": "a6d4e460",
   "metadata": {},
   "source": [
    "Next let's look at a modification of FizzBuzz:\n",
    "\n",
    "For integers 1 to N, print “Fizz” if an integer is divisible by 3, “Buzz” if an integer is divisible by 5, and “FizzBuzz” if an integer is divisible by both 3 and 5, otherwise print the integer.\n",
    "\n",
    "Notice the difference - now we'll iterate through a bunch of numbers, rather than some random number:"
   ]
  },
  {
   "cell_type": "code",
   "execution_count": 19,
   "id": "10cb1340",
   "metadata": {},
   "outputs": [
    {
     "name": "stdout",
     "output_type": "stream",
     "text": [
      "FizzBuzz\n",
      "1\n",
      "2\n",
      "Fizz\n",
      "4\n",
      "Buzz\n",
      "Fizz\n",
      "7\n",
      "8\n",
      "Fizz\n",
      "Buzz\n",
      "11\n",
      "Fizz\n",
      "13\n",
      "14\n",
      "FizzBuzz\n",
      "16\n",
      "17\n",
      "Fizz\n",
      "19\n"
     ]
    }
   ],
   "source": [
    "integer = 0\n",
    "while integer < 20:\n",
    "    if integer % 3 == 0 and integer % 5 == 0:\n",
    "        print(\"FizzBuzz\")\n",
    "    elif integer % 3 == 0:\n",
    "        print(\"Fizz\")\n",
    "    elif integer % 5 == 0:\n",
    "        print(\"Buzz\")\n",
    "    else:\n",
    "        print(integer)\n",
    "    integer += 1"
   ]
  },
  {
   "cell_type": "markdown",
   "id": "34cc59b9",
   "metadata": {},
   "source": [
    "## Lists\n",
    "\n",
    "Now that we've gotten through how to represent data and iteration, the next thing to do is learn to represent \"collections\" of variables.  For this will need something called a list:"
   ]
  },
  {
   "cell_type": "code",
   "execution_count": 2,
   "id": "c172d0de",
   "metadata": {},
   "outputs": [
    {
     "name": "stdout",
     "output_type": "stream",
     "text": [
      "[1, 2, 3, 4, 5]\n"
     ]
    }
   ],
   "source": [
    "listing = [1,2,3,4,5]\n",
    "\n",
    "print(listing)"
   ]
  },
  {
   "cell_type": "markdown",
   "id": "5731492f",
   "metadata": {},
   "source": [
    "Lists are different than the other variables we've seen thus far, in that in addition to being able to print the _entire_ collection, we can also print specific elements:"
   ]
  },
  {
   "cell_type": "code",
   "execution_count": 3,
   "id": "39376f16",
   "metadata": {},
   "outputs": [
    {
     "name": "stdout",
     "output_type": "stream",
     "text": [
      "1\n",
      "5\n"
     ]
    }
   ],
   "source": [
    "print(listing[0])\n",
    "print(listing[4])"
   ]
  },
  {
   "cell_type": "markdown",
   "id": "cce0f805",
   "metadata": {},
   "source": [
    "Notice that lists are \"zero-indexed\", so if there are \"N\" elements in our list, then the last number is in the \"N\"-1st position.  That's why, when we access the fourth index, we are actually getting the 5th element.\n",
    "\n",
    "In addition to being able to store elements of the same type, we can also have lists with _multiple_ element types:"
   ]
  },
  {
   "cell_type": "code",
   "execution_count": 2,
   "id": "b2644b61",
   "metadata": {},
   "outputs": [
    {
     "data": {
      "text/plain": [
       "[1, 5.07, 'hello', True, 48]"
      ]
     },
     "execution_count": 2,
     "metadata": {},
     "output_type": "execute_result"
    }
   ],
   "source": [
    "x = 42 + 6\n",
    "listing = [1, 5.07, \"hello\", True, x]\n",
    "listing"
   ]
  },
  {
   "cell_type": "markdown",
   "id": "199e919a",
   "metadata": {},
   "source": [
    "As the above example shows, we can store all of the basic types that we've seen so far in a list.  We can even store _variables_ in a list.  In addition to being able to store basic types, we can also store _functions_:"
   ]
  },
  {
   "cell_type": "code",
   "execution_count": 3,
   "id": "f6309092",
   "metadata": {},
   "outputs": [
    {
     "data": {
      "text/plain": [
       "25"
      ]
     },
     "execution_count": 3,
     "metadata": {},
     "output_type": "execute_result"
    }
   ],
   "source": [
    "import random\n",
    "\n",
    "list_of_functions = [min, max, random.random, random.randint]\n",
    "\n",
    "list_of_functions[0](25, 40)"
   ]
  },
  {
   "cell_type": "markdown",
   "id": "dc257f64",
   "metadata": {},
   "source": [
    "While the above example doesn't get used that often programmatically, it's still _possible_.  So far, we've only added elements to a list at assignment to a variable name.  But what if we wanted to start with an empty list and then _add_ elements, how would that work?\n",
    "\n",
    "There are a few ways to do this:\n",
    "\n",
    "* append - using this method we add elements to the end of the list\n",
    "* insert - using this method we can add elements to any position of the list, however this requires us to specify the index we would like to add our element to.\n",
    "\n",
    "Let's see some examples:"
   ]
  },
  {
   "cell_type": "code",
   "execution_count": 6,
   "id": "7fba3275",
   "metadata": {},
   "outputs": [
    {
     "name": "stdout",
     "output_type": "stream",
     "text": [
      "[5]\n",
      "[5, 6]\n"
     ]
    },
    {
     "data": {
      "text/plain": [
       "[5, 6, 7]"
      ]
     },
     "execution_count": 6,
     "metadata": {},
     "output_type": "execute_result"
    }
   ],
   "source": [
    "listing = []\n",
    "listing.append(5)\n",
    "print(listing)\n",
    "listing.append(6)\n",
    "print(listing)\n",
    "listing.append(7)\n",
    "\n",
    "listing"
   ]
  },
  {
   "cell_type": "markdown",
   "id": "5a537780",
   "metadata": {},
   "source": [
    "As you can see, we first instantiate our list by assigning an empty list to the variable `listing`.  Then we add elements to the end of the list, one by one.  As stated above, using the append, 'appends' the elements to the end of our list.  This is a good typical practice, because it creates a notion of sequencing via operation.  In other words, the first element added to the list appears in the 1st position of the list, the 2nd in the second position and so on.  So we know where the element we added ended up based on it's index.  This isn't _always_ the right thing to do.  For those cases, we have the `insert` function associated with the list.\n",
    "\n",
    "Let's look at an example using insert now:"
   ]
  },
  {
   "cell_type": "code",
   "execution_count": 8,
   "id": "0b377f7f",
   "metadata": {},
   "outputs": [
    {
     "name": "stdout",
     "output_type": "stream",
     "text": [
      "[5, 6, 7]\n",
      "[4, 5, 6, 7]\n"
     ]
    }
   ],
   "source": [
    "listing = []\n",
    "\n",
    "listing.append(5)\n",
    "listing.append(6)\n",
    "listing.append(7)\n",
    "print(listing)\n",
    "listing.insert(0, 4)\n",
    "\n",
    "print(listing)"
   ]
  },
  {
   "cell_type": "markdown",
   "id": "87781494",
   "metadata": {},
   "source": [
    "Here we add the `4` in position zero, aka the first position, so that we can keep our list in order.  Note: lists need not be ordered, although it is a nice property to have from time to time.  \n",
    "\n",
    "We can also insert elements in any _available_ position in the list.  Let's look at an example of this:"
   ]
  },
  {
   "cell_type": "code",
   "execution_count": 9,
   "id": "027c3281",
   "metadata": {},
   "outputs": [
    {
     "name": "stdout",
     "output_type": "stream",
     "text": [
      "[5, 6, 7]\n",
      "[5, 17, 6, 7]\n"
     ]
    }
   ],
   "source": [
    "listing = []\n",
    "\n",
    "listing.append(5)\n",
    "listing.append(6)\n",
    "listing.append(7)\n",
    "print(listing)\n",
    "listing.insert(1, 17)\n",
    "print(listing)\n"
   ]
  },
  {
   "cell_type": "markdown",
   "id": "5375b3b3",
   "metadata": {},
   "source": [
    "What would happen if we tried to insert in position 18 in the above list?  Note, the list only has 4 elements:"
   ]
  },
  {
   "cell_type": "code",
   "execution_count": 11,
   "id": "39c1250e",
   "metadata": {},
   "outputs": [
    {
     "data": {
      "text/plain": [
       "[5, 17, 6, 7, 27, 27]"
      ]
     },
     "execution_count": 11,
     "metadata": {},
     "output_type": "execute_result"
    }
   ],
   "source": [
    "listing.insert(18, 27)\n",
    "listing"
   ]
  },
  {
   "cell_type": "markdown",
   "id": "79285ce4",
   "metadata": {},
   "source": [
    "In Python, since we don't have an 18th position, Python lists do the intelligent thing and just add the element to the end of the list."
   ]
  },
  {
   "cell_type": "markdown",
   "id": "2097458e",
   "metadata": {},
   "source": [
    "Now let's combine what we've learned so far - this is how to iterate over a list using a while loop:"
   ]
  },
  {
   "cell_type": "code",
   "execution_count": 4,
   "id": "a5edb4a8",
   "metadata": {},
   "outputs": [
    {
     "name": "stdout",
     "output_type": "stream",
     "text": [
      "1\n",
      "2\n",
      "3\n",
      "4\n",
      "5\n"
     ]
    }
   ],
   "source": [
    "listing = [1,2,3,4,5]\n",
    "\n",
    "index = 0\n",
    "while index < len(listing):\n",
    "    print(listing[index])\n",
    "    index += 1"
   ]
  },
  {
   "cell_type": "markdown",
   "id": "bfb6a58d",
   "metadata": {},
   "source": [
    "Now that we can add a bunch of elements to a list at once, we can also do a few more things with lists - that is we can calculate information over the elements of the list.  For instance, suppose we had a list of random elements and wanted to know the value of the minimum element:"
   ]
  },
  {
   "cell_type": "code",
   "execution_count": 13,
   "id": "a5f53cf8",
   "metadata": {},
   "outputs": [
    {
     "data": {
      "text/plain": [
       "11"
      ]
     },
     "execution_count": 13,
     "metadata": {},
     "output_type": "execute_result"
    }
   ],
   "source": [
    "import random\n",
    "\n",
    "listing = []\n",
    "size = 1000\n",
    "index = 0\n",
    "\n",
    "while index < size:\n",
    "    listing.append(random.randint(0, 10000))\n",
    "    index += 1\n",
    "    \n",
    "min(listing)"
   ]
  },
  {
   "cell_type": "markdown",
   "id": "756aa444",
   "metadata": {},
   "source": [
    "The `min` function gives us the ability to _describe_ some sense of the information within the list, without having to look at _every_ element.  There are a bunch of functions for describing data, another one is `max`:"
   ]
  },
  {
   "cell_type": "code",
   "execution_count": 14,
   "id": "cc749f7c",
   "metadata": {},
   "outputs": [
    {
     "data": {
      "text/plain": [
       "9990"
      ]
     },
     "execution_count": 14,
     "metadata": {},
     "output_type": "execute_result"
    }
   ],
   "source": [
    "import random\n",
    "\n",
    "listing = []\n",
    "size = 1000\n",
    "index = 0\n",
    "\n",
    "while index < size:\n",
    "    listing.append(random.randint(0, 10000))\n",
    "    index += 1\n",
    "    \n",
    "max(listing)"
   ]
  },
  {
   "cell_type": "markdown",
   "id": "91cb0c8d",
   "metadata": {},
   "source": [
    "If we were interested in the boundaries of our list, we would get both of these descriptives at once:"
   ]
  },
  {
   "cell_type": "code",
   "execution_count": 15,
   "id": "9c71cf15",
   "metadata": {},
   "outputs": [
    {
     "data": {
      "text/plain": [
       "(2, 10000)"
      ]
     },
     "execution_count": 15,
     "metadata": {},
     "output_type": "execute_result"
    }
   ],
   "source": [
    "import random\n",
    "\n",
    "listing = []\n",
    "size = 1000\n",
    "index = 0\n",
    "\n",
    "while index < size:\n",
    "    listing.append(random.randint(0, 10000))\n",
    "    index += 1\n",
    "    \n",
    "min(listing), max(listing)"
   ]
  },
  {
   "cell_type": "markdown",
   "id": "9110d240",
   "metadata": {},
   "source": [
    "This gives us a sense of the _range_ of our random data, how big the difference is between the smallest and largest elements.\n",
    "\n",
    "Within while loops there is a lot of syntax you need to account for, the extra required pieces do mean you have more flexability, but often you don't need that much flexability.  And the extra syntax can often lead to errors.  For instance, suppose we had the following while loop:\n",
    "\n",
    "```python\n",
    "listing = []\n",
    "size = 1000\n",
    "index = 0\n",
    "\n",
    "while index < size:\n",
    "    listing.append(1)\n",
    "    index += 1\n",
    "    \n",
    "summa = 0\n",
    "while index <= size:\n",
    "    summa += listing[index]\n",
    "    index += 1\n",
    "```\n",
    "\n",
    "Would this work?  We'll try it now just to see:"
   ]
  },
  {
   "cell_type": "code",
   "execution_count": 17,
   "id": "fbdf01b5",
   "metadata": {},
   "outputs": [
    {
     "ename": "IndexError",
     "evalue": "list index out of range",
     "output_type": "error",
     "traceback": [
      "\u001b[0;31m---------------------------------------------------------------------------\u001b[0m",
      "\u001b[0;31mIndexError\u001b[0m                                Traceback (most recent call last)",
      "\u001b[0;32m<ipython-input-17-a245d35b3565>\u001b[0m in \u001b[0;36m<module>\u001b[0;34m\u001b[0m\n\u001b[1;32m      9\u001b[0m \u001b[0msumma\u001b[0m \u001b[0;34m=\u001b[0m \u001b[0;36m0\u001b[0m\u001b[0;34m\u001b[0m\u001b[0;34m\u001b[0m\u001b[0m\n\u001b[1;32m     10\u001b[0m \u001b[0;32mwhile\u001b[0m \u001b[0mindex\u001b[0m \u001b[0;34m<=\u001b[0m \u001b[0msize\u001b[0m\u001b[0;34m:\u001b[0m\u001b[0;34m\u001b[0m\u001b[0;34m\u001b[0m\u001b[0m\n\u001b[0;32m---> 11\u001b[0;31m     \u001b[0msumma\u001b[0m \u001b[0;34m+=\u001b[0m \u001b[0mlisting\u001b[0m\u001b[0;34m[\u001b[0m\u001b[0mindex\u001b[0m\u001b[0;34m]\u001b[0m\u001b[0;34m\u001b[0m\u001b[0;34m\u001b[0m\u001b[0m\n\u001b[0m\u001b[1;32m     12\u001b[0m     \u001b[0mindex\u001b[0m \u001b[0;34m+=\u001b[0m \u001b[0;36m1\u001b[0m\u001b[0;34m\u001b[0m\u001b[0;34m\u001b[0m\u001b[0m\n",
      "\u001b[0;31mIndexError\u001b[0m: list index out of range"
     ]
    }
   ],
   "source": [
    "listing = []\n",
    "size = 1000\n",
    "index = 0\n",
    "\n",
    "while index < size:\n",
    "    listing.append(1)\n",
    "    index += 1\n",
    "    \n",
    "summa = 0\n",
    "while index <= size:\n",
    "    summa += listing[index]\n",
    "    index += 1"
   ]
  },
  {
   "cell_type": "markdown",
   "id": "4cfd68d7",
   "metadata": {},
   "source": [
    "This is one of the most common errors in computer programming, and not always easy to catch - an index out of bounds error.  This error happens when we try to index into the array at a position that is _larger_ than the array.  Since the computer doesn't have any data in that position, the computer doesn't know what to return and therefore raises an error."
   ]
  },
  {
   "cell_type": "markdown",
   "id": "93723133",
   "metadata": {},
   "source": [
    "That's why computer scientists developed a short hand for the while loop, called a for loop:"
   ]
  },
  {
   "cell_type": "code",
   "execution_count": 5,
   "id": "223cef08",
   "metadata": {},
   "outputs": [
    {
     "name": "stdout",
     "output_type": "stream",
     "text": [
      "2\n",
      "3\n",
      "4\n",
      "5\n",
      "6\n"
     ]
    }
   ],
   "source": [
    "listing = [2,3,4,5,6]\n",
    "\n",
    "for element in listing:\n",
    "    print(element)"
   ]
  },
  {
   "cell_type": "markdown",
   "id": "01bccf60",
   "metadata": {},
   "source": [
    "I started this list at 2 just to make it clear that we iterate _over the elements_ of the list, not an index.  The for loop continues to iterate until the list is out of elements.  That means we can never end up with out of bounds errors.  \n",
    "\n",
    "And if we'd like to print the index _and_ the elements we can do so as follows:"
   ]
  },
  {
   "cell_type": "code",
   "execution_count": 6,
   "id": "37180888",
   "metadata": {},
   "outputs": [
    {
     "name": "stdout",
     "output_type": "stream",
     "text": [
      "The element is 1 at index 0\n",
      "The element is 2 at index 1\n",
      "The element is 3 at index 2\n",
      "The element is 4 at index 3\n",
      "The element is 5 at index 4\n"
     ]
    }
   ],
   "source": [
    "listing = [1,2,3,4,5]\n",
    "\n",
    "for index, element in enumerate(listing):\n",
    "    print(\"The element is\",element,\"at index\",index)"
   ]
  },
  {
   "cell_type": "markdown",
   "id": "c72f4ebe",
   "metadata": {},
   "source": [
    "Notice that we concatenated the element, index variables with the string by using `,`'s.  This will only work inside of a print statement.  If python sees a string and an integer then this won't work in general, so we cannot do the following:"
   ]
  },
  {
   "cell_type": "code",
   "execution_count": 7,
   "id": "556b2688",
   "metadata": {},
   "outputs": [
    {
     "ename": "TypeError",
     "evalue": "can only concatenate str (not \"int\") to str",
     "output_type": "error",
     "traceback": [
      "\u001b[0;31m---------------------------------------------------------------------------\u001b[0m",
      "\u001b[0;31mTypeError\u001b[0m                                 Traceback (most recent call last)",
      "\u001b[0;32m<ipython-input-7-29631da85a7a>\u001b[0m in \u001b[0;36m<module>\u001b[0;34m\u001b[0m\n\u001b[0;32m----> 1\u001b[0;31m \u001b[0;34m\"thing \"\u001b[0m \u001b[0;34m+\u001b[0m \u001b[0;36m5\u001b[0m\u001b[0;34m\u001b[0m\u001b[0;34m\u001b[0m\u001b[0m\n\u001b[0m",
      "\u001b[0;31mTypeError\u001b[0m: can only concatenate str (not \"int\") to str"
     ]
    }
   ],
   "source": [
    "\"thing \" + 5"
   ]
  },
  {
   "cell_type": "markdown",
   "id": "1de9b9f9",
   "metadata": {},
   "source": [
    "Notice from the above that with a while loop we can specify _multiple_ exit conditions, and we technically don't need something we can iterate over, like a list.  This means that while loops are capable of being _much_ cheaper from a memory standpoint and much more flexible than for loops.  That said, often times you don't need the extra flexability, and memory is pretty cheap these days, so it's unlikely a list is going to cost you much in terms of performance.\n",
    "\n",
    "Let's look at two examples of pieces of code and their running times, in terms of CPU time:"
   ]
  },
  {
   "cell_type": "code",
   "execution_count": 19,
   "id": "3836fe90",
   "metadata": {},
   "outputs": [
    {
     "name": "stdout",
     "output_type": "stream",
     "text": [
      "0.0039119720458984375 seconds\n",
      "482.452\n"
     ]
    }
   ],
   "source": [
    "import random\n",
    "import time\n",
    "\n",
    "start = time.time()\n",
    "summa = 0\n",
    "index = 0\n",
    "size = 1000\n",
    "while index < size:\n",
    "    summa += random.randint(0, 1000)\n",
    "    index += 1\n",
    "    \n",
    "print(time.time() - start, \"seconds\")\n",
    "print(summa/size)"
   ]
  },
  {
   "cell_type": "markdown",
   "id": "d5d760d5",
   "metadata": {},
   "source": [
    "This code takes the arithmetic mean, defined as:\n",
    "\n",
    "$$ \\frac{1}{n}  \\sum_{i=0}^{n} i $$\n",
    "\n",
    "We can also do this with a for loop:"
   ]
  },
  {
   "cell_type": "code",
   "execution_count": 20,
   "id": "6a2e81f0",
   "metadata": {},
   "outputs": [
    {
     "name": "stdout",
     "output_type": "stream",
     "text": [
      "0.0056951045989990234 seconds\n",
      "504.363\n"
     ]
    }
   ],
   "source": [
    "import random\n",
    "import time\n",
    "\n",
    "start = time.time()\n",
    "summa = 0\n",
    "index = 0\n",
    "size = 1000\n",
    "listing = []\n",
    "while index < size:\n",
    "    listing.append(random.randint(0, 1000))\n",
    "    index += 1\n",
    "\n",
    "for elem in listing:\n",
    "    summa += elem\n",
    "print(time.time() - start, \"seconds\")\n",
    "print(summa/size)"
   ]
  },
  {
   "cell_type": "markdown",
   "id": "6aeb0286",
   "metadata": {},
   "source": [
    "Because we often need to populate a list with elements in a for loop, one of the things Python comes equiped with is the `range` function that iterates over an index _very_ fast.  This more or less makes up for the fact that you need to iterate over a list to use a for loop:"
   ]
  },
  {
   "cell_type": "code",
   "execution_count": 21,
   "id": "2367b7ce",
   "metadata": {},
   "outputs": [
    {
     "name": "stdout",
     "output_type": "stream",
     "text": [
      "0.005021095275878906 seconds\n",
      "497.977\n"
     ]
    }
   ],
   "source": [
    "import random\n",
    "import time\n",
    "\n",
    "start = time.time()\n",
    "summa = 0\n",
    "for elem in range(1000):\n",
    "    summa += random.randint(0, 1000)\n",
    "print(time.time() - start, \"seconds\")\n",
    "print(summa/size)"
   ]
  },
  {
   "cell_type": "markdown",
   "id": "1180de71",
   "metadata": {},
   "source": [
    "As you can see, the while loop is still a little bit faster, but the syntax is _so much_ simplier using the for loop.  That difference in complexity can be _very_ important.  Especially because expressing ideas programatically is often hard enough.  Typically there is no need for extra complicated syntax to save a few miliseconds."
   ]
  },
  {
   "cell_type": "code",
   "execution_count": null,
   "id": "d5285a4d",
   "metadata": {},
   "outputs": [],
   "source": []
  }
 ],
 "metadata": {
  "kernelspec": {
   "display_name": "Python 3",
   "language": "python",
   "name": "python3"
  },
  "language_info": {
   "codemirror_mode": {
    "name": "ipython",
    "version": 3
   },
   "file_extension": ".py",
   "mimetype": "text/x-python",
   "name": "python",
   "nbconvert_exporter": "python",
   "pygments_lexer": "ipython3",
   "version": "3.9.5"
  }
 },
 "nbformat": 4,
 "nbformat_minor": 5
}
